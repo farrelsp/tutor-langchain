{
 "cells": [
  {
   "cell_type": "code",
   "execution_count": 1,
   "id": "e2c07ecd",
   "metadata": {},
   "outputs": [
    {
     "data": {
      "text/plain": [
       "'https://api.smith.langchain.com'"
      ]
     },
     "execution_count": 1,
     "metadata": {},
     "output_type": "execute_result"
    }
   ],
   "source": [
    "import os\n",
    "from dotenv import load_dotenv\n",
    "\n",
    "load_dotenv()\n",
    "os.environ[\"LANGSMITH_ENDPOINT\"]"
   ]
  },
  {
   "cell_type": "code",
   "execution_count": 2,
   "id": "543e6465",
   "metadata": {},
   "outputs": [
    {
     "name": "stdout",
     "output_type": "stream",
     "text": [
      "Farrel Satya, it's a pleasure to meet you. As an AI Engineer at Google, that's quite an impressive job title. What specific area of AI are you working on or interested in? Are you part of a particular project or team that you're excited about? I'm curious to learn more about your work and how you contribute to the field of artificial intelligence.\n"
     ]
    }
   ],
   "source": [
    "from langchain_ollama import ChatOllama\n",
    "from langchain_core.prompts import (SystemMessagePromptTemplate, \n",
    "                                    HumanMessagePromptTemplate, \n",
    "                                    ChatPromptTemplate,\n",
    "                                    PromptTemplate,\n",
    "                                    MessagesPlaceholder)\n",
    "from langchain_core.output_parsers import StrOutputParser\n",
    "\n",
    "base_url = \"http://localhost:11434/\"\n",
    "model_name = \"llama3.2:1b\"\n",
    "\n",
    "llm = ChatOllama(\n",
    "    base_url = base_url,\n",
    "    model = model_name\n",
    ")\n",
    "\n",
    "template = ChatPromptTemplate.from_template(\"{prompt}\")\n",
    "chain = template | llm | StrOutputParser()\n",
    "\n",
    "prompt = \"My name is Farrel Satya. I work as an AI Engineer at Google.\"\n",
    "response = chain.invoke({\"prompt\": prompt})\n",
    "print(response)"
   ]
  },
  {
   "cell_type": "code",
   "execution_count": 3,
   "id": "e907620f",
   "metadata": {},
   "outputs": [
    {
     "name": "stdout",
     "output_type": "stream",
     "text": [
      "I'm not capable of knowing your identity or personal details. I'm an AI designed to provide information and assist with tasks, but I don't have the ability to store or access any personal data about individuals. Each time you interact with me, it's a new conversation and I don't retain any information from previous chats.\n"
     ]
    }
   ],
   "source": [
    "prompt = \"Do you know my name?\"\n",
    "response = chain.invoke({\"prompt\": prompt})\n",
    "print(response)"
   ]
  },
  {
   "cell_type": "markdown",
   "id": "2bb5322c",
   "metadata": {},
   "source": [
    "## RunnableWithHistory"
   ]
  },
  {
   "cell_type": "code",
   "execution_count": 4,
   "id": "87fce09a",
   "metadata": {},
   "outputs": [],
   "source": [
    "from langchain_core.runnables.history import RunnableWithMessageHistory\n",
    "from langchain_community.chat_message_histories import SQLChatMessageHistory"
   ]
  },
  {
   "cell_type": "code",
   "execution_count": 5,
   "id": "5a46a1d7",
   "metadata": {},
   "outputs": [],
   "source": [
    "def get_sql_history(session_id: str):\n",
    "  \"\"\"Return the chat history for a given session, backed by SQLite.\"\"\"\n",
    "  return SQLChatMessageHistory(\n",
    "    session_id=session_id,\n",
    "    connection_string=\"sqlite:///chat_history.db\",   \n",
    "    table_name=\"chat_history\",\n",
    "  )"
   ]
  },
  {
   "cell_type": "code",
   "execution_count": 13,
   "id": "4d151aed",
   "metadata": {},
   "outputs": [
    {
     "data": {
      "text/plain": [
       "[HumanMessage(content='Hi, I am Farrel Satya. I work as an AI Engineer.', additional_kwargs={}, response_metadata={}),\n",
       " AIMessage(content=\"Farrel Satya. As a conversational AI engineer, you must be working on some exciting projects to power the growth of artificial intelligence.\\n\\nWhat specific area of AI engineering are you currently focusing on? Are you working on natural language processing, machine learning, or something else? I'm here to help answer any questions you may have or provide guidance on how to overcome challenges.\", additional_kwargs={}, response_metadata={}),\n",
       " HumanMessage(content='What is my name?', additional_kwargs={}, response_metadata={}),\n",
       " AIMessage(content='Your name is Farrel Satya, correct?', additional_kwargs={}, response_metadata={})]"
      ]
     },
     "execution_count": 13,
     "metadata": {},
     "output_type": "execute_result"
    }
   ],
   "source": [
    "session_id = \"alice-chat-001\"\n",
    "history = get_sql_history(session_id=session_id)\n",
    "history.get_messages()"
   ]
  },
  {
   "cell_type": "code",
   "execution_count": 14,
   "id": "0c91feb6",
   "metadata": {},
   "outputs": [],
   "source": [
    "history.clear()"
   ]
  },
  {
   "cell_type": "code",
   "execution_count": 15,
   "id": "547dac73",
   "metadata": {},
   "outputs": [],
   "source": [
    "prompt = ChatPromptTemplate.from_messages(\n",
    "    [\n",
    "        SystemMessagePromptTemplate.from_template(\"You are a helpful assistant.\"),\n",
    "        MessagesPlaceholder(variable_name=\"history\"),\n",
    "        HumanMessagePromptTemplate.from_template(\"{question}\")\n",
    "    ]\n",
    ")"
   ]
  },
  {
   "cell_type": "code",
   "execution_count": 16,
   "id": "71a0b36a",
   "metadata": {},
   "outputs": [],
   "source": [
    "chain = prompt | llm | StrOutputParser()\n",
    "\n",
    "chain_with_history = RunnableWithMessageHistory(\n",
    "  chain,\n",
    "  get_session_history=get_sql_history,   \n",
    "  input_messages_key=\"question\",         \n",
    "  history_messages_key=\"history\",       \n",
    ")"
   ]
  },
  {
   "cell_type": "code",
   "execution_count": 17,
   "id": "02093666",
   "metadata": {},
   "outputs": [],
   "source": [
    "session_cfg = {\"configurable\": {\"session_id\": session_id}}"
   ]
  },
  {
   "cell_type": "code",
   "execution_count": null,
   "id": "bfec477c",
   "metadata": {},
   "outputs": [
    {
     "name": "stdout",
     "output_type": "stream",
     "text": [
      "Farrel Satya, nice to meet you. As an AI Engineer, I'd love to discuss your work with me. What specific aspects of Artificial Intelligence do you find most fascinating or challenging? Are you working on any exciting projects or exploring new areas in AI research?\n"
     ]
    }
   ],
   "source": [
    "print(chain_with_history.invoke(\n",
    "    {\"question\": \"Hi, I am Farrel Satya. I work as an AI Engineer.\"},   # first turn\n",
    "    config=session_cfg,\n",
    "))"
   ]
  },
  {
   "cell_type": "code",
   "execution_count": null,
   "id": "0204675f",
   "metadata": {},
   "outputs": [
    {
     "name": "stdout",
     "output_type": "stream",
     "text": [
      "Your name is Farrel Satya. Is there something else I can help you with, or would you like to know more about AI Engineering or discuss a particular topic related to AI?\n"
     ]
    }
   ],
   "source": [
    "print(chain_with_history.invoke(\n",
    "    {\"question\": \"What is my name?\"},  # second turn\n",
    "    config=session_cfg,\n",
    "))"
   ]
  },
  {
   "cell_type": "code",
   "execution_count": null,
   "id": "58ab56dd",
   "metadata": {},
   "outputs": [
    {
     "name": "stdout",
     "output_type": "stream",
     "text": [
      "I have some additional information about you. As an AI Engineer at Meta, your work likely involves designing and developing artificial intelligence systems, such as natural language processing (NLP) models or computer vision algorithms. Is that correct?\n"
     ]
    }
   ],
   "source": [
    "print(chain_with_history.invoke(\n",
    "    {\"question\": \"What is my occupation?\"},  # third turn\n",
    "    config=session_cfg,\n",
    "))"
   ]
  },
  {
   "cell_type": "code",
   "execution_count": 21,
   "id": "4d02e9f8",
   "metadata": {},
   "outputs": [
    {
     "data": {
      "text/plain": [
       "[HumanMessage(content='Hi, I am Farrel Satya. I work as an AI Engineer.', additional_kwargs={}, response_metadata={}),\n",
       " AIMessage(content=\"Farrel Satya, nice to meet you. As an AI Engineer, I'd love to discuss your work with me. What specific aspects of Artificial Intelligence do you find most fascinating or challenging? Are you working on any exciting projects or exploring new areas in AI research?\", additional_kwargs={}, response_metadata={}),\n",
       " HumanMessage(content='What is my name?', additional_kwargs={}, response_metadata={}),\n",
       " AIMessage(content='Your name is Farrel Satya. Is there something else I can help you with, or would you like to know more about AI Engineering or discuss a particular topic related to AI?', additional_kwargs={}, response_metadata={}),\n",
       " HumanMessage(content='What is my occupation?', additional_kwargs={}, response_metadata={}),\n",
       " AIMessage(content='I have some additional information about you. As an AI Engineer at Meta, your work likely involves designing and developing artificial intelligence systems, such as natural language processing (NLP) models or computer vision algorithms. Is that correct?', additional_kwargs={}, response_metadata={})]"
      ]
     },
     "execution_count": 21,
     "metadata": {},
     "output_type": "execute_result"
    }
   ],
   "source": [
    "history.get_messages()"
   ]
  },
  {
   "cell_type": "code",
   "execution_count": null,
   "id": "37cbe2e1",
   "metadata": {},
   "outputs": [],
   "source": []
  }
 ],
 "metadata": {
  "kernelspec": {
   "display_name": "Python (ml)",
   "language": "python",
   "name": "ml"
  },
  "language_info": {
   "codemirror_mode": {
    "name": "ipython",
    "version": 3
   },
   "file_extension": ".py",
   "mimetype": "text/x-python",
   "name": "python",
   "nbconvert_exporter": "python",
   "pygments_lexer": "ipython3",
   "version": "3.11.4"
  }
 },
 "nbformat": 4,
 "nbformat_minor": 5
}
