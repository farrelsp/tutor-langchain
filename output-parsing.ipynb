{
 "cells": [
  {
   "cell_type": "markdown",
   "id": "e2d5b4a4",
   "metadata": {},
   "source": [
    "# Output Parsing\n",
    "Output parsers are classes that help structure language model responses. There are two main methods an output parser must implement:\n",
    "\n",
    "- **Get format instructions**: A method which returns a string containing instructions for how the output of a language model should be formatted.\n",
    "- **Parse**: A method which takes in a string (assumed to be the response from a language model) and parses it into some structure."
   ]
  },
  {
   "cell_type": "markdown",
   "id": "48ddb379",
   "metadata": {},
   "source": [
    "## Pydantic Output Parser"
   ]
  },
  {
   "cell_type": "code",
   "execution_count": 17,
   "id": "1e705b9d",
   "metadata": {},
   "outputs": [
    {
     "data": {
      "text/plain": [
       "'https://api.smith.langchain.com'"
      ]
     },
     "execution_count": 17,
     "metadata": {},
     "output_type": "execute_result"
    }
   ],
   "source": [
    "import os\n",
    "from dotenv import load_dotenv\n",
    "\n",
    "load_dotenv()\n",
    "os.environ[\"LANGSMITH_ENDPOINT\"]"
   ]
  },
  {
   "cell_type": "code",
   "execution_count": 18,
   "id": "517f7ad1",
   "metadata": {},
   "outputs": [],
   "source": [
    "from langchain_ollama import ChatOllama\n",
    "from langchain_core.prompts import (SystemMessagePromptTemplate, \n",
    "                                    HumanMessagePromptTemplate, \n",
    "                                    ChatPromptTemplate,\n",
    "                                    PromptTemplate)\n",
    "\n",
    "base_url = \"http://localhost:11434/\"\n",
    "model_name = \"llama3.2\"\n",
    "\n",
    "llm = ChatOllama(\n",
    "    base_url = base_url,\n",
    "    model = model_name\n",
    ")"
   ]
  },
  {
   "cell_type": "code",
   "execution_count": 19,
   "id": "894f5b87",
   "metadata": {},
   "outputs": [],
   "source": [
    "from typing import Optional\n",
    "from pydantic import BaseModel, Field\n",
    "from langchain_core.output_parsers import PydanticOutputParser"
   ]
  },
  {
   "cell_type": "code",
   "execution_count": 20,
   "id": "d2f423c2",
   "metadata": {},
   "outputs": [],
   "source": [
    "class Joke(BaseModel):\n",
    "  \"\"\"Joke class to tell to the user.\"\"\"\n",
    "  \n",
    "  setup: str = Field(description=\"The setup of the joke.\")\n",
    "  punchline: str = Field(description=\"The punchline of the joke.\")\n",
    "  rating: Optional[int] = Field(description=\"The rating of the joke in the range of 1 to 10.\")"
   ]
  },
  {
   "cell_type": "code",
   "execution_count": 21,
   "id": "ed8cbe25",
   "metadata": {},
   "outputs": [
    {
     "data": {
      "text/plain": [
       "PydanticOutputParser(pydantic_object=<class '__main__.Joke'>)"
      ]
     },
     "execution_count": 21,
     "metadata": {},
     "output_type": "execute_result"
    }
   ],
   "source": [
    "parser = PydanticOutputParser(pydantic_object=Joke)\n",
    "parser"
   ]
  },
  {
   "cell_type": "code",
   "execution_count": 22,
   "id": "e6daefda",
   "metadata": {},
   "outputs": [
    {
     "name": "stdout",
     "output_type": "stream",
     "text": [
      "The output should be formatted as a JSON instance that conforms to the JSON schema below.\n",
      "\n",
      "As an example, for the schema {\"properties\": {\"foo\": {\"title\": \"Foo\", \"description\": \"a list of strings\", \"type\": \"array\", \"items\": {\"type\": \"string\"}}}, \"required\": [\"foo\"]}\n",
      "the object {\"foo\": [\"bar\", \"baz\"]} is a well-formatted instance of the schema. The object {\"properties\": {\"foo\": [\"bar\", \"baz\"]}} is not well-formatted.\n",
      "\n",
      "Here is the output schema:\n",
      "```\n",
      "{\"description\": \"Joke class to tell to the user.\", \"properties\": {\"setup\": {\"description\": \"The setup of the joke.\", \"title\": \"Setup\", \"type\": \"string\"}, \"punchline\": {\"description\": \"The punchline of the joke.\", \"title\": \"Punchline\", \"type\": \"string\"}, \"rating\": {\"anyOf\": [{\"type\": \"integer\"}, {\"type\": \"null\"}], \"description\": \"The rating of the joke in the range of 1 to 10.\", \"title\": \"Rating\"}}, \"required\": [\"setup\", \"punchline\", \"rating\"]}\n",
      "```\n"
     ]
    }
   ],
   "source": [
    "instruction = parser.get_format_instructions()\n",
    "print(instruction)"
   ]
  },
  {
   "cell_type": "code",
   "execution_count": 23,
   "id": "f1ddf023",
   "metadata": {},
   "outputs": [],
   "source": [
    "prompt = PromptTemplate(\n",
    "  template=\"\"\"\n",
    "  Answer the user query with a joke with this formatting instruction.\n",
    "  {format_instruction}\n",
    "  \n",
    "  Query: {query}\n",
    "  Answer:\"\"\",\n",
    "  input_variables=['query'],\n",
    "  partial_variables={'format_instruction': parser.get_format_instructions()}\n",
    ")"
   ]
  },
  {
   "cell_type": "code",
   "execution_count": 24,
   "id": "87ec10de",
   "metadata": {},
   "outputs": [
    {
     "data": {
      "text/plain": [
       "PromptTemplate(input_variables=['query'], input_types={}, partial_variables={'format_instruction': 'The output should be formatted as a JSON instance that conforms to the JSON schema below.\\n\\nAs an example, for the schema {\"properties\": {\"foo\": {\"title\": \"Foo\", \"description\": \"a list of strings\", \"type\": \"array\", \"items\": {\"type\": \"string\"}}}, \"required\": [\"foo\"]}\\nthe object {\"foo\": [\"bar\", \"baz\"]} is a well-formatted instance of the schema. The object {\"properties\": {\"foo\": [\"bar\", \"baz\"]}} is not well-formatted.\\n\\nHere is the output schema:\\n```\\n{\"description\": \"Joke class to tell to the user.\", \"properties\": {\"setup\": {\"description\": \"The setup of the joke.\", \"title\": \"Setup\", \"type\": \"string\"}, \"punchline\": {\"description\": \"The punchline of the joke.\", \"title\": \"Punchline\", \"type\": \"string\"}, \"rating\": {\"anyOf\": [{\"type\": \"integer\"}, {\"type\": \"null\"}], \"description\": \"The rating of the joke in the range of 1 to 10.\", \"title\": \"Rating\"}}, \"required\": [\"setup\", \"punchline\", \"rating\"]}\\n```'}, template='\\n  Answer the user query with a joke with this formatting instruction.\\n  {format_instruction}\\n  \\n  Query: {query}\\n  Answer:')\n",
       "| ChatOllama(model='llama3.2', base_url='http://localhost:11434/')"
      ]
     },
     "execution_count": 24,
     "metadata": {},
     "output_type": "execute_result"
    }
   ],
   "source": [
    "chain = prompt | llm\n",
    "chain"
   ]
  },
  {
   "cell_type": "code",
   "execution_count": 25,
   "id": "8a947125",
   "metadata": {},
   "outputs": [
    {
     "name": "stdout",
     "output_type": "stream",
     "text": [
      "{\"setup\": \"Why did the cat join a band?\", \"punchline\": \"Because it wanted to be the purr-cussionist!\", \"rating\": null}\n"
     ]
    }
   ],
   "source": [
    "response = chain.invoke({\"query\": \"Tell me a joke about cat.\"})\n",
    "print(response.content)"
   ]
  },
  {
   "cell_type": "code",
   "execution_count": 26,
   "id": "14962138",
   "metadata": {},
   "outputs": [
    {
     "name": "stdout",
     "output_type": "stream",
     "text": [
      "setup='Why did the cat join a band?' punchline='Because it wanted to be the purr-cussionist!' rating=None\n"
     ]
    }
   ],
   "source": [
    "chain = prompt | llm | parser\n",
    "response = chain.invoke({\"query\": \"Tell me a joke about cat.\"})\n",
    "print(response)"
   ]
  },
  {
   "cell_type": "markdown",
   "id": "ee0703a8",
   "metadata": {},
   "source": [
    "## Parsing with `.with_structured_output()`\n",
    "- This method takes a schema as input which specifies the names, types, and descriptions of the desired output attributes.\n",
    "-  The schema can be specified as a TypedDict class, JSON Schema or a Pydantic class."
   ]
  },
  {
   "cell_type": "code",
   "execution_count": 27,
   "id": "3183bef4",
   "metadata": {},
   "outputs": [
    {
     "name": "stdout",
     "output_type": "stream",
     "text": [
      "Why did the cat join a band?\n",
      "\n",
      "Because it wanted to be the purr-cussionist! (get it?)\n"
     ]
    }
   ],
   "source": [
    "response = llm.invoke(\"Tell me a joke about cat.\")\n",
    "print(response.content)"
   ]
  },
  {
   "cell_type": "code",
   "execution_count": 28,
   "id": "efe4147a",
   "metadata": {},
   "outputs": [
    {
     "data": {
      "text/plain": [
       "RunnableBinding(bound=ChatOllama(model='llama3.2', base_url='http://localhost:11434/'), kwargs={'tools': [{'type': 'function', 'function': {'name': 'Joke', 'description': 'Joke class to tell to the user.', 'parameters': {'properties': {'setup': {'description': 'The setup of the joke.', 'type': 'string'}, 'punchline': {'description': 'The punchline of the joke.', 'type': 'string'}, 'rating': {'anyOf': [{'type': 'integer'}, {'type': 'null'}], 'description': 'The rating of the joke in the range of 1 to 10.'}}, 'required': ['setup', 'punchline', 'rating'], 'type': 'object'}}}], 'tool_choice': 'any'}, config={}, config_factories=[])\n",
       "| PydanticToolsParser(first_tool_only=True, tools=[<class '__main__.Joke'>])"
      ]
     },
     "execution_count": 28,
     "metadata": {},
     "output_type": "execute_result"
    }
   ],
   "source": [
    "structured_llm = llm.with_structured_output(Joke)\n",
    "structured_llm"
   ]
  },
  {
   "cell_type": "code",
   "execution_count": 29,
   "id": "edd3012c",
   "metadata": {},
   "outputs": [
    {
     "name": "stdout",
     "output_type": "stream",
     "text": [
      "setup='Why did the cat join a band?' punchline='Because it wanted to be the purr-cussionist.' rating=8\n"
     ]
    }
   ],
   "source": [
    "response = structured_llm.invoke(\"Tell me a joke about cat.\")\n",
    "print(response)"
   ]
  },
  {
   "cell_type": "markdown",
   "id": "f3e9215e",
   "metadata": {},
   "source": [
    "## JSON Output Parser"
   ]
  },
  {
   "cell_type": "code",
   "execution_count": 30,
   "id": "da346a6a",
   "metadata": {},
   "outputs": [],
   "source": [
    "from langchain_core.output_parsers import JsonOutputParser"
   ]
  },
  {
   "cell_type": "code",
   "execution_count": 33,
   "id": "e9763101",
   "metadata": {},
   "outputs": [
    {
     "name": "stdout",
     "output_type": "stream",
     "text": [
      "The output should be formatted as a JSON instance that conforms to the JSON schema below.\n",
      "\n",
      "As an example, for the schema {\"properties\": {\"foo\": {\"title\": \"Foo\", \"description\": \"a list of strings\", \"type\": \"array\", \"items\": {\"type\": \"string\"}}}, \"required\": [\"foo\"]}\n",
      "the object {\"foo\": [\"bar\", \"baz\"]} is a well-formatted instance of the schema. The object {\"properties\": {\"foo\": [\"bar\", \"baz\"]}} is not well-formatted.\n",
      "\n",
      "Here is the output schema:\n",
      "```\n",
      "{\"description\": \"Joke class to tell to the user.\", \"properties\": {\"setup\": {\"description\": \"The setup of the joke.\", \"title\": \"Setup\", \"type\": \"string\"}, \"punchline\": {\"description\": \"The punchline of the joke.\", \"title\": \"Punchline\", \"type\": \"string\"}, \"rating\": {\"anyOf\": [{\"type\": \"integer\"}, {\"type\": \"null\"}], \"description\": \"The rating of the joke in the range of 1 to 10.\", \"title\": \"Rating\"}}, \"required\": [\"setup\", \"punchline\", \"rating\"]}\n",
      "```\n"
     ]
    }
   ],
   "source": [
    "json_parser = JsonOutputParser(pydantic_object=Joke)\n",
    "print(json_parser.get_format_instructions())"
   ]
  },
  {
   "cell_type": "code",
   "execution_count": 34,
   "id": "058d1f16",
   "metadata": {},
   "outputs": [],
   "source": [
    "prompt = PromptTemplate(\n",
    "  template=\"\"\"\n",
    "  Answer the user query with a joke with this formatting instruction.\n",
    "  {format_instruction}\n",
    "  \n",
    "  Query: {query}\n",
    "  Answer:\"\"\",\n",
    "  input_variables=['query'],\n",
    "  partial_variables={'format_instruction': json_parser.get_format_instructions()}\n",
    ")"
   ]
  },
  {
   "cell_type": "code",
   "execution_count": 35,
   "id": "870ef7fd",
   "metadata": {},
   "outputs": [
    {
     "name": "stdout",
     "output_type": "stream",
     "text": [
      "{'setup': 'Why did the cat join a band?', 'punchline': 'Because it wanted to be the purr-cussionist!', 'rating': 8}\n"
     ]
    }
   ],
   "source": [
    "chain = prompt | llm | json_parser\n",
    "response = chain.invoke({\"query\": \"Tell me a joke about cat.\"})\n",
    "print(response)"
   ]
  },
  {
   "cell_type": "markdown",
   "id": "7ee4cc6d",
   "metadata": {},
   "source": [
    "## CSV Output Parser"
   ]
  },
  {
   "cell_type": "code",
   "execution_count": 36,
   "id": "486b62c2",
   "metadata": {},
   "outputs": [],
   "source": [
    "from langchain_core.output_parsers import CommaSeparatedListOutputParser"
   ]
  },
  {
   "cell_type": "code",
   "execution_count": 38,
   "id": "c356412e",
   "metadata": {},
   "outputs": [
    {
     "name": "stdout",
     "output_type": "stream",
     "text": [
      "Your response should be a list of comma separated values, eg: `foo, bar, baz` or `foo,bar,baz`\n"
     ]
    }
   ],
   "source": [
    "csv_parser = CommaSeparatedListOutputParser()\n",
    "print(csv_parser.get_format_instructions())"
   ]
  },
  {
   "cell_type": "code",
   "execution_count": 39,
   "id": "18b14f68",
   "metadata": {},
   "outputs": [],
   "source": [
    "prompt = PromptTemplate(\n",
    "  template=\"\"\"\n",
    "  Answer the user query with a list of values. Here is the formatting instruction.\n",
    "  {format_instruction}\n",
    "  \n",
    "  Query: {query}\n",
    "  Answer:\"\"\",\n",
    "  input_variables=['query'],\n",
    "  partial_variables={'format_instruction': csv_parser.get_format_instructions()}\n",
    ")"
   ]
  },
  {
   "cell_type": "code",
   "execution_count": 40,
   "id": "ce7ab6e9",
   "metadata": {},
   "outputs": [
    {
     "name": "stdout",
     "output_type": "stream",
     "text": [
      "['natural language processing', 'large language models', 'machine learning', 'artificial intelligence', 'language understanding', 'text analysis', 'deep learning', 'neural networks', 'semantic search', 'intent identification']\n"
     ]
    }
   ],
   "source": [
    "chain = prompt | llm | csv_parser\n",
    "response = chain.invoke({\"query\": \"Generate my website SEO keywords. I have content about NLP and LLM.\"})\n",
    "print(response)"
   ]
  },
  {
   "cell_type": "markdown",
   "id": "97390adc",
   "metadata": {},
   "source": [
    "## Datetime Output Parser"
   ]
  },
  {
   "cell_type": "code",
   "execution_count": 42,
   "id": "dfbd14d4",
   "metadata": {},
   "outputs": [],
   "source": [
    "from langchain.output_parsers import DatetimeOutputParser"
   ]
  },
  {
   "cell_type": "code",
   "execution_count": 43,
   "id": "98946fd8",
   "metadata": {},
   "outputs": [
    {
     "name": "stdout",
     "output_type": "stream",
     "text": [
      "Write a datetime string that matches the following pattern: '%Y-%m-%dT%H:%M:%S.%fZ'.\n",
      "\n",
      "Examples: 1523-04-22T01:52:54.564926Z, 1226-01-22T04:48:49.224632Z, 0781-11-09T04:28:47.769173Z\n",
      "\n",
      "Return ONLY this string, no other words!\n"
     ]
    }
   ],
   "source": [
    "date_parser = DatetimeOutputParser()\n",
    "print(date_parser.get_format_instructions())"
   ]
  },
  {
   "cell_type": "code",
   "execution_count": 46,
   "id": "0c024b3a",
   "metadata": {},
   "outputs": [],
   "source": [
    "prompt = PromptTemplate(\n",
    "  template='''\n",
    "  Answer the user query with a datetime format. Here is your formatting instruction.\n",
    "  {format_instruction}\n",
    "\n",
    "  Query: {query}\n",
    "  Answer:''',\n",
    "  input_variables=['query'],\n",
    "  partial_variables={'format_instruction': date_parser.get_format_instructions()}\n",
    ")   "
   ]
  },
  {
   "cell_type": "code",
   "execution_count": 47,
   "id": "43ce82d2",
   "metadata": {},
   "outputs": [
    {
     "name": "stdout",
     "output_type": "stream",
     "text": [
      "1492-10-12 05:00:00\n"
     ]
    }
   ],
   "source": [
    "chain = prompt | llm | date_parser\n",
    "response = chain.invoke({\"query\": \"When America got discovered?\"})\n",
    "print(response)"
   ]
  },
  {
   "cell_type": "code",
   "execution_count": null,
   "id": "9bfa595d",
   "metadata": {},
   "outputs": [],
   "source": []
  }
 ],
 "metadata": {
  "kernelspec": {
   "display_name": "Python (ml)",
   "language": "python",
   "name": "ml"
  },
  "language_info": {
   "codemirror_mode": {
    "name": "ipython",
    "version": 3
   },
   "file_extension": ".py",
   "mimetype": "text/x-python",
   "name": "python",
   "nbconvert_exporter": "python",
   "pygments_lexer": "ipython3",
   "version": "3.11.4"
  }
 },
 "nbformat": 4,
 "nbformat_minor": 5
}
