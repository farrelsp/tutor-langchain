{
 "cells": [
  {
   "cell_type": "markdown",
   "id": "eca9b50c",
   "metadata": {},
   "source": [
    "## Tool Calling"
   ]
  },
  {
   "cell_type": "code",
   "execution_count": 83,
   "id": "dec8a6fe",
   "metadata": {},
   "outputs": [
    {
     "data": {
      "text/plain": [
       "True"
      ]
     },
     "execution_count": 83,
     "metadata": {},
     "output_type": "execute_result"
    }
   ],
   "source": [
    "import os\n",
    "from dotenv import load_dotenv\n",
    "\n",
    "load_dotenv(\"./../.env\")"
   ]
  },
  {
   "cell_type": "code",
   "execution_count": 84,
   "id": "78d37b68",
   "metadata": {},
   "outputs": [],
   "source": [
    "from langchain_ollama import ChatOllama\n",
    "from langchain_core.output_parsers import StrOutputParser\n",
    "from langchain_core.runnables import RunnablePassthrough\n",
    "from langchain_core.prompts import ChatPromptTemplate"
   ]
  },
  {
   "cell_type": "code",
   "execution_count": 94,
   "id": "4eeb2880",
   "metadata": {},
   "outputs": [],
   "source": [
    "# Llama model\n",
    "model_name = \"llama3.2\"\n",
    "base_url = \"http://localhost:11434\"\n",
    "llm = ChatOllama(model=model_name, base_url=base_url)"
   ]
  },
  {
   "cell_type": "code",
   "execution_count": 130,
   "id": "d5e75359",
   "metadata": {},
   "outputs": [],
   "source": [
    "# Custom tools\n",
    "from langchain_core.tools import tool\n",
    "\n",
    "@tool\n",
    "def add(a, b):\n",
    "  \"\"\"\n",
    "  Add two integer numbers together\n",
    "  \n",
    "  Args:\n",
    "  a: First integer\n",
    "  b: Second integer\n",
    "  \"\"\"\n",
    "  return a + b\n",
    "\n",
    "@tool\n",
    "def multiply(a: int, b: int) -> int:\n",
    "  \"\"\"\n",
    "  Multiply two integer numbers together\n",
    "  \n",
    "  Args:\n",
    "  a: First integer\n",
    "  b: Second integer\n",
    "  \"\"\"\n",
    "  return int(a) * int(b)"
   ]
  },
  {
   "cell_type": "code",
   "execution_count": 131,
   "id": "90efb7aa",
   "metadata": {},
   "outputs": [
    {
     "data": {
      "text/plain": [
       "('add',\n",
       " 'Add two integer numbers together\\n\\nArgs:\\na: First integer\\nb: Second integer',\n",
       " {'description': 'Add two integer numbers together\\n\\nArgs:\\na: First integer\\nb: Second integer',\n",
       "  'properties': {'a': {'title': 'A'}, 'b': {'title': 'B'}},\n",
       "  'required': ['a', 'b'],\n",
       "  'title': 'add',\n",
       "  'type': 'object'})"
      ]
     },
     "execution_count": 131,
     "metadata": {},
     "output_type": "execute_result"
    }
   ],
   "source": [
    "add.name, add.description, add.args_schema.schema()"
   ]
  },
  {
   "cell_type": "code",
   "execution_count": 132,
   "id": "b5204938",
   "metadata": {},
   "outputs": [
    {
     "data": {
      "text/plain": [
       "8"
      ]
     },
     "execution_count": 132,
     "metadata": {},
     "output_type": "execute_result"
    }
   ],
   "source": [
    "add.invoke({'a': 5, 'b': 3})"
   ]
  },
  {
   "cell_type": "code",
   "execution_count": 133,
   "id": "cff9b266",
   "metadata": {},
   "outputs": [
    {
     "data": {
      "text/plain": [
       "515"
      ]
     },
     "execution_count": 133,
     "metadata": {},
     "output_type": "execute_result"
    }
   ],
   "source": [
    "multiply.invoke({\"a\": 103, \"b\": 5})"
   ]
  },
  {
   "cell_type": "code",
   "execution_count": 134,
   "id": "48c9f29a",
   "metadata": {},
   "outputs": [],
   "source": [
    "tools = [add, multiply]\n",
    "llm_with_tools = llm.bind_tools(tools)"
   ]
  },
  {
   "cell_type": "code",
   "execution_count": 135,
   "id": "d9090316",
   "metadata": {},
   "outputs": [
    {
     "data": {
      "text/plain": [
       "[{'name': 'multiply',\n",
       "  'args': {'a': '5', 'b': '10'},\n",
       "  'id': '43e998cf-0dc4-4cd7-83a7-fe622837fc58',\n",
       "  'type': 'tool_call'},\n",
       " {'name': 'add',\n",
       "  'args': {'a': '6', 'b': '8'},\n",
       "  'id': '73d020b8-adf3-4f63-9a91-d049ed34892e',\n",
       "  'type': 'tool_call'}]"
      ]
     },
     "execution_count": 135,
     "metadata": {},
     "output_type": "execute_result"
    }
   ],
   "source": [
    "question = \"What is 5 times 10? Also what is 6 plus 8?\"\n",
    "llm_with_tools.invoke(question).tool_calls"
   ]
  },
  {
   "cell_type": "code",
   "execution_count": 136,
   "id": "6cf57fd6",
   "metadata": {},
   "outputs": [
    {
     "data": {
      "text/plain": [
       "[{'name': 'multiply',\n",
       "  'args': {'a': 100, 'b': 15},\n",
       "  'id': '2aa373f7-f93b-437e-8607-7acf32423677',\n",
       "  'type': 'tool_call'}]"
      ]
     },
     "execution_count": 136,
     "metadata": {},
     "output_type": "execute_result"
    }
   ],
   "source": [
    "question = \"What is one hundred times fifteen?\"\n",
    "llm_with_tools.invoke(question).tool_calls"
   ]
  },
  {
   "cell_type": "markdown",
   "id": "ecbd74a1",
   "metadata": {},
   "source": [
    "### Calling tools"
   ]
  },
  {
   "cell_type": "code",
   "execution_count": 137,
   "id": "e0413fc1",
   "metadata": {},
   "outputs": [
    {
     "name": "stderr",
     "output_type": "stream",
     "text": [
      "c:\\Users\\user\\AppData\\Local\\Programs\\Python\\Python311\\Lib\\site-packages\\langchain_community\\utilities\\duckduckgo_search.py:64: UserWarning: backend='api' is deprecated, using backend='auto'\n",
      "  ddgs_gen = ddgs.text(\n"
     ]
    },
    {
     "data": {
      "text/plain": [
       "'In the following days, the IDF targeted additional Iranian nuclear facilities, eliminated more military commanders and nuclear scientists, and continued to work to thwart Iran\\'s attacks on Israel. Why else would Israel attack Iran? Netanyahu has previously described Iran as \"the head of the octopus\" with \"tentacles all around from the Houthis to Hezbollah to Hamas\". The idea is that ... Why did Israel attack Iran now? Israel had vowed to hit back after Iran carried out a ballistic missile attack on Israel on 1 October. In that attack, Iran fired more than 180 missiles at Israel. Why Israel attacked Iran, ... Israel\\'s U.N. Ambassador Danny Danon said the decision to attack Iran was an \"independent decision of Israel\" and an \"act of self-defense.\" Danon went on to say the ... The latest attack, which comes just before the start of the Jewish High Holy Days, threatens to push the Middle East closer to a regionwide war.. Israel has vowed to retaliate against Iran. At the ...'"
      ]
     },
     "execution_count": 137,
     "metadata": {},
     "output_type": "execute_result"
    }
   ],
   "source": [
    "# DuckDuckGoSearch\n",
    "from langchain_community.tools import DuckDuckGoSearchRun\n",
    "\n",
    "search = DuckDuckGoSearchRun()\n",
    "search.invoke(\"Why Iran attacks Israel?\")"
   ]
  },
  {
   "cell_type": "code",
   "execution_count": 138,
   "id": "e81becc3",
   "metadata": {},
   "outputs": [
    {
     "data": {
      "text/plain": [
       "[{'url': 'https://brusselsmorning.com/why-does-the-us-support-israel-historical-strategic-and-economic-perspectives/73082/',\n",
       "  'content': 'The United States views Israel as its essential strategic partner that supports Middle East policy goals. Through the financial support and diplomatic backing the US receives from Israel, the nation maintains protective functions across the Middle Eastern region on behalf of America. The strategic alliance connects these countries through their shared military support while exchanging intelligence data and conducting trading activities. Israel operates as a dependable democratic nation that [...] US interests in the Middle East are to secure energy, resist outside influence, support Israel, combat terrorism, promote democracy, and control refugee flows. Regional dynamics heavily depend on the Israeli-Palestinian conflict, yet US policy focus on it has shifted throughout time. Israel finds support from both Christian Evangelicals and American Jews mainly because of religious or cultural bonds, while their position on US-Israel relations stands as their top strategic priority. America [...] Israel stands as a leading global innovator because of its successful business ecosystem that attracts substantial US business collaboration and investment, although it has a high company density per person. American enterprises support Israel’s economy through mutual economic agreements that let them benefit from Tel Aviv’s science-based leadership in areas such as cybersecurity and aerospace technology. Strategic and technological, alongside commercial advantages, exist for both nations from'},\n",
       " {'url': 'https://geopoliticaleconomy.com/2023/11/12/why-us-support-israel-geopolitics-michael-hudson/',\n",
       "  'content': 'MICHAEL HUDSON: Well, to U.S. diplomats, what you call the support of Israel is really the support of the U.S.’ ability to militarily control the rest of the Near East.\\n\\nIt’s all about oil. America is not giving all this money to Israel because it loves Israel, but because Israel is the military base from which the United States can attack Syria, Iraq, and Iran and Lebanon. So it’s a military base. [...] Top United Nations experts have warned that the Palestinian people are in danger of genocide by Israel.\\n\\nAnd the United States has steadfastly been supporting Israel, because, as Joe Biden said, Israel is an extension of U.S. imperial power in West Asia, and if it didn’t exist, Washington would have to invent it. [...] > [The United States’] goal is to preclude any hostile power from dominating a region critical to our interests, and also thereby to strengthen the barriers against the reemergence of a global threat to the interests of the U.S. and our allies. These regions include Europe, East Asia, the Middle East/Persian Gulf, and Latin America. Consolidated, nondemocratic control of the resources of such a critical region could generate a significant threat to our security.'},\n",
       " {'url': 'https://defensefeeds.com/analysis/geopolitics/why-does-the-us-support-israel/',\n",
       "  'content': 'The answer lies in a complex blend of strategic interests, shared democratic values, and domestic political influence. Decades of US-Israel military cooperation, joint defense projects like the Iron Dome, and strong economic ties have made Israel a key ally in the Middle East. [...] Beyond military strategy and geopolitical calculations, the US-Israel alliance is also built on a powerful narrative of ideological and cultural kinship. For decades, American policymakers have justified unwavering support for Israel not only through national interest but through the lens of shared democratic values, religious identity, and a perceived moral duty rooted in Judeo-Christian traditions.\\n\\n### Common Political Ideals [...] Even when public opinion begins to shift—especially among younger, more progressive Americans—the structural power of lobbying, donor influence, and political inertia ensures that official U.S. policy remains overwhelmingly pro-Israel. This dynamic contributes to the perception that U.S. support for Israel is driven less by ethical evaluation and more by political calculus.\\n\\n——\\n\\nSo, Why does the US support Israel, even though much of the world condemns its actions in Gaza?'},\n",
       " {'url': 'https://www.thehindu.com/news/international/what-is-behind-the-us-israel-special-relationship-explained/article69726916.ece',\n",
       "  'content': 'Why does the U.S. always back Israel? One explanation is that Israel’s strategic value in a volatile yet critical region makes it appealing for Washington. During the Cold War, the U.S. saw Israel as a powerful bulwark against possible Soviet expansion in the Arab world. After the Cold War, when the U.S. started becoming more and more involved in West Asia, it continued to see Israel as a force of stability, along with Saudi Arabia and Egypt. Strategic value explains a close partnership or [...] Today, Israel is an exceptional ally of Washington. The U.S. offers practically unconditional financial, military and political support for Israel. Israel is an undeclared nuclear power but has never faced any global scrutiny or pushback, thanks to the protection offered by the U.S. Israel is also the largest recipient of America’s aid — it has received $158 billion in aid from the U.S. since the end of the Second World War. Currently, Israel gets $3.8 billion in military aid every year from'},\n",
       " {'url': 'https://moderndiplomacy.eu/2025/01/03/shaping-alliances-u-s-political-military-and-diplomatic-engagement-with-israel-since-1990/',\n",
       "  'content': 'support for Israel. Israel has extended its war to neighboring states, including Lebanon, Yemen, Iran and Syria. It has been conducting operations and killing leaders of proxy groups beyond the borders of Israel. U.S is supporting Israel both militarily and politically, claiming other parties terrorist and justifying its war crimes and acts as just, and their right for self defense. Recently they had called the decision of ICC to arrest Netanyahu as biased. Their firm support for Israel is [...] historical wars with Arab states, including Six day war, Yom Kippur war and Lebanon war. The current situation of middle east where Israel is extending its horrific attacks beyond Gaza, to Lebanon, Syria, Iran and Yemen shows US support for the. The US is supporting Israel militarily, economically and providing them political support, justifying their aggression and expansion. The U.S has always been engaged in representing Israel as greater and powerful states in the Middle East. The political [...] Since the independence of Israel in 1948, the diplomatic and military ties between the United States and Israel were evident based on strategic interests and geopolitical consequences. US had strategies to guarantee Israel’s place in Middle East and advance American influence in the region. Thus U.S had provided economic aid, military support and diplomatic backing to Israel. Some of the historical evidences where Israel enjoyed U.S support include;'}]"
      ]
     },
     "execution_count": 138,
     "metadata": {},
     "output_type": "execute_result"
    }
   ],
   "source": [
    "# TavilySearch\n",
    "from langchain_community.tools import TavilySearchResults\n",
    "\n",
    "search = TavilySearchResults(\n",
    "  max_results=5,\n",
    "  search_depth=\"advanced\",\n",
    "  include_answer=True,\n",
    "  include_raw_content=True,\n",
    ")\n",
    "\n",
    "search.invoke(\"Why U.S. supports Israel?\")"
   ]
  },
  {
   "cell_type": "code",
   "execution_count": 139,
   "id": "223cc7b4",
   "metadata": {},
   "outputs": [
    {
     "name": "stdout",
     "output_type": "stream",
     "text": [
      "Page: Large language model\n",
      "Summary: A large language model (LLM) is a language model trained with self-supervised machine learning on a vast amount of text, designed for natural language processing tasks, especially language generation.\n",
      "The largest and most capable LLMs are generative pretrained transformers (GPTs), which are largely used in generative chatbots such as ChatGPT, Gemini or Claude. LLMs can be fine-tuned for specific tasks or guided by prompt engineering. These models acquire predictive power regarding syntax, semantics, and ontologies inherent in human language corpora, but they also inherit inaccuracies and biases present in the data they are trained in.\n",
      "\n",
      "Page: Retrieval-augmented generation\n",
      "Summary: Retrieval-augmented generation (RAG) is a technique that enables large language models (LLMs) to retrieve and incorporate new information. With RAG, LLMs do not respond to user queries until they refer to a specified set of documents. These documents supplement information from the LLM's pre-existing training data. This allows LLMs to use domain-specific and/or updated information that is not available in the training data. For example, this helps LLM-based chatbots access internal company data or generate responses based on authoritative sources.\n",
      "RAG improves large language models (LLMs) by incorporating information retrieval before generating responses. Unlike traditional LLMs that rely on static training data, RAG pulls relevant text from databases, uploaded documents, or web sources. According to Ars Technica, \"RAG is a way of improving LLM performance, in essence by blending the LLM process with a web search or other document look-up process to help LLMs stick to the facts.\" This method helps reduce AI hallucinations, which have caused chatbots to describe policies that don't exist, or recommend nonexistent legal cases to lawyers that are looking for citations to support their arguments.\n",
      "RAG also reduces the need to retrain LLMs with new data, saving on computational and financial costs. Beyond efficiency gains, RAG also allows LLMs to include sources in their responses, so users can verify the cited sources. This provides greater transparency, as users can cross-check retrieved content to ensure accuracy and relevance.\n",
      "The term RAG was first introduced in a 2020 research paper from Meta.\n",
      "\n",
      "Page: Claude (language model)\n",
      "Summary: Claude is a family of large language models developed by Anthropic. The first model was released in March 2023.\n",
      "The Claude 3 family, released in March 2024, consists of three models: Haiku, optimized for speed; Sonnet, which balances capability and performance; and Opus, designed for complex reasoning tasks. These models can process both text and images, with Claude 3 Opus demonstrating enhanced capabilities in areas like mathematics, programming, and logical reasoning compared to previous versions. Claude 4, which includes Opus and Sonnet, was released in May 2025.\n"
     ]
    }
   ],
   "source": [
    "# Wikipedia Search\n",
    "from langchain_community.tools import WikipediaQueryRun\n",
    "from langchain_community.utilities import WikipediaAPIWrapper\n",
    "\n",
    "wikipedia = WikipediaQueryRun(api_wrapper=WikipediaAPIWrapper())\n",
    "\n",
    "question = \"What is LLM?\"\n",
    "\n",
    "print(wikipedia.invoke(question))"
   ]
  },
  {
   "cell_type": "code",
   "execution_count": 140,
   "id": "8e138e8e",
   "metadata": {},
   "outputs": [
    {
     "name": "stdout",
     "output_type": "stream",
     "text": [
      "No good PubMed Result was found\n"
     ]
    }
   ],
   "source": [
    "# PubMed\n",
    "from langchain_community.tools.pubmed.tool import PubmedQueryRun\n",
    "\n",
    "search = PubmedQueryRun()\n",
    "print(search.invoke(\"What is the latest research on COVID-19?\"))"
   ]
  },
  {
   "cell_type": "code",
   "execution_count": 141,
   "id": "ee834ce2",
   "metadata": {},
   "outputs": [],
   "source": [
    "@tool\n",
    "def wikipedia_search(query):\n",
    "    \"\"\"\n",
    "    Search wikipedia for general information.\n",
    "    \n",
    "    Args:\n",
    "    query: The search query\n",
    "    \"\"\"\n",
    "    \n",
    "    wikipedia = WikipediaQueryRun(api_wrapper=WikipediaAPIWrapper())\n",
    "    response = wikipedia.invoke(query)\n",
    "    return response\n",
    "\n",
    "@tool\n",
    "def pubmed_search(query):\n",
    "    \"\"\"\n",
    "    Search pubmed for medical and life sciences queries.\n",
    "    \n",
    "    Args:\n",
    "    query: The search query\n",
    "    \"\"\"\n",
    "    \n",
    "    search = PubmedQueryRun()\n",
    "    response = search.invoke(query)\n",
    "    return response\n",
    "\n",
    "@tool\n",
    "def tavily_search(query):\n",
    "    \"\"\"\n",
    "    Search the web for realtime and latest information.\n",
    "    for examples, news, stock market, weather updates etc.\n",
    "    \n",
    "    Args:\n",
    "    query: The search query\n",
    "    \"\"\"\n",
    "    \n",
    "    search = TavilySearchResults(\n",
    "        max_results=5,\n",
    "        search_depth=\"advanced\",\n",
    "        include_answer=True,\n",
    "        include_raw_content=True,\n",
    "    )\n",
    "    response = search.invoke(query)\n",
    "    return response"
   ]
  },
  {
   "cell_type": "code",
   "execution_count": 142,
   "id": "ccf4b5a7",
   "metadata": {},
   "outputs": [],
   "source": [
    "tools = [pubmed_search, wikipedia_search, tavily_search, multiply]\n",
    "list_of_tools = { tool.name: tool for tool in tools }"
   ]
  },
  {
   "cell_type": "code",
   "execution_count": 143,
   "id": "af4fc7d5",
   "metadata": {},
   "outputs": [
    {
     "data": {
      "text/plain": [
       "{'pubmed_search': StructuredTool(name='pubmed_search', description='Search pubmed for medical and life sciences queries.\\n\\nArgs:\\nquery: The search query', args_schema=<class 'langchain_core.utils.pydantic.pubmed_search'>, func=<function pubmed_search at 0x0000021098D18900>),\n",
       " 'wikipedia_search': StructuredTool(name='wikipedia_search', description='Search wikipedia for general information.\\n\\nArgs:\\nquery: The search query', args_schema=<class 'langchain_core.utils.pydantic.wikipedia_search'>, func=<function wikipedia_search at 0x0000021098D1A520>),\n",
       " 'tavily_search': StructuredTool(name='tavily_search', description='Search the web for realtime and latest information.\\nfor examples, news, stock market, weather updates etc.\\n\\nArgs:\\nquery: The search query', args_schema=<class 'langchain_core.utils.pydantic.tavily_search'>, func=<function tavily_search at 0x0000021098D180E0>),\n",
       " 'multiply': StructuredTool(name='multiply', description='Multiply two integer numbers together\\n\\nArgs:\\na: First integer\\nb: Second integer', args_schema=<class 'langchain_core.utils.pydantic.multiply'>, func=<function multiply at 0x0000021098CBA480>)}"
      ]
     },
     "execution_count": 143,
     "metadata": {},
     "output_type": "execute_result"
    }
   ],
   "source": [
    "list_of_tools"
   ]
  },
  {
   "cell_type": "code",
   "execution_count": 144,
   "id": "945c92f7",
   "metadata": {},
   "outputs": [],
   "source": [
    "llm_with_tools = llm.bind_tools(tools)"
   ]
  },
  {
   "cell_type": "code",
   "execution_count": 145,
   "id": "07a0de19",
   "metadata": {},
   "outputs": [
    {
     "name": "stdout",
     "output_type": "stream",
     "text": [
      "[{'name': 'wikipedia_search', 'args': {'query': 'Python programming language'}, 'id': '94e5983d-d994-4ae5-990b-1f76d6de2cfb', 'type': 'tool_call'}]\n"
     ]
    }
   ],
   "source": [
    "# query = \"What is the latest news?\"\n",
    "# query = \"What is today's stock market news?\"\n",
    "query = \"What is Python?\"\n",
    "# query = \"How to treat lung cancer?\"\n",
    "# query  = \"What is 2 * 3?\"\n",
    "response = llm_with_tools.invoke(query)\n",
    "print(response.tool_calls)"
   ]
  },
  {
   "cell_type": "markdown",
   "id": "a5bf5806",
   "metadata": {},
   "source": [
    "### Generate result"
   ]
  },
  {
   "cell_type": "code",
   "execution_count": null,
   "id": "eaa96447",
   "metadata": {},
   "outputs": [],
   "source": [
    "from langchain_core.messages import HumanMessage"
   ]
  },
  {
   "cell_type": "code",
   "execution_count": 157,
   "id": "bb5ee0c8",
   "metadata": {},
   "outputs": [],
   "source": [
    "# query = \"What is the latest news?\"\n",
    "# query = \"What is today's stock market news?\"\n",
    "# query = \"What is Python?\"\n",
    "query = \"What is medicine for lung cancer?\"\n",
    "# query  = \"What is 2 * 3?\"\n",
    "\n",
    "messages = [HumanMessage(query)]\n",
    "response = llm_with_tools.invoke(messages)\n",
    "\n",
    "messages.append(response)"
   ]
  },
  {
   "cell_type": "code",
   "execution_count": null,
   "id": "79328279",
   "metadata": {},
   "outputs": [],
   "source": [
    "for tool_call in response.tool_calls:\n",
    "  name = tool_call['name'].lower()\n",
    "  selected_tool = list_of_tools[name]\n",
    "\n",
    "  tool_msg = selected_tool.invoke(tool_call)\n",
    "  messages.append(tool_msg)"
   ]
  },
  {
   "cell_type": "code",
   "execution_count": 162,
   "id": "bafd2fe5",
   "metadata": {},
   "outputs": [
    {
     "data": {
      "text/plain": [
       "[HumanMessage(content='What is medicine for lung cancer?', additional_kwargs={}, response_metadata={}),\n",
       " AIMessage(content='', additional_kwargs={}, response_metadata={'model': 'llama3.2', 'created_at': '2025-06-28T01:43:44.2558658Z', 'done': True, 'done_reason': 'stop', 'total_duration': 2022656700, 'load_duration': 45537600, 'prompt_eval_count': 367, 'prompt_eval_duration': 342118700, 'eval_count': 21, 'eval_duration': 1634195700, 'message': Message(role='assistant', content='', images=None, tool_calls=[ToolCall(function=Function(name='pubmed_search', arguments={'query': 'medicine for lung cancer'}))])}, id='run-1e2db013-9236-4d49-8655-22a10aae4219-0', tool_calls=[{'name': 'pubmed_search', 'args': {'query': 'medicine for lung cancer'}, 'id': 'fe8d9450-186c-4f3b-b402-353d0d8f9b53', 'type': 'tool_call'}], usage_metadata={'input_tokens': 367, 'output_tokens': 21, 'total_tokens': 388}),\n",
       " ToolMessage(content='Published: 2025-06-18\\nTitle: A multi-institutional randomized phase III trial of lobectomy versus segmentectomy for radiologically solid-predominant non-small cell lung cancer with a ground-glass opacity and tumor diameter\\xa0>\\xa02\\xa0cm and\\xa0≤\\xa03\\xa0cm: JCOG2217 (STRONG).\\nCopyright Information: © The Author(s) 2025. Published by Oxford University Press. All rights reserved. For commercial re-use, please contact reprints@oup.com for reprints and translation rights for reprints. All other permissions can be obtained through our RightsLink service via the Permissions link on the article page on our site—for further information please contact journals.permissions@oup.com.\\nSummary::\\nLobectomy has been the standard surgical procedure for clinical stage IA non-small cell lung cancer (NSCLC) since the results of a randomized trial in 1995. However, recent phase III trials have demonstrated the efficacy of segmentectomy for small NSCLC. Segmentectomy has become one of the standard treatments for peripheral lung cancers with a tumor diameter of ≤2\\xa0cm and further expansion of the indication for segmentectomy is considered. We planned this trial to confirm the non-inferiority of segmentectomy to lobectomy in terms of overall survival in patients with solid-predominant NSCLC with ground-glass opacity and\\xa0>\\xa02\\xa0cm and\\xa0≤\\xa03\\xa0cm in tumor diameter. Pure-solid tumors will be excluded because of their highly malignant characteristics. The primary endpoint is overall survival. A total of 515 patients from 53 institutions will be enrolled over 5\\xa0years. The trial has been registered in the Japan Registry of Clinical Trials (study number: jRCTs1030240027).\\n\\nPublished: 2025-06-18\\nTitle: Extreme exercise in males is linked to mTOR signalling and onset of amyotrophic lateral sclerosis.\\nCopyright Information: © The Author(s) 2025. Published by Oxford University Press on behalf of the Guarantors of Brain.\\nSummary::\\nAmyotrophic lateral sclerosis (ALS) is thought to be caused by interaction between genetic and ', name='pubmed_search', tool_call_id='fe8d9450-186c-4f3b-b402-353d0d8f9b53')]"
      ]
     },
     "execution_count": 162,
     "metadata": {},
     "output_type": "execute_result"
    }
   ],
   "source": [
    "messages"
   ]
  },
  {
   "cell_type": "code",
   "execution_count": 163,
   "id": "15080323",
   "metadata": {},
   "outputs": [
    {
     "name": "stdout",
     "output_type": "stream",
     "text": [
      "Based on the search results, the treatment for lung cancer typically involves a combination of surgical procedures, chemotherapy, radiation therapy, targeted therapy, immunotherapy, and other interventions. The specific treatment plan depends on the stage and type of lung cancer, as well as the patient's overall health.\n",
      "\n",
      "Some common treatments for lung cancer include:\n",
      "\n",
      "1. **Surgery**: Lobectomy (removal of the entire lobe of the lung) or segmentectomy (removal of a segment of the lung) may be recommended for early-stage lung cancer.\n",
      "2. **Chemotherapy**: Chemotherapy may be used to treat lung cancer that has spread to other parts of the body.\n",
      "3. **Radiation therapy**: Radiation therapy may be used to treat lung cancer, especially if it is in an early stage and cannot be removed by surgery.\n",
      "4. **Targeted therapy**: Targeted therapy may be recommended for patients with specific types of lung cancer, such as non-small cell lung cancer (NSCLC) or small cell lung cancer (SCLC).\n",
      "5. **Immunotherapy**: Immunotherapy may be used to treat lung cancer, especially if it has spread to other parts of the body.\n",
      "6. **Hormone therapy**: Hormone therapy may be recommended for patients with lung cancer that is hormone-sensitive.\n",
      "\n",
      "It's essential to consult a healthcare professional for personalized treatment recommendations and to discuss any concerns or questions about lung cancer treatment.\n",
      "\n",
      "**Medicines used in lung cancer treatment:**\n",
      "\n",
      "Some common medications used in lung cancer treatment include:\n",
      "\n",
      "1. **Erlotinib**: A targeted therapy medication used to treat NSCLC.\n",
      "2. **Pemetrexed**: A chemotherapy medication used to treat NSCLC and SCLC.\n",
      "3. **Docetaxel**: A chemotherapy medication used to treat NSCLC and SCLC.\n",
      "4. **Bevacizumab**: An immunotherapy medication used to treat NSCLC.\n",
      "5. **Nivolumab**: An immunotherapy medication used to treat NSCLC.\n",
      "\n",
      "Please note that this is not an exhaustive list, and treatment options may vary depending on the individual patient's needs and medical history.\n"
     ]
    }
   ],
   "source": [
    "response = llm_with_tools.invoke(messages)\n",
    "print(response.content)"
   ]
  },
  {
   "cell_type": "code",
   "execution_count": null,
   "id": "d4bb9747",
   "metadata": {},
   "outputs": [],
   "source": []
  }
 ],
 "metadata": {
  "kernelspec": {
   "display_name": "Python (ml)",
   "language": "python",
   "name": "ml"
  },
  "language_info": {
   "codemirror_mode": {
    "name": "ipython",
    "version": 3
   },
   "file_extension": ".py",
   "mimetype": "text/x-python",
   "name": "python",
   "nbconvert_exporter": "python",
   "pygments_lexer": "ipython3",
   "version": "3.11.4"
  }
 },
 "nbformat": 4,
 "nbformat_minor": 5
}
