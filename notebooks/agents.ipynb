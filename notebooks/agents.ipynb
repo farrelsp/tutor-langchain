{
 "cells": [
  {
   "cell_type": "markdown",
   "id": "9b59164a",
   "metadata": {},
   "source": [
    "## Agents\n",
    "- Agents are systems that use an LLM as a reasoning engine to determine which actions to take and what the inputs to those actions should be.\n",
    "- The results of those actions can then be fed back into the agent and it determines whether more actions are needed, or whether it is okay to finish."
   ]
  },
  {
   "cell_type": "code",
   "execution_count": 1,
   "id": "91aff4ca",
   "metadata": {},
   "outputs": [
    {
     "data": {
      "text/plain": [
       "True"
      ]
     },
     "execution_count": 1,
     "metadata": {},
     "output_type": "execute_result"
    }
   ],
   "source": [
    "import os\n",
    "from dotenv import load_dotenv\n",
    "\n",
    "load_dotenv(\"./../.env\")"
   ]
  },
  {
   "cell_type": "code",
   "execution_count": 2,
   "id": "e8c5c7d9",
   "metadata": {},
   "outputs": [],
   "source": [
    "from langchain_ollama import ChatOllama\n",
    "from langchain_core.output_parsers import StrOutputParser\n",
    "from langchain_core.runnables import RunnablePassthrough\n",
    "from langchain_core.prompts import ChatPromptTemplate\n",
    "from langchain_core.tools import tool\n",
    "from langchain_community.tools import TavilySearchResults\n",
    "\n",
    "import faiss\n",
    "from langchain_community.vectorstores import FAISS\n",
    "from langchain_community.docstore.in_memory import InMemoryDocstore\n",
    "from langchain_ollama import OllamaEmbeddings"
   ]
  },
  {
   "cell_type": "code",
   "execution_count": 3,
   "id": "4766b4be",
   "metadata": {},
   "outputs": [],
   "source": [
    "# Llama model\n",
    "base_url = \"http://localhost:11434\"\n",
    "model = \"llama3.2\"\n",
    "llm = ChatOllama(model=model, base_url=base_url)"
   ]
  },
  {
   "cell_type": "code",
   "execution_count": 4,
   "id": "616d7dd3",
   "metadata": {},
   "outputs": [],
   "source": [
    "@tool\n",
    "def search(query: str) -> str:\n",
    "  \"\"\"\n",
    "  Search the web for realtime and latest information.\n",
    "  for examples, news, stock market, weather updates etc.\n",
    "\n",
    "  Args:\n",
    "  query: The search query\n",
    "  \"\"\"\n",
    "  \n",
    "  search = TavilySearchResults(\n",
    "    max_results=5,\n",
    "    search_depth=\"advanced\",\n",
    "    include_answer=True,\n",
    "    include_raw_content=True,\n",
    "  )\n",
    "  \n",
    "  response = search.invoke(query)\n",
    "  return response\n"
   ]
  },
  {
   "cell_type": "code",
   "execution_count": 5,
   "id": "1d0d22c8",
   "metadata": {},
   "outputs": [],
   "source": [
    "embedding_model = \"nomic-embed-text\"\n",
    "embeddings = OllamaEmbeddings(model=embedding_model, base_url=base_url)\n",
    "\n",
    "db_path = \"./../store/db_supplements\"\n",
    "vector_store = FAISS.load_local(folder_path=db_path,\n",
    "                                embeddings=embeddings,\n",
    "                                allow_dangerous_deserialization=True)\n",
    "\n",
    "# Convert vector store to retriever\n",
    "retriever = vector_store.as_retriever(search_type=\"similarity\",\n",
    "                                      search_kwargs={'k': 3})"
   ]
  },
  {
   "cell_type": "code",
   "execution_count": 6,
   "id": "d4fa93fa",
   "metadata": {},
   "outputs": [],
   "source": [
    "@tool\n",
    "def health_supplements(query: str) -> str:\n",
    "  \"\"\"\n",
    "  Search for information about Health Supplements.\n",
    "  For any questions about Health and Gym Supplements, you must use this tool!,\n",
    "  \"\"\"\n",
    "  \n",
    "  response = retriever.invoke(query)\n",
    "  return response"
   ]
  },
  {
   "cell_type": "code",
   "execution_count": 7,
   "id": "c85dbaa0",
   "metadata": {},
   "outputs": [
    {
     "data": {
      "text/plain": [
       "[Document(metadata={'source': '.././data/rag-dataset\\\\gym supplements\\\\1. Analysis of Actual Fitness Supplement.pdf', 'file_path': '.././data/rag-dataset\\\\gym supplements\\\\1. Analysis of Actual Fitness Supplement.pdf', 'page': 0, 'total_pages': 15, 'format': 'PDF 1.7', 'title': '', 'author': '', 'subject': '', 'keywords': '', 'creator': '', 'producer': 'iLovePDF', 'creationDate': '', 'modDate': 'D:20241021113850Z', 'trapped': ''}, page_content='acids than traditional protein sources. Its numerous benefits have made it a popular choice\\nfor snacks and drinks among consumers [3]. Another widely embraced supplement is\\ncaffeine, which is found in many sports and food supplements. Caffeine reduces perceived\\neffort, minimizes fatigue and pain, and proves to be effective for endurance and high-\\nintensity activities, which is the choice of consumers [4].\\nCreatine monohydrate is another well-known supplement used to gain muscle mass\\nand support performance and recovery. It is known not to increase fat mass and remains\\neffective even when taken in recommended doses [5]. Despite its popularity in the fitness\\nFoods 2024, 13, 1424. https://doi.org/10.3390/foods13091424\\nhttps://www.mdpi.com/journal/foods'),\n",
       " Document(metadata={'source': '.././data/rag-dataset\\\\gym supplements\\\\1. Analysis of Actual Fitness Supplement.pdf', 'file_path': '.././data/rag-dataset\\\\gym supplements\\\\1. Analysis of Actual Fitness Supplement.pdf', 'page': 1, 'total_pages': 15, 'format': 'PDF 1.7', 'title': '', 'author': '', 'subject': '', 'keywords': '', 'creator': '', 'producer': 'iLovePDF', 'creationDate': '', 'modDate': 'D:20241021113850Z', 'trapped': ''}, page_content='Foods 2024, 13, 1424\\n2 of 21\\nand sports industry, evidence suggests that creatine can benefit not only athletes but also\\nthe elderly and the general population [6]. Branched-chain amino acids (BCAA) also offer\\na plethora of benefits for consumers. As explained by Sanz et al. [7], BCAAs are stored\\ndirectly in muscles and serve as the raw materials needed to build new muscle. This\\ncontributes to the overall process of strengthening muscles and alleviating post-workout\\nsoreness. Consumers often integrate these supplements into their routines with the aim of\\noptimizing the outcomes they wish to achieve and support overall well-being [1].\\nThe sports supplement industry makes for an impressive market share of nearly\\n$12 billion in the health/wellness portfolio and is projected to be worth $24.4 billion\\nby 2025. In a study by Burke [4], which investigated 20 published studies about the\\nprevalence, methods, and reasons for supplement consumption, it is evident from the'),\n",
       " Document(metadata={'source': '.././data/rag-dataset\\\\gym supplements\\\\2. High Prevalence of Supplement Intake.pdf', 'file_path': '.././data/rag-dataset\\\\gym supplements\\\\2. High Prevalence of Supplement Intake.pdf', 'page': 6, 'total_pages': 11, 'format': 'PDF 1.5', 'title': '', 'author': '', 'subject': '', 'keywords': '', 'creator': '', 'producer': 'iLovePDF', 'creationDate': '', 'modDate': 'D:20241021113904Z', 'trapped': ''}, page_content='3.4. Reasons for Supplement Intake\\nThe three most important reasons to take supplements were muscle building (49%), improving\\nhealth (47%), and improving sport-speciﬁc performance (28%) (Figure 3).\\nNutrients 2020, 12, x FOR PEER REVIEW \\n8 of 14 \\n \\nFigure 3. Reasons for supplement use. g: Indicates significant gender effect (p < 0.05). Multiple \\nanswers were possible. \\n3.5. Information Sources \\nRegarding used information sources, the top three were the coach/trainer (28%), the website of \\nthe supplement seller (26%), and training peers (24%) (Figure 4). On average 2.2 information sources \\nwere indicated by the fitness center users. The question regarding information about risks and side \\neffects was answered by 315 subjects. Only 117 (37%) of these had received information regarding \\npotential risks and side effects of the consumed supplements. The three leading information sources \\nfor risks and side effects were the internet, physicians, and coaches/trainers. When subjects answered')]"
      ]
     },
     "execution_count": 7,
     "metadata": {},
     "output_type": "execute_result"
    }
   ],
   "source": [
    "health_supplements.invoke(\"What is the best supplement for muscle gain?\")"
   ]
  },
  {
   "cell_type": "markdown",
   "id": "9aea5e1d",
   "metadata": {},
   "source": [
    "### Agent Creation\n",
    " - The agent is responsible for taking in input and deciding what actions to take.\n",
    " - the Agent does not execute those actions - that is done by the AgentExecutor.\n",
    " - `create_tool_calling_agent` will call `.bind_tools` for us under the hood."
   ]
  },
  {
   "cell_type": "code",
   "execution_count": 8,
   "id": "a498383c",
   "metadata": {},
   "outputs": [],
   "source": [
    "from langchain import hub\n",
    "from langchain.agents import create_tool_calling_agent\n",
    "from langchain.agents import AgentExecutor"
   ]
  },
  {
   "cell_type": "code",
   "execution_count": 10,
   "id": "211c8049",
   "metadata": {},
   "outputs": [],
   "source": [
    "prompt = hub.pull(\"hwchase17/openai-functions-agent\")"
   ]
  },
  {
   "cell_type": "code",
   "execution_count": 11,
   "id": "9c69fbde",
   "metadata": {},
   "outputs": [
    {
     "data": {
      "text/plain": [
       "[SystemMessagePromptTemplate(prompt=PromptTemplate(input_variables=[], input_types={}, partial_variables={}, template='You are a helpful assistant'), additional_kwargs={}),\n",
       " MessagesPlaceholder(variable_name='chat_history', optional=True),\n",
       " HumanMessagePromptTemplate(prompt=PromptTemplate(input_variables=['input'], input_types={}, partial_variables={}, template='{input}'), additional_kwargs={}),\n",
       " MessagesPlaceholder(variable_name='agent_scratchpad')]"
      ]
     },
     "execution_count": 11,
     "metadata": {},
     "output_type": "execute_result"
    }
   ],
   "source": [
    "prompt.messages"
   ]
  },
  {
   "cell_type": "code",
   "execution_count": 13,
   "id": "da0dbbaf",
   "metadata": {},
   "outputs": [],
   "source": [
    "tools = [search, health_supplements]\n",
    "agent = create_tool_calling_agent(llm, tools, prompt)"
   ]
  },
  {
   "cell_type": "code",
   "execution_count": 14,
   "id": "af6fe40f",
   "metadata": {},
   "outputs": [],
   "source": [
    "agent_executor = AgentExecutor(agent=agent, tools=tools, verbose=True)"
   ]
  },
  {
   "cell_type": "code",
   "execution_count": 15,
   "id": "a8dbbb7d",
   "metadata": {},
   "outputs": [
    {
     "name": "stdout",
     "output_type": "stream",
     "text": [
      "\n",
      "\n",
      "\u001b[1m> Entering new AgentExecutor chain...\u001b[0m\n",
      "\u001b[32;1m\u001b[1;3m\n",
      "Invoking: `health_supplements` with `{'query': 'best supplements for muscle gain'}`\n",
      "\n",
      "\n",
      "\u001b[0m\u001b[33;1m\u001b[1;3m[Document(metadata={'source': '.././data/rag-dataset\\\\gym supplements\\\\1. Analysis of Actual Fitness Supplement.pdf', 'file_path': '.././data/rag-dataset\\\\gym supplements\\\\1. Analysis of Actual Fitness Supplement.pdf', 'page': 1, 'total_pages': 15, 'format': 'PDF 1.7', 'title': '', 'author': '', 'subject': '', 'keywords': '', 'creator': '', 'producer': 'iLovePDF', 'creationDate': '', 'modDate': 'D:20241021113850Z', 'trapped': ''}, page_content='Foods 2024, 13, 1424\\n2 of 21\\nand sports industry, evidence suggests that creatine can benefit not only athletes but also\\nthe elderly and the general population [6]. Branched-chain amino acids (BCAA) also offer\\na plethora of benefits for consumers. As explained by Sanz et al. [7], BCAAs are stored\\ndirectly in muscles and serve as the raw materials needed to build new muscle. This\\ncontributes to the overall process of strengthening muscles and alleviating post-workout\\nsoreness. Consumers often integrate these supplements into their routines with the aim of\\noptimizing the outcomes they wish to achieve and support overall well-being [1].\\nThe sports supplement industry makes for an impressive market share of nearly\\n$12 billion in the health/wellness portfolio and is projected to be worth $24.4 billion\\nby 2025. In a study by Burke [4], which investigated 20 published studies about the\\nprevalence, methods, and reasons for supplement consumption, it is evident from the'), Document(metadata={'source': '.././data/rag-dataset\\\\gym supplements\\\\1. Analysis of Actual Fitness Supplement.pdf', 'file_path': '.././data/rag-dataset\\\\gym supplements\\\\1. Analysis of Actual Fitness Supplement.pdf', 'page': 0, 'total_pages': 15, 'format': 'PDF 1.7', 'title': '', 'author': '', 'subject': '', 'keywords': '', 'creator': '', 'producer': 'iLovePDF', 'creationDate': '', 'modDate': 'D:20241021113850Z', 'trapped': ''}, page_content='acids than traditional protein sources. Its numerous benefits have made it a popular choice\\nfor snacks and drinks among consumers [3]. Another widely embraced supplement is\\ncaffeine, which is found in many sports and food supplements. Caffeine reduces perceived\\neffort, minimizes fatigue and pain, and proves to be effective for endurance and high-\\nintensity activities, which is the choice of consumers [4].\\nCreatine monohydrate is another well-known supplement used to gain muscle mass\\nand support performance and recovery. It is known not to increase fat mass and remains\\neffective even when taken in recommended doses [5]. Despite its popularity in the fitness\\nFoods 2024, 13, 1424. https://doi.org/10.3390/foods13091424\\nhttps://www.mdpi.com/journal/foods'), Document(metadata={'source': '.././data/rag-dataset\\\\health supplements\\\\3. Health Supplements Side Effect.pdf', 'file_path': '.././data/rag-dataset\\\\health supplements\\\\3. Health Supplements Side Effect.pdf', 'page': 5, 'total_pages': 11, 'format': 'PDF 1.5', 'title': '', 'author': '', 'subject': '', 'keywords': '', 'creator': '', 'producer': 'iLovePDF', 'creationDate': '', 'modDate': 'D:20241021143742Z', 'trapped': ''}, page_content='women consuming isoflavone supplements (59) and, given the clear evidence of \\nestrogenicity, there is a likelihood of increased risk of estrogen sensitive cancers in \\nconsumers of these products.\\nWEIGHT-LOSS, SPORTS, AND BODYBUILDING SUPPLEMENTS\\nAs more and more of the world population becomes overweight and obese, there is a huge \\nmarket for weight-loss products, including dietary supplements. Among military service \\nmembers, athletes and bodybuilders it is also common to ingest dietary sports supplements \\nintended to burn fat and increase performance, muscle mass or strength. As examples, 53% \\nof active-duty US Army soldiers report using at least one dietary supplement per week (60), \\nand 64% of college students participating in athletics use dietary supplements to enhance \\nperformance (61). The supplements are often proprietary blends of several supposedly \\nnatural ingredients. They are not without risk of adverse effects. In a recent review, it is')]\u001b[0m\u001b[32;1m\u001b[1;3mBased on the provided information from the rag-dataset, the best supplements for muscle gain are:\n",
      "\n",
      "1. Creatine monohydrate: Known to increase muscle mass and support performance and recovery.\n",
      "2. Branched-chain amino acids (BCAA): Stored directly in muscles and serve as raw materials needed to build new muscle, contributing to strengthening muscles and alleviating post-workout soreness.\n",
      "\n",
      "It's essential to note that while these supplements have shown promise, it's crucial to consult with a healthcare professional before adding any new supplements to your routine. Additionally, a well-balanced diet and regular exercise are also vital for achieving and maintaining muscle mass.\u001b[0m\n",
      "\n",
      "\u001b[1m> Finished chain.\u001b[0m\n"
     ]
    }
   ],
   "source": [
    "question = \"What is the best supplement for muscle gain?\"\n",
    "response = agent_executor.invoke({\"input\": question})"
   ]
  },
  {
   "cell_type": "code",
   "execution_count": 22,
   "id": "f2146c29",
   "metadata": {},
   "outputs": [
    {
     "name": "stdout",
     "output_type": "stream",
     "text": [
      "\n",
      "\n",
      "\u001b[1m> Entering new AgentExecutor chain...\u001b[0m\n",
      "\u001b[32;1m\u001b[1;3m\n",
      "Invoking: `search` with `{'query': 'Iran current situation'}`\n",
      "\n",
      "\n",
      "\u001b[0m\u001b[36;1m\u001b[1;3m[{'url': 'https://www.newsnow.com/us/World/Middle+East/Iran', 'content': 'Iran, a nation of over 85 million people, continues to play a significant role in global geopolitics. The country is currently led by President Masoud Pezeshkian, who took office on 28 July 2024, succeeding Ebrahim Raisi. Iran\\'s Supreme Leader, Ayatollah Ali Khamenei, remains the ultimate authority in the country\\'s unique political system that combines elements of theocracy and republic. [...] Economically, Iran continues to grapple with the effects of long-standing international sanctions. The country has been pursuing a \"resistance economy\" policy, focusing on domestic production and reducing reliance on oil exports. Despite these efforts, inflation and unemployment remain significant challenges for the Iranian population. [...] Domestically, Iran has seen periodic waves of protests, with citizens expressing frustration over economic hardships, political restrictions, and social issues. The government\\'s response to these demonstrations continues to draw international scrutiny, particularly regarding human rights concerns. At the same time, there\\'s an ongoing debate within Iran about the pace and extent of social and political reforms.'}, {'url': 'https://www.brandeis.edu/stories/2025/june/inside-iran.html', 'content': 'What is the current state of the Iranian economy following recent military action?\\n\\nIt has gone from bad to worse. The Iranian economy was already struggling under the weight of sanctions, chronic water and electricity shortages and mismanagement. Now, the recent conflict has delivered an additional shock. Nearly seven million people fled major cities, including the capital, during the 12-day war with Israel. Though many are slowly returning, the disruption has been significant. [...] Despite the shock of the strikes and the initial loss of control over its airspace, the government quickly regrouped and launched missile attacks in response — some of which penetrated Israel’s defenses. This showed some operational capability. However, in the coming weeks, we will likely see shortages of essential goods and services. Power outages were already severe before the attacks, with industries facing 4-5 hours of daily blackouts and no announced schedules. That situation has only [...] Internationally, Iran has lost leverage. It’s now harder for the government to negotiate with the U.S. or Europeans, who are demanding the dismantling of Iran’s nuclear and missile programs. But domestically, it’s not necessarily more vulnerable to collapse.'}, {'url': 'https://www.albawaba.com/news/iran’s-strategic-path-forward-after-2025-1607676', 'content': 'Dr. Gil Feiler In June 2025, Iran faced one of its most serious geopolitical crises in decades following a sustained Israeli and U.S. military campaign. The conflict, sparked by Iranian support'}, {'url': 'https://www.securitycouncilreport.org/monthly-forecast/2025-06/iran-15.php', 'content': 'Human Rights-Related Developments On 12 March, Mai Soto, the Special Rapporteur on the situation of human rights in Iran, submitted a report to the General Assembly that notes an extraordinary rise in executions in 2024, with over 900 recorded cases, including the highest number of women executed in the past decade.'}, {'url': 'https://www.usnews.com/news/world/articles/2025-06-25/a-battered-iran-faces-an-uncertain-future-after-its-grinding-war-with-israel', 'content': \"Analysis: A Battered Iran Faces an Uncertain Future After Its Grinding War With Israel DUBAI, United Arab Emirates (AP) — The bombing has quieted in Iran's 12-day conflict with Israel. Now its\"}]\u001b[0m\u001b[32;1m\u001b[1;3mThe current situation in Iran is complex and dynamic. The country continues to face significant challenges, including economic hardships, political restrictions, and social issues. The ongoing debate within Iran about the pace and extent of social and political reforms adds to the complexity.\n",
      "\n",
      "Recently, Iran was involved in a 12-day conflict with Israel, which had a devastating impact on the country's economy and infrastructure. The war has led to widespread destruction, power outages, and shortages of essential goods and services.\n",
      "\n",
      "Internationally, Iran's position has become more vulnerable, particularly regarding its nuclear and missile programs. The US and European countries have been demanding the dismantling of these programs, which has weakened Iran's leverage in international negotiations.\n",
      "\n",
      "Domestically, the Iranian government is facing significant challenges, including a rise in executions, with over 900 recorded cases in 2024, including the highest number of women executed in the past decade. The government's response to protests and demonstrations continues to draw international scrutiny, particularly regarding human rights concerns.\n",
      "\n",
      "Overall, Iran's future remains uncertain, and the country will need to navigate these challenges to address its economic, social, and political issues.\u001b[0m\n",
      "\n",
      "\u001b[1m> Finished chain.\u001b[0m\n"
     ]
    }
   ],
   "source": [
    "question = \"How is the situation in Iran?\"\n",
    "response = agent_executor.invoke({\"input\": question})"
   ]
  },
  {
   "cell_type": "code",
   "execution_count": 23,
   "id": "56dcca18",
   "metadata": {},
   "outputs": [
    {
     "data": {
      "text/plain": [
       "{'input': 'How is the situation in Iran?',\n",
       " 'output': \"The current situation in Iran is complex and dynamic. The country continues to face significant challenges, including economic hardships, political restrictions, and social issues. The ongoing debate within Iran about the pace and extent of social and political reforms adds to the complexity.\\n\\nRecently, Iran was involved in a 12-day conflict with Israel, which had a devastating impact on the country's economy and infrastructure. The war has led to widespread destruction, power outages, and shortages of essential goods and services.\\n\\nInternationally, Iran's position has become more vulnerable, particularly regarding its nuclear and missile programs. The US and European countries have been demanding the dismantling of these programs, which has weakened Iran's leverage in international negotiations.\\n\\nDomestically, the Iranian government is facing significant challenges, including a rise in executions, with over 900 recorded cases in 2024, including the highest number of women executed in the past decade. The government's response to protests and demonstrations continues to draw international scrutiny, particularly regarding human rights concerns.\\n\\nOverall, Iran's future remains uncertain, and the country will need to navigate these challenges to address its economic, social, and political issues.\"}"
      ]
     },
     "execution_count": 23,
     "metadata": {},
     "output_type": "execute_result"
    }
   ],
   "source": [
    "response"
   ]
  },
  {
   "cell_type": "code",
   "execution_count": null,
   "id": "ed3341fc",
   "metadata": {},
   "outputs": [],
   "source": []
  }
 ],
 "metadata": {
  "kernelspec": {
   "display_name": "Python (ml)",
   "language": "python",
   "name": "ml"
  },
  "language_info": {
   "codemirror_mode": {
    "name": "ipython",
    "version": 3
   },
   "file_extension": ".py",
   "mimetype": "text/x-python",
   "name": "python",
   "nbconvert_exporter": "python",
   "pygments_lexer": "ipython3",
   "version": "3.11.4"
  }
 },
 "nbformat": 4,
 "nbformat_minor": 5
}
