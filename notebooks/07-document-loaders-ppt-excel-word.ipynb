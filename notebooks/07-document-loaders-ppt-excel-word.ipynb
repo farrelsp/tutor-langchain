{
 "cells": [
  {
   "cell_type": "markdown",
   "id": "4a311e8b",
   "metadata": {},
   "source": [
    "## Key Notes & Script Generation from PPT"
   ]
  },
  {
   "cell_type": "code",
   "execution_count": 1,
   "id": "67c02ed1",
   "metadata": {},
   "outputs": [
    {
     "data": {
      "text/plain": [
       "True"
      ]
     },
     "execution_count": 1,
     "metadata": {},
     "output_type": "execute_result"
    }
   ],
   "source": [
    "from dotenv import load_dotenv\n",
    "\n",
    "load_dotenv(\"./../.env\")"
   ]
  },
  {
   "cell_type": "code",
   "execution_count": null,
   "id": "70d95789",
   "metadata": {},
   "outputs": [
    {
     "data": {
      "text/plain": [
       "['At',\n",
       " 'eight',\n",
       " \"o'clock\",\n",
       " 'on',\n",
       " 'Thursday',\n",
       " 'morning',\n",
       " 'Arthur',\n",
       " 'did',\n",
       " \"n't\",\n",
       " 'feel',\n",
       " 'very',\n",
       " 'good',\n",
       " '.']"
      ]
     },
     "execution_count": 2,
     "metadata": {},
     "output_type": "execute_result"
    }
   ],
   "source": [
    "import nltk\n",
    "# nltk.download('punkt_tab')\n",
    "# nltk.download('punkt')"
   ]
  },
  {
   "cell_type": "code",
   "execution_count": 3,
   "id": "63564146",
   "metadata": {},
   "outputs": [],
   "source": [
    "from langchain_community.document_loaders import UnstructuredPowerPointLoader"
   ]
  },
  {
   "cell_type": "code",
   "execution_count": 4,
   "id": "8d104e60",
   "metadata": {},
   "outputs": [
    {
     "name": "stdout",
     "output_type": "stream",
     "text": [
      "Total elements: 47\n"
     ]
    }
   ],
   "source": [
    "loader = UnstructuredPowerPointLoader(\"ml_course.pptx\", mode=\"elements\")\n",
    "\n",
    "docs = loader.load()\n",
    "print(\"Total elements:\", len(docs))"
   ]
  },
  {
   "cell_type": "code",
   "execution_count": 6,
   "id": "5725d921",
   "metadata": {},
   "outputs": [
    {
     "data": {
      "text/plain": [
       "Document(metadata={'source': 'ml_course.pptx', 'category_depth': 0, 'filename': 'ml_course.pptx', 'last_modified': '2025-06-23T14:00:59', 'page_number': 1, 'languages': ['eng'], 'filetype': 'application/vnd.openxmlformats-officedocument.presentationml.presentation', 'category': 'Title', 'element_id': '1378fc8ea4dd0830a3c5f93e9d31a516'}, page_content='Machine Learning Model Deployment')"
      ]
     },
     "execution_count": 6,
     "metadata": {},
     "output_type": "execute_result"
    }
   ],
   "source": [
    "docs[0]"
   ]
  },
  {
   "cell_type": "code",
   "execution_count": 19,
   "id": "04757b15",
   "metadata": {},
   "outputs": [],
   "source": [
    "# Group based on slide page number\n",
    "ppt_data = {}\n",
    "for doc in docs:\n",
    "  page = doc.metadata['page_number']\n",
    "  content = doc.page_content  \n",
    "  ppt_data[page] = ppt_data.get(page, \"\") + \"\\n\" + content"
   ]
  },
  {
   "cell_type": "code",
   "execution_count": 20,
   "id": "185e3ee7",
   "metadata": {},
   "outputs": [
    {
     "data": {
      "text/plain": [
       "{1: '\\nMachine Learning Model Deployment\\nIntroduction to ML Pipeline\\nhttps://bit.ly/bert_nlp\\n',\n",
       " 2: '\\nWhat is Machine Learning Pipeline?\\n',\n",
       " 3: '\\nType of ML Deployment\\nBatch: In batch deployment, ML models process large volumes of data at scheduled intervals, ideal for tasks like end-of-day reporting or monthly analytics.\\nStream: Stream deployment enables ML models to process and analyze data in real-time as it flows in, suitable for applications like fraud detection or live social media analysis.\\nRealtime: Realtime deployment allows ML models to provide instant predictions or decisions in response to incoming data, essential for use cases like recommendation systems or autonomous driving.\\nEdge: Edge deployment involves running ML models on local devices close to the data source, reducing latency and bandwidth usage, which is crucial for IoT applications and smart devices.\\n',\n",
       " 4: '\\nInfrastructure and Integration\\nHardware and Software: Setting up the right environment for model deployment.\\nIntegration: Seamlessly integrating the model with existing systems and applications.\\n',\n",
       " 5: '\\nBenefits of Deploying ML Models\\nFocus on new models, not maintaining existing models || Prevention of bugs || Creation of records for debugging and reproducing results || Standardization || Allows models to handle real-time data and large user bases.\\n',\n",
       " 6: '\\nChallenges in ML Deployment\\nData Management: Making sure the model gets the right kind of data.\\nModel Scalability and Performance: Ensuring that their model can effectively scale as it keeps adding more complex information.\\nIntegration with Existing Systems: Fitting the model into current computers and software.\\nMonitoring and Maintenance: Watching and fixing the model over time.\\nSecurity and Privacy: Protecting data and keeping it private.\\nResource Management: Using computer resources like memory and power wisely.\\nVersioning and Model Management: Keeping track of different versions of the model.\\nRegulatory Compliance: Making sure the model follows the laws, rules, and regulations.\\nUser Acceptance and Trust: Getting people to trust and accept the model.\\nExplainability and Transparency: Being able to explain how the model works.\\nCost Management: Managing how much it costs to use the model.\\nAs per research, only 13% of ML models ever make it to production. This is a huge gap, considering the possibilities that AI model deployment can bring to the organization.\\n',\n",
       " 7: '\\nData and Model Management\\nData Pipelines: Building and maintaining data pipelines for continuous data flow.\\nModel Versioning: Tracking and managing different versions of models.\\n',\n",
       " 8: '\\nA/B Testing\\nObjective Comparison: A/B testing allows for an objective comparison of two model versions to determine which performs better based on specific metrics.\\nReal-World Application: It is widely used to optimize user experiences, such as testing different recommendation systems or ad strategies to enhance engagement or conversion rates.\\nStatistical Significance: The technique ensures that performance differences are statistically significant and not due to random chance by using control and treatment groups along with statistical tests.\\n',\n",
       " 9: '\\nSecurity, Compliance and Bias\\nSecurity: Ensuring the security of machine learning models involves protecting sensitive data from unauthorized access and breaches through robust encryption, secure APIs, and access controls\\nCompliance: Adhering to industry regulations and standards, such as GDPR or HIPAA, is critical to ensure the legal and ethical use of data in machine learning deployments. This involves data anonymization, user consent, and regular compliance audits.\\nBias Detection: Identifying and mitigating bias in ML models is crucial to prevent unfair and discriminatory outcomes. This involves using diverse training datasets, applying fairness-aware algorithms, and conducting bias impact assessments\\nContinuous Monitoring: Regular monitoring and updating of deployed models are essential to maintain security, compliance, and fairness. This involves real-time performance tracking, automated alerts for anomalies, and periodic model retraining.'}"
      ]
     },
     "execution_count": 20,
     "metadata": {},
     "output_type": "execute_result"
    }
   ],
   "source": [
    "ppt_data"
   ]
  },
  {
   "cell_type": "code",
   "execution_count": 22,
   "id": "f504849a",
   "metadata": {},
   "outputs": [
    {
     "name": "stdout",
     "output_type": "stream",
     "text": [
      "### Slide 1:\n",
      "Machine Learning Model Deployment\n",
      "Introduction to ML Pipeline\n",
      "https://bit.ly/bert_nlp\n",
      "\n",
      "### Slide 2:\n",
      "What is Machine Learning Pipeline?\n",
      "\n",
      "### Slide 3:\n",
      "Type of ML Deployment\n",
      "Batch: In batch deployment, ML models process large volumes of data at scheduled intervals, ideal for tasks like end-of-day reporting or monthly analytics.\n",
      "Stream: Stream deployment enables ML models to process and analyze data in real-time as it flows in, suitable for applications like fraud detection or live social media analysis.\n",
      "Realtime: Realtime deployment allows ML models to provide instant predictions or decisions in response to incoming data, essential for use cases like recommendation systems or autonomous driving.\n",
      "Edge: Edge deployment involves running ML models on local devices close to the data source, reducing latency and bandwidth usage, which is crucial for IoT applications and smart devices.\n",
      "\n",
      "### Slide 4:\n",
      "Infrastructure and Integration\n",
      "Hardware and Software: Setting up the right environment for model deployment.\n",
      "Integration: Seamlessly integrating the model with existing systems and applications.\n",
      "\n",
      "### Slide 5:\n",
      "Benefits of Deploying ML Models\n",
      "Focus on new models, not maintaining existing models || Prevention of bugs || Creation of records for debugging and reproducing results || Standardization || Allows models to handle real-time data and large user bases.\n",
      "\n",
      "### Slide 6:\n",
      "Challenges in ML Deployment\n",
      "Data Management: Making sure the model gets the right kind of data.\n",
      "Model Scalability and Performance: Ensuring that their model can effectively scale as it keeps adding more complex information.\n",
      "Integration with Existing Systems: Fitting the model into current computers and software.\n",
      "Monitoring and Maintenance: Watching and fixing the model over time.\n",
      "Security and Privacy: Protecting data and keeping it private.\n",
      "Resource Management: Using computer resources like memory and power wisely.\n",
      "Versioning and Model Management: Keeping track of different versions of the model.\n",
      "Regulatory Compliance: Making sure the model follows the laws, rules, and regulations.\n",
      "User Acceptance and Trust: Getting people to trust and accept the model.\n",
      "Explainability and Transparency: Being able to explain how the model works.\n",
      "Cost Management: Managing how much it costs to use the model.\n",
      "As per research, only 13% of ML models ever make it to production. This is a huge gap, considering the possibilities that AI model deployment can bring to the organization.\n",
      "\n",
      "### Slide 7:\n",
      "Data and Model Management\n",
      "Data Pipelines: Building and maintaining data pipelines for continuous data flow.\n",
      "Model Versioning: Tracking and managing different versions of models.\n",
      "\n",
      "### Slide 8:\n",
      "A/B Testing\n",
      "Objective Comparison: A/B testing allows for an objective comparison of two model versions to determine which performs better based on specific metrics.\n",
      "Real-World Application: It is widely used to optimize user experiences, such as testing different recommendation systems or ad strategies to enhance engagement or conversion rates.\n",
      "Statistical Significance: The technique ensures that performance differences are statistically significant and not due to random chance by using control and treatment groups along with statistical tests.\n",
      "\n",
      "### Slide 9:\n",
      "Security, Compliance and Bias\n",
      "Security: Ensuring the security of machine learning models involves protecting sensitive data from unauthorized access and breaches through robust encryption, secure APIs, and access controls\n",
      "Compliance: Adhering to industry regulations and standards, such as GDPR or HIPAA, is critical to ensure the legal and ethical use of data in machine learning deployments. This involves data anonymization, user consent, and regular compliance audits.\n",
      "Bias Detection: Identifying and mitigating bias in ML models is crucial to prevent unfair and discriminatory outcomes. This involves using diverse training datasets, applying fairness-aware algorithms, and conducting bias impact assessments\n",
      "Continuous Monitoring: Regular monitoring and updating of deployed models are essential to maintain security, compliance, and fairness. This involves real-time performance tracking, automated alerts for anomalies, and periodic model retraining.\n",
      "\n",
      "\n"
     ]
    }
   ],
   "source": [
    "context = \"\"\n",
    "for page, content in ppt_data.items():\n",
    "  context += f\"### Slide {page}:\\n{content.strip()}\\n\\n\"\n",
    "  \n",
    "print(context)"
   ]
  },
  {
   "cell_type": "code",
   "execution_count": 23,
   "id": "8ac5dd1a",
   "metadata": {},
   "outputs": [],
   "source": [
    "import os\n",
    "import sys\n",
    "\n",
    "# Get the absolute path to the directory containing the script to import\n",
    "# Replace 'path/to/your/other_folder' with the actual relative or absolute path\n",
    "other_folder_path = os.path.abspath('./../scripts') \n",
    "\n",
    "# Add the folder to sys.path\n",
    "sys.path.insert(0, other_folder_path) \n",
    "\n",
    "import llm"
   ]
  },
  {
   "cell_type": "code",
   "execution_count": 24,
   "id": "d9a566a9",
   "metadata": {},
   "outputs": [
    {
     "name": "stdout",
     "output_type": "stream",
     "text": [
      "Here are the scripts for each PowerPoint slide:\n",
      "\n",
      "\n",
      "Slide 1: Machine Learning Pipeline\n",
      "\"Welcome to our machine learning pipeline. It's designed to help organizations prepare their data for deployment into production. In this case, we're talking about a model that will be used in various applications like recommendation systems or autonomous driving.\n",
      "\n",
      "Our journey begins with data preparation. We need to collect and clean the data, making sure it's accurate and complete. Then, we'll integrate the model with existing systems and applications. Finally, we'll deploy the model into production, where it can make predictions and decisions.\n",
      "\n",
      "The key benefits of this pipeline are focus on new models, prevention of bugs, creation of records for debugging and reproducing results, standardization, and allowing models to handle real-time data and large user bases. It's a continuous process that requires ongoing monitoring and maintenance.\"\n",
      "\n",
      "(Slide 2)\n",
      "\n",
      "\n",
      "Slide 2: Type of ML Deployment\n",
      "\"Let's take a closer look at the different types of machine learning deployment.\n",
      "\n",
      "Batch deployment involves processing large volumes of data in scheduled intervals, ideal for tasks like end-of-day reporting or monthly analytics. Stream deployment is suitable for applications like fraud detection or live social media analysis. Realtime deployment allows models to provide instant predictions or decisions in response to incoming data. And finally, edge deployment involves running models on local devices close to the data source.\n",
      "\n",
      "Each type of deployment has its own strengths and weaknesses, but they all share one thing in common: scalability.\"\n",
      "\n",
      "(Slide 3)\n",
      "\n",
      "\n",
      "Slide 3: Infrastructure and Integration\n",
      "\"To deploy machine learning models successfully, we need a solid infrastructure. This includes setting up the right environment for model deployment, integrating the model with existing systems and applications.\n",
      "\n",
      "It's also essential to ensure that the hardware and software are compatible, and that integration is seamless. For example, if we're deploying an image classification model, we need to make sure that the camera is properly configured and that the dataset is easily accessible.\"\n",
      "\n",
      "(Slide 4)\n",
      "\n",
      "\n",
      "Slide 4: Benefits of Deploying ML Models\n",
      "\"Deploying machine learning models offers numerous benefits.\n",
      "\n",
      "One key benefit is focus on new models, not maintaining existing ones. This allows us to continuously improve our models and reduce maintenance costs. Prevention of bugs also plays a crucial role in ensuring that the model performs optimally.\n",
      "\n",
      "Additionally, creating records for debugging and reproducing results helps us to refine and optimize our models over time. Standardization is also essential to ensure consistency across different applications and systems.\"\n",
      "\n",
      "(Slide 5)\n",
      "\n",
      "\n",
      "Slide 5: Challenges in ML Deployment\n",
      "\"However, deploying machine learning models isn't without its challenges.\n",
      "\n",
      "Data management is a key challenge. We need to ensure that the model gets the right kind of data to perform optimally. Model scalability and performance are also critical. Integration with existing systems can be complex and time-consuming.\n",
      "\n",
      "Monitoring and maintenance are essential to prevent issues and ensure that the model remains optimal over time.\"\n",
      "\n",
      "(Slide 6)\n",
      "\n",
      "\n",
      "Slide 6: Data Management\n",
      "\"Data management is a crucial aspect of machine learning deployment.\n",
      "\n",
      "We need to collect and clean accurate and complete data, ensuring that it's suitable for modeling. This involves handling missing values, outliers, and data quality issues. Additionally, we should implement data anonymization to protect sensitive information.\"\n",
      "\n",
      "(Slide 7)\n",
      "\n",
      "\n",
      "Slide 7: Data and Model Management\n",
      "\"To manage our data effectively, we need a robust approach.\n",
      "\n",
      "Data pipelines are essential for continuous data flow. We can track different versions of models using model versioning. This helps us to identify changes and update the model accordingly.\n",
      "\n",
      "\n",
      "A/B testing is also critical for optimizing user experiences, such as testing recommendation systems or ad strategies. Statistical significance ensures that performance differences are statistically significant and not due to random chance.\"\n",
      "\n",
      "(Slide 8)\n",
      "\n",
      "\n",
      "Slide 8: Security, Compliance and Bias\n",
      "\"Security, compliance, and bias are critical aspects of machine learning deployment.\n",
      "\n",
      "To ensure the security of our models, we need to protect sensitive data from unauthorized access and breaches. This involves implementing robust encryption, secure APIs, and access controls.\n",
      "\n",
      "Compliance also plays a crucial role in preventing unfair and discriminatory outcomes. We need to adhere to industry regulations and standards, such as GDPR or HIPAA.\n",
      "\n",
      "Bias detection is essential to prevent bias in our models. We can use diverse training datasets, apply fairness-aware algorithms, and conduct bias impact assessments to identify and mitigate biases.\"\n",
      "\n",
      "(Slide 9)\n",
      "\n",
      "\n",
      "Slide 9: Conclusion\n",
      "\"In conclusion, machine learning deployment is a complex process that requires careful planning, infrastructure, and integration.\n",
      "\n",
      "By focusing on new models, preventing bugs, creating records for debugging and reproducing results, standardizing, and allowing models to handle real-time data and large user bases, we can ensure optimal performance.\n",
      "\n",
      "However, it's essential to address challenges such as data management, model scalability and performance, integration with existing systems, monitoring and maintenance, data management, security, compliance, and bias detection.\"\n",
      "\n",
      "(I don't know)\n"
     ]
    }
   ],
   "source": [
    "question = \"\"\"\n",
    "For each PowerPoint slide provided above, write a 2-minute script that effectively conveys the key points.\n",
    "Ensure a smooth flow between slides, maintaining a clear and engaging narrative.\n",
    "\"\"\"\n",
    "\n",
    "response = llm.ask_llm(context=context,\n",
    "                       question=question)\n",
    "print(response)"
   ]
  },
  {
   "cell_type": "markdown",
   "id": "e2ccf2c2",
   "metadata": {},
   "source": [
    "## Excel Data Analysis"
   ]
  },
  {
   "cell_type": "code",
   "execution_count": 25,
   "id": "8093b396",
   "metadata": {},
   "outputs": [],
   "source": [
    "from langchain_community.document_loaders import UnstructuredExcelLoader"
   ]
  },
  {
   "cell_type": "code",
   "execution_count": 26,
   "id": "a202949c",
   "metadata": {},
   "outputs": [
    {
     "data": {
      "text/plain": [
       "{'source': './../data/sample.xlsx',\n",
       " 'file_directory': './../data',\n",
       " 'filename': 'sample.xlsx',\n",
       " 'last_modified': '2025-06-23T14:00:59',\n",
       " 'page_name': 'Data',\n",
       " 'page_number': 1,\n",
       " 'text_as_html': '<table><tr><td>First Name</td><td>Last Name</td><td>City</td><td>Gender</td></tr><tr><td>Brandon</td><td>James</td><td>Miami</td><td>M</td></tr><tr><td>Sean</td><td>Hawkins</td><td>Denver</td><td>M</td></tr><tr><td>Judy</td><td>Day</td><td>Los Angeles</td><td>F</td></tr><tr><td>Ashley</td><td>Ruiz</td><td>San Francisco</td><td>F</td></tr><tr><td>Stephanie</td><td>Gomez</td><td>Portland</td><td>F</td></tr></table>',\n",
       " 'languages': ['eng'],\n",
       " 'filetype': 'application/vnd.openxmlformats-officedocument.spreadsheetml.sheet',\n",
       " 'category': 'Table',\n",
       " 'element_id': 'c44665196e07c27314922db69accb8b6'}"
      ]
     },
     "execution_count": 26,
     "metadata": {},
     "output_type": "execute_result"
    }
   ],
   "source": [
    "loader = UnstructuredExcelLoader(\"./../data/sample.xlsx\", mode=\"elements\")\n",
    "docs = loader.load()\n",
    "doc = docs[0]\n",
    "doc.metadata"
   ]
  },
  {
   "cell_type": "code",
   "execution_count": 36,
   "id": "28f0c0c0",
   "metadata": {},
   "outputs": [
    {
     "name": "stdout",
     "output_type": "stream",
     "text": [
      "| First Name | Last Name | City | Gender |\n",
      "| --- | --- | --- | --- |\n",
      "| Brandon | James | Miami | M |\n",
      "| Sean | Hawkins | Denver | M |\n",
      "| Judy | Day | Los Angeles | F |\n",
      "| Ashley | Ruiz | San Francisco | F |\n",
      "| Stephanie | Gomez | Portland | F |\n"
     ]
    }
   ],
   "source": [
    "context = doc.metadata['text_as_html']\n",
    "\n",
    "question = \"Return this data in markdown format.\"\n",
    "response = llm.ask_llm(context, question)\n",
    "print(response)"
   ]
  },
  {
   "cell_type": "code",
   "execution_count": 37,
   "id": "bd81cc0a",
   "metadata": {},
   "outputs": [
    {
     "name": "stdout",
     "output_type": "stream",
     "text": [
      "| First Name | Last Name | City | Gender |\n",
      "| --- | --- | --- | --- |\n",
      "| Judy | Day | Los Angeles | F |\n",
      "| Ashley | Ruiz | San Francisco | F |\n",
      "| Stephanie | Gomez | Portland | F |\n"
     ]
    }
   ],
   "source": [
    "question = \"Return all entries in the table where Gender is 'F'. Format the response in markdown. Do not write any explanation.\"\n",
    "response = llm.ask_llm(context, question)\n",
    "print(response)"
   ]
  },
  {
   "cell_type": "markdown",
   "id": "bc24a244",
   "metadata": {},
   "source": [
    "## Word Loader"
   ]
  },
  {
   "cell_type": "code",
   "execution_count": 39,
   "id": "6d856ed6",
   "metadata": {},
   "outputs": [],
   "source": [
    "from langchain_community.document_loaders import Docx2txtLoader"
   ]
  },
  {
   "cell_type": "code",
   "execution_count": 40,
   "id": "27bec554",
   "metadata": {},
   "outputs": [
    {
     "data": {
      "text/plain": [
       "Document(metadata={'source': './../data/job_description.docx'}, page_content='Job Description - Data Scientist\\n\\nAt SpiceJet, we rely on data to provide us valuable insights, and to automate our systems and solutions to help us increase revenues, reduce costs and provide improved customer experiences. We are seeking an experienced data scientist to deliver insights and automate our systems and processes. Ideal team member will have mathematical and statistical expertise, experience with modern data science programming languages and machine learning/AI platforms and techniques. You will mine, clean and interpret our data and then develop machine learning models to deliver business value across different parts of the business. \\n\\nObjectives of this Role\\n\\nUse Data Science and Machine Learning to increase revenue, reduce costs and increase customer satisfaction.\\n\\nCollaborate with product design and engineering to develop an understanding of needs\\n\\nUnderstand where the required data resides and work on ways to extract the relevant data.\\n\\nResearch and devise statistical and machine learning models.\\n\\nCommunicate insights to stakeholders in an automated fashion to enable them to take business decisions.\\n\\nDeploy models in production to automate various processes.\\n\\n\\n\\nSkills and Qualifications\\n\\nBachelor’s degree in Data Science, Computer Science, Statistics, Applied mathematics, or related discipline\\n\\n3+ years experience in data science\\n\\nProficiency with Machine Learning platforms and techniques, data mining, mathematics, and statistical analysis\\n\\nPredictive modelling experience\\n\\nExperience with Python, R, Excel, Tableau, SQL\\n\\nComfortable working in a dynamic, research-oriented group with several ongoing concurrent projects\\n\\n\\n\\nPreferred Qualifications\\n\\nMaster’s degree in Data Science, Computer Science, Stats, Applied math, or related discipline\\n\\n2+ years of project management experience\\n\\n\\n\\nCompetencies:\\n\\nDefining: Can translate fuzzy problem in assigned area into formalized structure\\n\\nTroubleshooting: Can troubleshoot unseen problems in assigned area\\n\\nSolutioning:  Can independently implement the solution\\n\\nCoding Principles: Extensability, Abstraction, Separation of concerns, Chooses right Data Science/Machine learning techniques.\\n\\nCoding Quality: Performant, Integration tests coverage, implements security requirements.\\n\\nProgramming Language Proficiency: Usage of design patterns and knowledge of functional aspects.\\n\\nProject Management: Can break down tasks, identify dependencies and provide accurate effort estimates that feed into the larger plan. Proactively resolve dependencies and communicate around progress and blockers.\\n\\nExecution: Responsible for timely completion of assigned components including integration and deployment to appropriate environments. Complete ownership of quality including iterations with stakeholders to meet the desired objectives.\\n\\nResponsiveness: Understands team priorities. Own, identify and quick turn around for production issues that address the root cause.\\n\\nDesigning: Low level design, functional modeling, Adaptability, High level design with guidance\\n\\nAnalysis: Understanding impact of design changes\\n\\nNon Functional Attributes: Understands the basic concepts around performance and can contribute to measuring and improving performance. Understands scalability\\n\\nData Orientation: Apply algorithms to make smarter and intelligent data driven systems, Good understanding and know hows of various data tools/tech (e.g. Data Tools, IR and ML tools)')"
      ]
     },
     "execution_count": 40,
     "metadata": {},
     "output_type": "execute_result"
    }
   ],
   "source": [
    "loader = Docx2txtLoader(\"./../data/job_description.docx\")\n",
    "docs = loader.load()\n",
    "docs[0]"
   ]
  },
  {
   "cell_type": "code",
   "execution_count": 43,
   "id": "195cf876",
   "metadata": {},
   "outputs": [
    {
     "name": "stdout",
     "output_type": "stream",
     "text": [
      "Job Description - Data Scientist\n",
      "\n",
      "At SpiceJet, we rely on data to provide us valuable insights, and to automate our systems and solutions to help us increase revenues, reduce costs and provide improved customer experiences. We are seeking an experienced data scientist to deliver insights and automate our systems and processes. Ideal team member will have mathematical and statistical expertise, experience with modern data science programming languages and machine learning/AI platforms and techniques. You will mine, clean and interpret our data and then develop machine learning models to deliver business value across different parts of the business. \n",
      "\n",
      "Objectives of this Role\n",
      "\n",
      "Use Data Science and Machine Learning to increase revenue, reduce costs and increase customer satisfaction.\n",
      "\n",
      "Collaborate with product design and engineering to develop an understanding of needs\n",
      "\n",
      "Understand where the required data resides and work on ways to extract the relevant data.\n",
      "\n",
      "Research and devise statistical and machine learning models.\n",
      "\n",
      "Communicate insights to stakeholders in an automated fashion to enable them to take business decisions.\n",
      "\n",
      "Deploy models in production to automate various processes.\n",
      "\n",
      "\n",
      "\n",
      "Skills and Qualifications\n",
      "\n",
      "Bachelor’s degree in Data Science, Computer Science, Statistics, Applied mathematics, or related discipline\n",
      "\n",
      "3+ years experience in data science\n",
      "\n",
      "Proficiency with Machine Learning platforms and techniques, data mining, mathematics, and statistical analysis\n",
      "\n",
      "Predictive modelling experience\n",
      "\n",
      "Experience with Python, R, Excel, Tableau, SQL\n",
      "\n",
      "Comfortable working in a dynamic, research-oriented group with several ongoing concurrent projects\n",
      "\n",
      "\n",
      "\n",
      "Preferred Qualifications\n",
      "\n",
      "Master’s degree in Data Science, Computer Science, Stats, Applied math, or related discipline\n",
      "\n",
      "2+ years of project management experience\n",
      "\n",
      "\n",
      "\n",
      "Competencies:\n",
      "\n",
      "Defining: Can translate fuzzy problem in assigned area into formalized structure\n",
      "\n",
      "Troubleshooting: Can troubleshoot unseen problems in assigned area\n",
      "\n",
      "Solutioning:  Can independently implement the solution\n",
      "\n",
      "Coding Principles: Extensability, Abstraction, Separation of concerns, Chooses right Data Science/Machine learning techniques.\n",
      "\n",
      "Coding Quality: Performant, Integration tests coverage, implements security requirements.\n",
      "\n",
      "Programming Language Proficiency: Usage of design patterns and knowledge of functional aspects.\n",
      "\n",
      "Project Management: Can break down tasks, identify dependencies and provide accurate effort estimates that feed into the larger plan. Proactively resolve dependencies and communicate around progress and blockers.\n",
      "\n",
      "Execution: Responsible for timely completion of assigned components including integration and deployment to appropriate environments. Complete ownership of quality including iterations with stakeholders to meet the desired objectives.\n",
      "\n",
      "Responsiveness: Understands team priorities. Own, identify and quick turn around for production issues that address the root cause.\n",
      "\n",
      "Designing: Low level design, functional modeling, Adaptability, High level design with guidance\n",
      "\n",
      "Analysis: Understanding impact of design changes\n",
      "\n",
      "Non Functional Attributes: Understands the basic concepts around performance and can contribute to measuring and improving performance. Understands scalability\n",
      "\n",
      "Data Orientation: Apply algorithms to make smarter and intelligent data driven systems, Good understanding and know hows of various data tools/tech (e.g. Data Tools, IR and ML tools)\n"
     ]
    }
   ],
   "source": [
    "context = docs[0].page_content\n",
    "print(context)"
   ]
  },
  {
   "cell_type": "code",
   "execution_count": 44,
   "id": "8e1607b3",
   "metadata": {},
   "outputs": [
    {
     "name": "stdout",
     "output_type": "stream",
     "text": [
      "Subject: Application for Data Scientist Position at SpiceJet\n",
      "\n",
      "Dear Hiring Manager,\n",
      "\n",
      "I am Farrel Satya, a recent Master's graduate in Data Science and Artificial Intelligence from ITB. I am excited to apply for the Data Scientist position at SpiceJet, where I can leverage my skills and expertise to drive business value through data-driven insights.\n",
      "\n",
      "As a seasoned candidate with 3+ years of experience in data science, I possess a strong background in machine learning platforms, statistical analysis, predictive modeling, and Python/R programming. My proficiency in tools such as Tableau, SQL, Excel, and pandas has allowed me to effectively visualize and analyze complex data sets.\n",
      "\n",
      "With a Master's degree in Data Science from ITB, I have developed a solid understanding of data mining, data visualization, and machine learning techniques. My experience with industry-standard frameworks like scikit-learn and TensorFlow has equipped me with the skills necessary to develop and deploy effective models.\n",
      "\n",
      "I am particularly drawn to SpiceJet's innovative approach to using data science to increase revenue, reduce costs, and enhance customer satisfaction. As someone who is passionate about applying data-driven insights to drive business outcomes, I believe that I would be an excellent fit for this role.\n",
      "\n",
      "In my previous experience, I have demonstrated the ability to collaborate with cross-functional teams, communicate complex ideas effectively, and deliver results-driven solutions that meet stakeholder expectations. My strong analytical skills and problem-solving abilities make me confident in my ability to troubleshoot unseen problems and implement effective solutions.\n",
      "\n",
      "I am impressed by SpiceJet's commitment to staying at the forefront of data science trends and technologies. As someone who is eager to learn and adapt to new methodologies, I believe that I would thrive in an environment where innovation and continuous improvement are encouraged.\n",
      "\n",
      "In addition to my technical skills and experience, I possess excellent communication and project management skills, which have been demonstrated through my involvement in various group projects and collaborative efforts. My proficiency in design patterns, functional aspects of programming languages, and performance optimization techniques further enhance my coding quality and ability to deliver high-performing solutions.\n",
      "\n",
      "I am excited about the opportunity to contribute to SpiceJet's success by applying my technical expertise, analytical skills, and problem-solving abilities to drive business value through data-driven insights. I have attached my resume and would welcome the opportunity to discuss this position further.\n",
      "\n",
      "Thank you for considering my application.\n",
      "\n",
      "Best regards,\n",
      "\n",
      "Farrel Satya\n"
     ]
    }
   ],
   "source": [
    "question = \"\"\"\n",
    "My name is Farrel Satya. I am a recent Masters graduate from ITB focusing on Data Science and AI. \n",
    "I am applying for a Data Scientist position at SpiceJet.\n",
    "Please write a concise job application email for me, remove any placeholders, and include references to job boards or sources.\n",
    "\"\"\"\n",
    "response = llm.ask_llm(context, question)\n",
    "print(response)"
   ]
  },
  {
   "cell_type": "code",
   "execution_count": null,
   "id": "37e77d68",
   "metadata": {},
   "outputs": [],
   "source": []
  }
 ],
 "metadata": {
  "kernelspec": {
   "display_name": "Python (ml)",
   "language": "python",
   "name": "ml"
  },
  "language_info": {
   "codemirror_mode": {
    "name": "ipython",
    "version": 3
   },
   "file_extension": ".py",
   "mimetype": "text/x-python",
   "name": "python",
   "nbconvert_exporter": "python",
   "pygments_lexer": "ipython3",
   "version": "3.11.4"
  }
 },
 "nbformat": 4,
 "nbformat_minor": 5
}
