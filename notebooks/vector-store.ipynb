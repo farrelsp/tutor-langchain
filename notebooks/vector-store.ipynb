{
 "cells": [
  {
   "cell_type": "markdown",
   "id": "3bd4b513",
   "metadata": {},
   "source": [
    "# Vector Stores and Retrievals"
   ]
  },
  {
   "cell_type": "code",
   "execution_count": 1,
   "id": "dbf1ace3",
   "metadata": {},
   "outputs": [
    {
     "data": {
      "text/plain": [
       "True"
      ]
     },
     "execution_count": 1,
     "metadata": {},
     "output_type": "execute_result"
    }
   ],
   "source": [
    "import os\n",
    "from dotenv import load_dotenv\n",
    "\n",
    "load_dotenv()"
   ]
  },
  {
   "cell_type": "markdown",
   "id": "f33d5e2f",
   "metadata": {},
   "source": [
    "### Load documents"
   ]
  },
  {
   "cell_type": "code",
   "execution_count": 2,
   "id": "aec5b358",
   "metadata": {},
   "outputs": [],
   "source": [
    "from langchain_community.document_loaders import PyMuPDFLoader"
   ]
  },
  {
   "cell_type": "code",
   "execution_count": 6,
   "id": "8a3b95de",
   "metadata": {},
   "outputs": [
    {
     "data": {
      "text/plain": [
       "['.././data/rag-dataset\\\\gym supplements\\\\1. Analysis of Actual Fitness Supplement.pdf',\n",
       " '.././data/rag-dataset\\\\gym supplements\\\\2. High Prevalence of Supplement Intake.pdf',\n",
       " '.././data/rag-dataset\\\\health supplements\\\\1. Dietary supplements.pdf',\n",
       " '.././data/rag-dataset\\\\health supplements\\\\2. Nutraceuticals research.pdf',\n",
       " '.././data/rag-dataset\\\\health supplements\\\\3. Health Supplements Side Effect.pdf']"
      ]
     },
     "execution_count": 6,
     "metadata": {},
     "output_type": "execute_result"
    }
   ],
   "source": [
    "pdfs = []\n",
    "for root, folders, files in os.walk(\".././data/rag-dataset\"):\n",
    "  for file in files:\n",
    "    if file.endswith(\".pdf\"):\n",
    "         pdfs.append(os.path.join(root, file))\n",
    "\n",
    "pdfs"
   ]
  },
  {
   "cell_type": "code",
   "execution_count": 7,
   "id": "983a2757",
   "metadata": {},
   "outputs": [
    {
     "name": "stdout",
     "output_type": "stream",
     "text": [
      "Total pages from all docs: 64\n"
     ]
    }
   ],
   "source": [
    "docs = []\n",
    "for pdf in pdfs:\n",
    "  loader = PyMuPDFLoader(pdf)\n",
    "  temp = loader.load()\n",
    "  docs.extend(list(temp))\n",
    "  \n",
    "print(\"Total pages from all docs:\", len(docs))"
   ]
  },
  {
   "cell_type": "markdown",
   "id": "813d3965",
   "metadata": {},
   "source": [
    "### Chunking"
   ]
  },
  {
   "cell_type": "code",
   "execution_count": 8,
   "id": "d6bc07f8",
   "metadata": {},
   "outputs": [],
   "source": [
    "from langchain_text_splitters import RecursiveCharacterTextSplitter"
   ]
  },
  {
   "cell_type": "code",
   "execution_count": 9,
   "id": "809a8f72",
   "metadata": {},
   "outputs": [],
   "source": [
    "text_splitter = RecursiveCharacterTextSplitter(chunk_size=1000, chunk_overlap=100)\n",
    "chunks = text_splitter.split_documents(docs)"
   ]
  },
  {
   "cell_type": "code",
   "execution_count": 10,
   "id": "8c44fdf2",
   "metadata": {},
   "outputs": [],
   "source": [
    "import tiktoken"
   ]
  },
  {
   "cell_type": "code",
   "execution_count": 12,
   "id": "712e5438",
   "metadata": {},
   "outputs": [
    {
     "name": "stdout",
     "output_type": "stream",
     "text": [
      "Token length chunk 1: 294\n",
      "Token length chunk 2: 219\n",
      "Token length chunk 3: 162\n",
      "Token length chunk 4: 183\n",
      "Token length chunk 5: 169\n"
     ]
    }
   ],
   "source": [
    "encoder = tiktoken.encoding_for_model(\"gpt-4o-mini\")\n",
    "for i in range(5):\n",
    "  token = encoder.encode(chunks[i].page_content)\n",
    "  print(f\"Token length chunk {i+1}:\", len(token))"
   ]
  },
  {
   "cell_type": "code",
   "execution_count": 19,
   "id": "9419bbc4",
   "metadata": {},
   "outputs": [
    {
     "name": "stdout",
     "output_type": "stream",
     "text": [
      "Total chunks: 321\n"
     ]
    }
   ],
   "source": [
    "print(\"Total chunks:\", len(chunks))"
   ]
  },
  {
   "cell_type": "markdown",
   "id": "ac89cf71",
   "metadata": {},
   "source": [
    "### Vector Embedding"
   ]
  },
  {
   "cell_type": "code",
   "execution_count": 24,
   "id": "bac76353",
   "metadata": {},
   "outputs": [],
   "source": [
    "import faiss\n",
    "from langchain_community.vectorstores import FAISS\n",
    "from langchain_community.docstore.in_memory import InMemoryDocstore\n",
    "from langchain_ollama import OllamaEmbeddings"
   ]
  },
  {
   "cell_type": "code",
   "execution_count": 25,
   "id": "9b644100",
   "metadata": {},
   "outputs": [],
   "source": [
    "base_url = \"http://localhost:11434\"\n",
    "embedding_model = \"nomic-embed-text\"\n",
    "\n",
    "embeddings = OllamaEmbeddings(model=embedding_model, base_url=base_url)"
   ]
  },
  {
   "cell_type": "code",
   "execution_count": 26,
   "id": "3dbc8bed",
   "metadata": {},
   "outputs": [
    {
     "name": "stdout",
     "output_type": "stream",
     "text": [
      "Embedding size: 768\n"
     ]
    }
   ],
   "source": [
    "vector = embeddings.embed_query(\"Hello world!\")\n",
    "print(\"Embedding size:\", len(vector))"
   ]
  },
  {
   "cell_type": "code",
   "execution_count": 27,
   "id": "f755ac59",
   "metadata": {},
   "outputs": [
    {
     "data": {
      "text/plain": [
       "(0, 768)"
      ]
     },
     "execution_count": 27,
     "metadata": {},
     "output_type": "execute_result"
    }
   ],
   "source": [
    "index = faiss.IndexFlatL2(len(vector))\n",
    "index.ntotal, index.d"
   ]
  },
  {
   "cell_type": "code",
   "execution_count": 28,
   "id": "da905e14",
   "metadata": {},
   "outputs": [],
   "source": [
    "vector_store = FAISS(\n",
    "  embedding_function=embeddings,\n",
    "  index=index,\n",
    "  docstore=InMemoryDocstore(),\n",
    "  index_to_docstore_id={}\n",
    ")"
   ]
  },
  {
   "cell_type": "code",
   "execution_count": 29,
   "id": "53140da1",
   "metadata": {},
   "outputs": [],
   "source": [
    "ids = vector_store.add_documents(documents=chunks)"
   ]
  },
  {
   "cell_type": "code",
   "execution_count": 30,
   "id": "1653f3e7",
   "metadata": {},
   "outputs": [
    {
     "data": {
      "text/plain": [
       "(321, 321)"
      ]
     },
     "execution_count": 30,
     "metadata": {},
     "output_type": "execute_result"
    }
   ],
   "source": [
    "len(ids), vector_store.index.ntotal"
   ]
  },
  {
   "cell_type": "code",
   "execution_count": 32,
   "id": "d792d060",
   "metadata": {},
   "outputs": [
    {
     "data": {
      "text/plain": [
       "[Document(metadata={'source': '.././data/rag-dataset\\\\gym supplements\\\\1. Analysis of Actual Fitness Supplement.pdf', 'file_path': '.././data/rag-dataset\\\\gym supplements\\\\1. Analysis of Actual Fitness Supplement.pdf', 'page': 0, 'total_pages': 15, 'format': 'PDF 1.7', 'title': '', 'author': '', 'subject': '', 'keywords': '', 'creator': '', 'producer': 'iLovePDF', 'creationDate': '', 'modDate': 'D:20241021113850Z', 'trapped': ''}, page_content='acids than traditional protein sources. Its numerous benefits have made it a popular choice\\nfor snacks and drinks among consumers [3]. Another widely embraced supplement is\\ncaffeine, which is found in many sports and food supplements. Caffeine reduces perceived\\neffort, minimizes fatigue and pain, and proves to be effective for endurance and high-\\nintensity activities, which is the choice of consumers [4].\\nCreatine monohydrate is another well-known supplement used to gain muscle mass\\nand support performance and recovery. It is known not to increase fat mass and remains\\neffective even when taken in recommended doses [5]. Despite its popularity in the fitness\\nFoods 2024, 13, 1424. https://doi.org/10.3390/foods13091424\\nhttps://www.mdpi.com/journal/foods'),\n",
       " Document(metadata={'source': '.././data/rag-dataset\\\\gym supplements\\\\1. Analysis of Actual Fitness Supplement.pdf', 'file_path': '.././data/rag-dataset\\\\gym supplements\\\\1. Analysis of Actual Fitness Supplement.pdf', 'page': 1, 'total_pages': 15, 'format': 'PDF 1.7', 'title': '', 'author': '', 'subject': '', 'keywords': '', 'creator': '', 'producer': 'iLovePDF', 'creationDate': '', 'modDate': 'D:20241021113850Z', 'trapped': ''}, page_content='Foods 2024, 13, 1424\\n2 of 21\\nand sports industry, evidence suggests that creatine can benefit not only athletes but also\\nthe elderly and the general population [6]. Branched-chain amino acids (BCAA) also offer\\na plethora of benefits for consumers. As explained by Sanz et al. [7], BCAAs are stored\\ndirectly in muscles and serve as the raw materials needed to build new muscle. This\\ncontributes to the overall process of strengthening muscles and alleviating post-workout\\nsoreness. Consumers often integrate these supplements into their routines with the aim of\\noptimizing the outcomes they wish to achieve and support overall well-being [1].\\nThe sports supplement industry makes for an impressive market share of nearly\\n$12 billion in the health/wellness portfolio and is projected to be worth $24.4 billion\\nby 2025. In a study by Burke [4], which investigated 20 published studies about the\\nprevalence, methods, and reasons for supplement consumption, it is evident from the'),\n",
       " Document(metadata={'source': '.././data/rag-dataset\\\\gym supplements\\\\2. High Prevalence of Supplement Intake.pdf', 'file_path': '.././data/rag-dataset\\\\gym supplements\\\\2. High Prevalence of Supplement Intake.pdf', 'page': 8, 'total_pages': 11, 'format': 'PDF 1.5', 'title': '', 'author': '', 'subject': '', 'keywords': '', 'creator': '', 'producer': 'iLovePDF', 'creationDate': '', 'modDate': 'D:20241021113904Z', 'trapped': ''}, page_content='and strength gain among men. We detected more prevalent protein and creatine supplementation\\namong younger compared to older ﬁtness center users, whereas the opposite was found for vitamin\\nsupplementation. Other authors made similar observations [23] and it might reﬂect the diﬀerent\\ntraining goals among age groups, i.e., more focus on strength and muscles among the younger and\\nmore focus on health among the older age groups.\\nComparable to other studies [4], we detected a positive correlation between training frequency\\nand supplement usage. Nevertheless, the correlation is weak and is deﬁnitely not a predictor at the\\nindividual level. The subject with the highest supplement intake of 100 weekly servings was training\\nonly once a week.'),\n",
       " Document(metadata={'source': '.././data/rag-dataset\\\\gym supplements\\\\2. High Prevalence of Supplement Intake.pdf', 'file_path': '.././data/rag-dataset\\\\gym supplements\\\\2. High Prevalence of Supplement Intake.pdf', 'page': 8, 'total_pages': 11, 'format': 'PDF 1.5', 'title': '', 'author': '', 'subject': '', 'keywords': '', 'creator': '', 'producer': 'iLovePDF', 'creationDate': '', 'modDate': 'D:20241021113904Z', 'trapped': ''}, page_content='educated guess of the magnitude of supplement intake, which seems to be even more relevant than the\\nmere prevalence of supplements in use. Future studies should focus more on this parameter to obtain\\nmore data about the scale of supplement intake and not only about the prevalence of supplement users,\\nno matter the extent of use. Our data indicate that a signiﬁcant part of the supplement consumers is\\nsupplementing on a large scale, i.e., 31% use at least 20 supplement servings per week and 10% use 40\\nor more supplement servings per week.\\nProtein supplements represented the most prevalent products, which is in line with other\\nsupplement screening studies [19,23,24]. In line with others [4], we reported a more prevalent protein\\nintake among men compared to women. This correlates with the more prevalent training goal of muscle\\nand strength gain among men. We detected more prevalent protein and creatine supplementation'),\n",
       " Document(metadata={'source': '.././data/rag-dataset\\\\gym supplements\\\\1. Analysis of Actual Fitness Supplement.pdf', 'file_path': '.././data/rag-dataset\\\\gym supplements\\\\1. Analysis of Actual Fitness Supplement.pdf', 'page': 12, 'total_pages': 15, 'format': 'PDF 1.7', 'title': '', 'author': '', 'subject': '', 'keywords': '', 'creator': '', 'producer': 'iLovePDF', 'creationDate': '', 'modDate': 'D:20241021113850Z', 'trapped': ''}, page_content='p < 0.001). Based on the constructs, respondents consume fitness supplements with mul-\\ntiple goals in mind, including increasing muscle mass, enhancing performance in fitness\\nactivities, meeting nutritional needs, and supporting the maintenance or initiation of a\\nhealthy lifestyle. They view fitness supplements as versatile tools with a range of posi-\\ntive impacts. The diverse reasons for consumption suggest a comprehensive approach\\nto health, encompassing not only physical well-being but also performance and lifestyle\\nconsiderations. Additionally, they see fitness supplements as instrumental in achieving\\nvarious health-related objectives, from muscle building and performance enhancement to\\nnutritional support and the promotion of a sustainable healthy lifestyle. This is aligned\\nwith the results of Sirico [46], which found that the enhancement of sport performance\\nand overall health and wellness are primary motivations for supplement use. Addition-')]"
      ]
     },
     "execution_count": 32,
     "metadata": {},
     "output_type": "execute_result"
    }
   ],
   "source": [
    "# Search for relevant chunks\n",
    "question = \"Is creatine useful to increase muscle mass?\"\n",
    "relevant_chunks = vector_store.search(query=question,\n",
    "                                      search_type=\"similarity\",\n",
    "                                      k=5)\n",
    "relevant_chunks"
   ]
  },
  {
   "cell_type": "code",
   "execution_count": 34,
   "id": "0bd946a0",
   "metadata": {},
   "outputs": [],
   "source": [
    "# Save the vector store\n",
    "db_name = \"./../store/db_supplements\"\n",
    "vector_store.save_local(folder_path=db_name)"
   ]
  },
  {
   "cell_type": "code",
   "execution_count": null,
   "id": "455a3362",
   "metadata": {},
   "outputs": [],
   "source": []
  }
 ],
 "metadata": {
  "kernelspec": {
   "display_name": "Python (ml)",
   "language": "python",
   "name": "ml"
  },
  "language_info": {
   "codemirror_mode": {
    "name": "ipython",
    "version": 3
   },
   "file_extension": ".py",
   "mimetype": "text/x-python",
   "name": "python",
   "nbconvert_exporter": "python",
   "pygments_lexer": "ipython3",
   "version": "3.11.4"
  }
 },
 "nbformat": 4,
 "nbformat_minor": 5
}
