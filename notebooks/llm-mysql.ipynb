{
 "cells": [
  {
   "cell_type": "markdown",
   "id": "fe2f534e",
   "metadata": {},
   "source": [
    "## Text to MySQL Queries\n",
    "Building Q&A systems related to SQL database"
   ]
  },
  {
   "cell_type": "code",
   "execution_count": 11,
   "id": "5725c468",
   "metadata": {},
   "outputs": [
    {
     "data": {
      "text/plain": [
       "True"
      ]
     },
     "execution_count": 11,
     "metadata": {},
     "output_type": "execute_result"
    }
   ],
   "source": [
    "import os\n",
    "from dotenv import load_dotenv\n",
    "\n",
    "load_dotenv(\"./../.env\")"
   ]
  },
  {
   "cell_type": "code",
   "execution_count": 12,
   "id": "9619725e",
   "metadata": {},
   "outputs": [],
   "source": [
    "from langchain_community.utilities import SQLDatabase"
   ]
  },
  {
   "cell_type": "code",
   "execution_count": 13,
   "id": "8440fdf3",
   "metadata": {},
   "outputs": [],
   "source": [
    "username = \"root\"\n",
    "password = \"\"\n",
    "db_url = \"@localhost\"\n",
    "db_name = \"employee_db\"\n",
    "\n",
    "db = SQLDatabase.from_uri(f\"mysql+pymysql://{username}:{db_url}/{db_name}\")"
   ]
  },
  {
   "cell_type": "code",
   "execution_count": 14,
   "id": "15c50e4f",
   "metadata": {},
   "outputs": [
    {
     "name": "stdout",
     "output_type": "stream",
     "text": [
      "Tables: ['employees']\n",
      "[(1, 'Ranna', 'Ryce', 'Female', '0000-00-00', '0000-00-00'), (2, 'Paten', 'Raise', 'Male', '0000-00-00', '0000-00-00'), (3, 'Maisey', 'Classen', 'Female', '0000-00-00', '0000-00-00'), (4, 'Nerita', 'Gilbard', 'Female', '0000-00-00', '0000-00-00'), (5, 'Irwin', 'Ciobutaru', 'Male', '0000-00-00', '0000-00-00')]\n"
     ]
    }
   ],
   "source": [
    "print(\"Tables:\", db.get_usable_table_names())\n",
    "print(db.run(f\"SELECT * FROM employees LIMIT 5\"))"
   ]
  },
  {
   "cell_type": "code",
   "execution_count": 15,
   "id": "d996fd11",
   "metadata": {},
   "outputs": [],
   "source": [
    "from langchain_ollama import ChatOllama \n",
    "from langchain_core.output_parsers import StrOutputParser\n",
    "from langchain_core.runnables import RunnablePassthrough \n",
    "from langchain_core.prompts import ChatPromptTemplate\n",
    "\n",
    "from langchain_core.tools import tool"
   ]
  },
  {
   "cell_type": "code",
   "execution_count": 16,
   "id": "11544247",
   "metadata": {},
   "outputs": [],
   "source": [
    "model = 'llama3.2'\n",
    "base_url = 'http://localhost:11434'\n",
    "ollama = ChatOllama(model=model, base_url=base_url)"
   ]
  },
  {
   "cell_type": "code",
   "execution_count": 17,
   "id": "960c9fd6",
   "metadata": {},
   "outputs": [],
   "source": [
    "from langchain.chains import create_sql_query_chain"
   ]
  },
  {
   "cell_type": "code",
   "execution_count": 18,
   "id": "66e3d75d",
   "metadata": {},
   "outputs": [
    {
     "name": "stdout",
     "output_type": "stream",
     "text": [
      "You are a MySQL expert. Given an input question, first create a syntactically correct MySQL query to run, then look at the results of the query and return the answer to the input question.\n",
      "Unless the user specifies in the question a specific number of examples to obtain, query for at most 5 results using the LIMIT clause as per MySQL. You can order the results to return the most informative data in the database.\n",
      "Never query for all columns from a table. You must query only the columns that are needed to answer the question. Wrap each column name in backticks (`) to denote them as delimited identifiers.\n",
      "Pay attention to use only the column names you can see in the tables below. Be careful to not query for columns that do not exist. Also, pay attention to which column is in which table.\n",
      "Pay attention to use CURDATE() function to get the current date, if the question involves \"today\".\n",
      "\n",
      "Use the following format:\n",
      "\n",
      "Question: Question here\n",
      "SQLQuery: SQL Query to run\n",
      "SQLResult: Result of the SQLQuery\n",
      "Answer: Final answer here\n",
      "\n",
      "Only use the following tables:\n",
      "\u001b[33;1m\u001b[1;3m{table_info}\u001b[0m\n",
      "\n",
      "Question: \u001b[33;1m\u001b[1;3m{input}\u001b[0m\n"
     ]
    }
   ],
   "source": [
    "sql_chain = create_sql_query_chain(ollama, db)\n",
    "sql_chain.get_prompts()[0].pretty_print()"
   ]
  },
  {
   "cell_type": "code",
   "execution_count": 19,
   "id": "73ff70e2",
   "metadata": {},
   "outputs": [
    {
     "name": "stdout",
     "output_type": "stream",
     "text": [
      "Answer: There are 3 employees.\n",
      "\n",
      "SQLQuery:\n",
      "\n",
      "SELECT COUNT(*) as total_employees FROM employees;\n"
     ]
    }
   ],
   "source": [
    "question = \"How many employees are there?\"\n",
    "response = sql_chain.invoke({'question': question})\n",
    "print(response)"
   ]
  },
  {
   "cell_type": "markdown",
   "id": "6212fbaa",
   "metadata": {},
   "source": [
    "The answer is wrong."
   ]
  },
  {
   "cell_type": "markdown",
   "id": "6646e05f",
   "metadata": {},
   "source": [
    "### Extract the correct query"
   ]
  },
  {
   "cell_type": "code",
   "execution_count": 20,
   "id": "68829fd0",
   "metadata": {},
   "outputs": [],
   "source": [
    "from langchain_core.runnables import chain\n",
    "\n",
    "import os\n",
    "import sys\n",
    "\n",
    "# Get the absolute path to the directory containing the script to import\n",
    "# Replace 'path/to/your/other_folder' with the actual relative or absolute path\n",
    "other_folder_path = os.path.abspath('./../scripts') \n",
    "\n",
    "# Add the folder to sys.path\n",
    "sys.path.insert(0, other_folder_path) \n",
    "\n",
    "import llm"
   ]
  },
  {
   "cell_type": "code",
   "execution_count": 21,
   "id": "28c17892",
   "metadata": {},
   "outputs": [],
   "source": [
    "@chain \n",
    "def get_correct_sql_query(inputs):\n",
    "  context = inputs['context']\n",
    "  question = inputs['question']\n",
    "  \n",
    "  instruction = f\"\"\"\n",
    "  Use above context to fetch the correct SQL query for following question\n",
    "  {question}\n",
    "  \n",
    "  Do not enclose query in ```sql and do not write preamble and explanation.\n",
    "  You MUST return only single SQL query.\n",
    "  \"\"\"\n",
    "  \n",
    "  response = llm.ask_llm(context=context, question=instruction)\n",
    "  return response\n",
    "  "
   ]
  },
  {
   "cell_type": "code",
   "execution_count": 22,
   "id": "0b9b9653",
   "metadata": {},
   "outputs": [
    {
     "name": "stdout",
     "output_type": "stream",
     "text": [
      "SELECT COUNT(*) as total_employees FROM employees\n"
     ]
    }
   ],
   "source": [
    "response = get_correct_sql_query.invoke({'context': response, 'question': question})\n",
    "print(response)"
   ]
  },
  {
   "cell_type": "code",
   "execution_count": 23,
   "id": "c6610a8a",
   "metadata": {},
   "outputs": [
    {
     "data": {
      "text/plain": [
       "'[(1000,)]'"
      ]
     },
     "execution_count": 23,
     "metadata": {},
     "output_type": "execute_result"
    }
   ],
   "source": [
    "db.run(response)"
   ]
  },
  {
   "cell_type": "markdown",
   "id": "e0412160",
   "metadata": {},
   "source": [
    "### Final query chain"
   ]
  },
  {
   "cell_type": "code",
   "execution_count": 24,
   "id": "c5875331",
   "metadata": {},
   "outputs": [],
   "source": [
    "from langchain_community.tools.sql_database.tool import QuerySQLDataBaseTool"
   ]
  },
  {
   "cell_type": "code",
   "execution_count": 25,
   "id": "6985cee4",
   "metadata": {},
   "outputs": [],
   "source": [
    "ollama = ChatOllama(model=model, base_url=base_url)\n",
    "\n",
    "sql_query = create_sql_query_chain(ollama, db)\n",
    "execute_query = QuerySQLDataBaseTool(db=db)\n",
    "\n",
    "final_chain = (\n",
    "  {'context': sql_query, \"question\": RunnablePassthrough()} \n",
    "  | get_correct_sql_query \n",
    "  | execute_query\n",
    ")"
   ]
  },
  {
   "cell_type": "code",
   "execution_count": 26,
   "id": "18da0d1f",
   "metadata": {},
   "outputs": [
    {
     "name": "stdout",
     "output_type": "stream",
     "text": [
      "[(1000,)]\n"
     ]
    }
   ],
   "source": [
    "response = final_chain.invoke({'question':  \"How many employees are there?\"})\n",
    "print(response)"
   ]
  },
  {
   "cell_type": "markdown",
   "id": "cd19f9a1",
   "metadata": {},
   "source": [
    "### Use agent instead of chain"
   ]
  },
  {
   "cell_type": "code",
   "execution_count": 27,
   "id": "bab21dbd",
   "metadata": {},
   "outputs": [],
   "source": [
    "from langchain_community.agent_toolkits import SQLDatabaseToolkit"
   ]
  },
  {
   "cell_type": "code",
   "execution_count": 28,
   "id": "b1c528c0",
   "metadata": {},
   "outputs": [
    {
     "data": {
      "text/plain": [
       "[QuerySQLDataBaseTool(description=\"Input to this tool is a detailed and correct SQL query, output is a result from the database. If the query is not correct, an error message will be returned. If an error is returned, rewrite the query, check the query, and try again. If you encounter an issue with Unknown column 'xxxx' in 'field list', use sql_db_schema to query the correct table fields.\", db=<langchain_community.utilities.sql_database.SQLDatabase object at 0x0000021886E2B6D0>),\n",
       " InfoSQLDatabaseTool(description='Input to this tool is a comma-separated list of tables, output is the schema and sample rows for those tables. Be sure that the tables actually exist by calling sql_db_list_tables first! Example Input: table1, table2, table3', db=<langchain_community.utilities.sql_database.SQLDatabase object at 0x0000021886E2B6D0>),\n",
       " ListSQLDatabaseTool(db=<langchain_community.utilities.sql_database.SQLDatabase object at 0x0000021886E2B6D0>),\n",
       " QuerySQLCheckerTool(description='Use this tool to double check if your query is correct before executing it. Always use this tool before executing a query with sql_db_query!', db=<langchain_community.utilities.sql_database.SQLDatabase object at 0x0000021886E2B6D0>, llm=ChatOllama(model='llama3.2', base_url='http://localhost:11434'), llm_chain=LLMChain(verbose=False, prompt=PromptTemplate(input_variables=['dialect', 'query'], input_types={}, partial_variables={}, template='\\n{query}\\nDouble check the {dialect} query above for common mistakes, including:\\n- Using NOT IN with NULL values\\n- Using UNION when UNION ALL should have been used\\n- Using BETWEEN for exclusive ranges\\n- Data type mismatch in predicates\\n- Properly quoting identifiers\\n- Using the correct number of arguments for functions\\n- Casting to the correct data type\\n- Using the proper columns for joins\\n\\nIf there are any of the above mistakes, rewrite the query. If there are no mistakes, just reproduce the original query.\\n\\nOutput the final SQL query only.\\n\\nSQL Query: '), llm=ChatOllama(model='llama3.2', base_url='http://localhost:11434'), output_parser=StrOutputParser(), llm_kwargs={}))]"
      ]
     },
     "execution_count": 28,
     "metadata": {},
     "output_type": "execute_result"
    }
   ],
   "source": [
    "toolkit = SQLDatabaseToolkit(db=db, llm=ollama)\n",
    "tools = toolkit.get_tools()\n",
    "tools"
   ]
  },
  {
   "cell_type": "code",
   "execution_count": 29,
   "id": "8b1bc944",
   "metadata": {},
   "outputs": [],
   "source": [
    "from langchain_core.messages import SystemMessage\n",
    "\n",
    "SQL_PREFIX = \"\"\"\n",
    "You are an agent designed to interact with a SQL database.\n",
    "Given an input question, create a syntactically correct SQLite query to run, then look at the results of the query and return the answer.\n",
    "Unless the user specifies a specific number of examples they wish to obtain, always limit your query to at most 5 results.\n",
    "You can order the results by a relevant column to return the most interesting examples in the database.\n",
    "Never query for all the columns from a specific table, only ask for the relevant columns given the question.\n",
    "You have access to tools for interacting with the database.\n",
    "Only use the below tools. Only use the information returned by the below tools to construct your final answer.\n",
    "You MUST double check your query before executing it. If you get an error while executing a query, rewrite the query and try again.\n",
    "\n",
    "DO NOT make any DML statements (INSERT, UPDATE, DELETE, DROP etc.) to the database.\n",
    "\n",
    "To start you should ALWAYS look at the tables in the database to see what you can query.\n",
    "Do NOT skip this step.\n",
    "Then you should query the schema of the most relevant tables.\"\"\"\n",
    "\n",
    "system_message = SystemMessage(content=SQL_PREFIX)"
   ]
  },
  {
   "cell_type": "code",
   "execution_count": 30,
   "id": "7fd0c8d9",
   "metadata": {},
   "outputs": [],
   "source": [
    "from langchain_core.messages import HumanMessage\n",
    "from langgraph.prebuilt import create_react_agent"
   ]
  },
  {
   "cell_type": "code",
   "execution_count": 31,
   "id": "dfcd47f9",
   "metadata": {},
   "outputs": [],
   "source": [
    "ollama = ChatOllama(model=model, base_url=base_url)\n",
    "agent_executor = create_react_agent(ollama, tools, state_modifier=system_message, debug=True)"
   ]
  },
  {
   "cell_type": "code",
   "execution_count": 32,
   "id": "cf95369c",
   "metadata": {},
   "outputs": [
    {
     "name": "stdout",
     "output_type": "stream",
     "text": [
      "\u001b[36;1m\u001b[1;3m[-1:checkpoint]\u001b[0m \u001b[1mState at the end of step -1:\n",
      "\u001b[0m{'messages': []}\n",
      "\u001b[36;1m\u001b[1;3m[0:tasks]\u001b[0m \u001b[1mStarting step 0 with 1 task:\n",
      "\u001b[0m- \u001b[32;1m\u001b[1;3m__start__\u001b[0m -> {'messages': [HumanMessage(content='How many employees are there?', additional_kwargs={}, response_metadata={})]}\n",
      "\u001b[36;1m\u001b[1;3m[0:writes]\u001b[0m \u001b[1mFinished step 0 with writes to 1 channel:\n",
      "\u001b[0m- \u001b[33;1m\u001b[1;3mmessages\u001b[0m -> [HumanMessage(content='How many employees are there?', additional_kwargs={}, response_metadata={})]\n",
      "\u001b[36;1m\u001b[1;3m[0:checkpoint]\u001b[0m \u001b[1mState at the end of step 0:\n",
      "\u001b[0m{'messages': [HumanMessage(content='How many employees are there?', additional_kwargs={}, response_metadata={}, id='cb82c284-4b27-4aba-90b0-6e83b3463f1c')]}\n",
      "\u001b[36;1m\u001b[1;3m[1:tasks]\u001b[0m \u001b[1mStarting step 1 with 1 task:\n",
      "\u001b[0m- \u001b[32;1m\u001b[1;3magent\u001b[0m -> {'is_last_step': False,\n",
      " 'messages': [HumanMessage(content='How many employees are there?', additional_kwargs={}, response_metadata={}, id='cb82c284-4b27-4aba-90b0-6e83b3463f1c')],\n",
      " 'remaining_steps': 24}\n",
      "\u001b[36;1m\u001b[1;3m[1:writes]\u001b[0m \u001b[1mFinished step 1 with writes to 1 channel:\n",
      "\u001b[0m- \u001b[33;1m\u001b[1;3mmessages\u001b[0m -> [AIMessage(content='', additional_kwargs={}, response_metadata={'model': 'llama3.2', 'created_at': '2025-06-30T08:45:53.971265Z', 'done': True, 'done_reason': 'stop', 'total_duration': 19733043200, 'load_duration': 13013169000, 'prompt_eval_count': 716, 'prompt_eval_duration': 3995492500, 'eval_count': 19, 'eval_duration': 2716414000, 'message': Message(role='assistant', content='', images=None, tool_calls=[ToolCall(function=Function(name='sql_db_query', arguments={'query': 'SELECT COUNT(*) FROM employees'}))])}, id='run-2e1528a4-60b9-4bde-9f87-657fb468d4be-0', tool_calls=[{'name': 'sql_db_query', 'args': {'query': 'SELECT COUNT(*) FROM employees'}, 'id': 'fb269155-b5ba-403d-82a6-aadc497998b7', 'type': 'tool_call'}], usage_metadata={'input_tokens': 716, 'output_tokens': 19, 'total_tokens': 735})]\n",
      "\u001b[36;1m\u001b[1;3m[1:checkpoint]\u001b[0m \u001b[1mState at the end of step 1:\n",
      "\u001b[0m{'messages': [HumanMessage(content='How many employees are there?', additional_kwargs={}, response_metadata={}, id='cb82c284-4b27-4aba-90b0-6e83b3463f1c'),\n",
      "              AIMessage(content='', additional_kwargs={}, response_metadata={'model': 'llama3.2', 'created_at': '2025-06-30T08:45:53.971265Z', 'done': True, 'done_reason': 'stop', 'total_duration': 19733043200, 'load_duration': 13013169000, 'prompt_eval_count': 716, 'prompt_eval_duration': 3995492500, 'eval_count': 19, 'eval_duration': 2716414000, 'message': Message(role='assistant', content='', images=None, tool_calls=[ToolCall(function=Function(name='sql_db_query', arguments={'query': 'SELECT COUNT(*) FROM employees'}))])}, id='run-2e1528a4-60b9-4bde-9f87-657fb468d4be-0', tool_calls=[{'name': 'sql_db_query', 'args': {'query': 'SELECT COUNT(*) FROM employees'}, 'id': 'fb269155-b5ba-403d-82a6-aadc497998b7', 'type': 'tool_call'}], usage_metadata={'input_tokens': 716, 'output_tokens': 19, 'total_tokens': 735})]}\n",
      "\u001b[36;1m\u001b[1;3m[2:tasks]\u001b[0m \u001b[1mStarting step 2 with 1 task:\n",
      "\u001b[0m- \u001b[32;1m\u001b[1;3mtools\u001b[0m -> {'is_last_step': False,\n",
      " 'messages': [HumanMessage(content='How many employees are there?', additional_kwargs={}, response_metadata={}, id='cb82c284-4b27-4aba-90b0-6e83b3463f1c'),\n",
      "              AIMessage(content='', additional_kwargs={}, response_metadata={'model': 'llama3.2', 'created_at': '2025-06-30T08:45:53.971265Z', 'done': True, 'done_reason': 'stop', 'total_duration': 19733043200, 'load_duration': 13013169000, 'prompt_eval_count': 716, 'prompt_eval_duration': 3995492500, 'eval_count': 19, 'eval_duration': 2716414000, 'message': Message(role='assistant', content='', images=None, tool_calls=[ToolCall(function=Function(name='sql_db_query', arguments={'query': 'SELECT COUNT(*) FROM employees'}))])}, id='run-2e1528a4-60b9-4bde-9f87-657fb468d4be-0', tool_calls=[{'name': 'sql_db_query', 'args': {'query': 'SELECT COUNT(*) FROM employees'}, 'id': 'fb269155-b5ba-403d-82a6-aadc497998b7', 'type': 'tool_call'}], usage_metadata={'input_tokens': 716, 'output_tokens': 19, 'total_tokens': 735})],\n",
      " 'remaining_steps': 23}\n",
      "\u001b[36;1m\u001b[1;3m[2:writes]\u001b[0m \u001b[1mFinished step 2 with writes to 1 channel:\n",
      "\u001b[0m- \u001b[33;1m\u001b[1;3mmessages\u001b[0m -> [ToolMessage(content='[(1000,)]', name='sql_db_query', tool_call_id='fb269155-b5ba-403d-82a6-aadc497998b7')]\n",
      "\u001b[36;1m\u001b[1;3m[2:checkpoint]\u001b[0m \u001b[1mState at the end of step 2:\n",
      "\u001b[0m{'messages': [HumanMessage(content='How many employees are there?', additional_kwargs={}, response_metadata={}, id='cb82c284-4b27-4aba-90b0-6e83b3463f1c'),\n",
      "              AIMessage(content='', additional_kwargs={}, response_metadata={'model': 'llama3.2', 'created_at': '2025-06-30T08:45:53.971265Z', 'done': True, 'done_reason': 'stop', 'total_duration': 19733043200, 'load_duration': 13013169000, 'prompt_eval_count': 716, 'prompt_eval_duration': 3995492500, 'eval_count': 19, 'eval_duration': 2716414000, 'message': Message(role='assistant', content='', images=None, tool_calls=[ToolCall(function=Function(name='sql_db_query', arguments={'query': 'SELECT COUNT(*) FROM employees'}))])}, id='run-2e1528a4-60b9-4bde-9f87-657fb468d4be-0', tool_calls=[{'name': 'sql_db_query', 'args': {'query': 'SELECT COUNT(*) FROM employees'}, 'id': 'fb269155-b5ba-403d-82a6-aadc497998b7', 'type': 'tool_call'}], usage_metadata={'input_tokens': 716, 'output_tokens': 19, 'total_tokens': 735}),\n",
      "              ToolMessage(content='[(1000,)]', name='sql_db_query', id='df670825-a562-4c9c-b244-66d2ab6c65f4', tool_call_id='fb269155-b5ba-403d-82a6-aadc497998b7')]}\n",
      "\u001b[36;1m\u001b[1;3m[3:tasks]\u001b[0m \u001b[1mStarting step 3 with 1 task:\n",
      "\u001b[0m- \u001b[32;1m\u001b[1;3magent\u001b[0m -> {'is_last_step': False,\n",
      " 'messages': [HumanMessage(content='How many employees are there?', additional_kwargs={}, response_metadata={}, id='cb82c284-4b27-4aba-90b0-6e83b3463f1c'),\n",
      "              AIMessage(content='', additional_kwargs={}, response_metadata={'model': 'llama3.2', 'created_at': '2025-06-30T08:45:53.971265Z', 'done': True, 'done_reason': 'stop', 'total_duration': 19733043200, 'load_duration': 13013169000, 'prompt_eval_count': 716, 'prompt_eval_duration': 3995492500, 'eval_count': 19, 'eval_duration': 2716414000, 'message': Message(role='assistant', content='', images=None, tool_calls=[ToolCall(function=Function(name='sql_db_query', arguments={'query': 'SELECT COUNT(*) FROM employees'}))])}, id='run-2e1528a4-60b9-4bde-9f87-657fb468d4be-0', tool_calls=[{'name': 'sql_db_query', 'args': {'query': 'SELECT COUNT(*) FROM employees'}, 'id': 'fb269155-b5ba-403d-82a6-aadc497998b7', 'type': 'tool_call'}], usage_metadata={'input_tokens': 716, 'output_tokens': 19, 'total_tokens': 735}),\n",
      "              ToolMessage(content='[(1000,)]', name='sql_db_query', id='df670825-a562-4c9c-b244-66d2ab6c65f4', tool_call_id='fb269155-b5ba-403d-82a6-aadc497998b7')],\n",
      " 'remaining_steps': 22}\n",
      "\u001b[36;1m\u001b[1;3m[3:writes]\u001b[0m \u001b[1mFinished step 3 with writes to 1 channel:\n",
      "\u001b[0m- \u001b[33;1m\u001b[1;3mmessages\u001b[0m -> [AIMessage(content='There are 1000 employees in the database.', additional_kwargs={}, response_metadata={'model': 'llama3.2', 'created_at': '2025-06-30T08:45:56.5711086Z', 'done': True, 'done_reason': 'stop', 'total_duration': 2348662400, 'load_duration': 83980500, 'prompt_eval_count': 321, 'prompt_eval_duration': 892542400, 'eval_count': 11, 'eval_duration': 1363427800, 'message': Message(role='assistant', content='There are 1000 employees in the database.', images=None, tool_calls=None)}, id='run-073f9172-5f83-4d5c-8886-139a8eaf637f-0', usage_metadata={'input_tokens': 321, 'output_tokens': 11, 'total_tokens': 332})]\n",
      "\u001b[36;1m\u001b[1;3m[3:checkpoint]\u001b[0m \u001b[1mState at the end of step 3:\n",
      "\u001b[0m{'messages': [HumanMessage(content='How many employees are there?', additional_kwargs={}, response_metadata={}, id='cb82c284-4b27-4aba-90b0-6e83b3463f1c'),\n",
      "              AIMessage(content='', additional_kwargs={}, response_metadata={'model': 'llama3.2', 'created_at': '2025-06-30T08:45:53.971265Z', 'done': True, 'done_reason': 'stop', 'total_duration': 19733043200, 'load_duration': 13013169000, 'prompt_eval_count': 716, 'prompt_eval_duration': 3995492500, 'eval_count': 19, 'eval_duration': 2716414000, 'message': Message(role='assistant', content='', images=None, tool_calls=[ToolCall(function=Function(name='sql_db_query', arguments={'query': 'SELECT COUNT(*) FROM employees'}))])}, id='run-2e1528a4-60b9-4bde-9f87-657fb468d4be-0', tool_calls=[{'name': 'sql_db_query', 'args': {'query': 'SELECT COUNT(*) FROM employees'}, 'id': 'fb269155-b5ba-403d-82a6-aadc497998b7', 'type': 'tool_call'}], usage_metadata={'input_tokens': 716, 'output_tokens': 19, 'total_tokens': 735}),\n",
      "              ToolMessage(content='[(1000,)]', name='sql_db_query', id='df670825-a562-4c9c-b244-66d2ab6c65f4', tool_call_id='fb269155-b5ba-403d-82a6-aadc497998b7'),\n",
      "              AIMessage(content='There are 1000 employees in the database.', additional_kwargs={}, response_metadata={'model': 'llama3.2', 'created_at': '2025-06-30T08:45:56.5711086Z', 'done': True, 'done_reason': 'stop', 'total_duration': 2348662400, 'load_duration': 83980500, 'prompt_eval_count': 321, 'prompt_eval_duration': 892542400, 'eval_count': 11, 'eval_duration': 1363427800, 'message': Message(role='assistant', content='There are 1000 employees in the database.', images=None, tool_calls=None)}, id='run-073f9172-5f83-4d5c-8886-139a8eaf637f-0', usage_metadata={'input_tokens': 321, 'output_tokens': 11, 'total_tokens': 332})]}\n"
     ]
    },
    {
     "data": {
      "text/plain": [
       "{'messages': [HumanMessage(content='How many employees are there?', additional_kwargs={}, response_metadata={}, id='cb82c284-4b27-4aba-90b0-6e83b3463f1c'),\n",
       "  AIMessage(content='', additional_kwargs={}, response_metadata={'model': 'llama3.2', 'created_at': '2025-06-30T08:45:53.971265Z', 'done': True, 'done_reason': 'stop', 'total_duration': 19733043200, 'load_duration': 13013169000, 'prompt_eval_count': 716, 'prompt_eval_duration': 3995492500, 'eval_count': 19, 'eval_duration': 2716414000, 'message': Message(role='assistant', content='', images=None, tool_calls=[ToolCall(function=Function(name='sql_db_query', arguments={'query': 'SELECT COUNT(*) FROM employees'}))])}, id='run-2e1528a4-60b9-4bde-9f87-657fb468d4be-0', tool_calls=[{'name': 'sql_db_query', 'args': {'query': 'SELECT COUNT(*) FROM employees'}, 'id': 'fb269155-b5ba-403d-82a6-aadc497998b7', 'type': 'tool_call'}], usage_metadata={'input_tokens': 716, 'output_tokens': 19, 'total_tokens': 735}),\n",
       "  ToolMessage(content='[(1000,)]', name='sql_db_query', id='df670825-a562-4c9c-b244-66d2ab6c65f4', tool_call_id='fb269155-b5ba-403d-82a6-aadc497998b7'),\n",
       "  AIMessage(content='There are 1000 employees in the database.', additional_kwargs={}, response_metadata={'model': 'llama3.2', 'created_at': '2025-06-30T08:45:56.5711086Z', 'done': True, 'done_reason': 'stop', 'total_duration': 2348662400, 'load_duration': 83980500, 'prompt_eval_count': 321, 'prompt_eval_duration': 892542400, 'eval_count': 11, 'eval_duration': 1363427800, 'message': Message(role='assistant', content='There are 1000 employees in the database.', images=None, tool_calls=None)}, id='run-073f9172-5f83-4d5c-8886-139a8eaf637f-0', usage_metadata={'input_tokens': 321, 'output_tokens': 11, 'total_tokens': 332})]}"
      ]
     },
     "execution_count": 32,
     "metadata": {},
     "output_type": "execute_result"
    }
   ],
   "source": [
    "question = \"How many employees are there?\"\n",
    "\n",
    "agent_executor.invoke({\"messages\": [HumanMessage(content=question)]})"
   ]
  },
  {
   "cell_type": "code",
   "execution_count": null,
   "id": "92093ffb",
   "metadata": {},
   "outputs": [],
   "source": []
  }
 ],
 "metadata": {
  "kernelspec": {
   "display_name": "Python (ml)",
   "language": "python",
   "name": "ml"
  },
  "language_info": {
   "codemirror_mode": {
    "name": "ipython",
    "version": 3
   },
   "file_extension": ".py",
   "mimetype": "text/x-python",
   "name": "python",
   "nbconvert_exporter": "python",
   "pygments_lexer": "ipython3",
   "version": "3.11.4"
  }
 },
 "nbformat": 4,
 "nbformat_minor": 5
}
