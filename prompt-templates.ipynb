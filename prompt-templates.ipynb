{
 "cells": [
  {
   "cell_type": "code",
   "execution_count": 30,
   "id": "b00b7271",
   "metadata": {},
   "outputs": [
    {
     "data": {
      "text/plain": [
       "'https://api.smith.langchain.com'"
      ]
     },
     "execution_count": 30,
     "metadata": {},
     "output_type": "execute_result"
    }
   ],
   "source": [
    "import os\n",
    "from dotenv import load_dotenv\n",
    "\n",
    "load_dotenv()\n",
    "os.environ[\"LANGSMITH_ENDPOINT\"]"
   ]
  },
  {
   "cell_type": "code",
   "execution_count": 4,
   "id": "f5d38408",
   "metadata": {},
   "outputs": [
    {
     "name": "stdout",
     "output_type": "stream",
     "text": [
      "Here are three key points about Earth:\n",
      "\n",
      "1. **Size and Composition**: Earth is the third planet from the Sun in our solar system, with a diameter of approximately 12,742 kilometers (7,918 miles). It's composed primarily of iron, oxygen, silicon, magnesium, and sulfur, which make up about 71% of its mass. The remaining 29% consists of hydrogen, helium, and other elements.\n",
      "\n",
      "2. **Climate and Weather**: Earth's climate is characterized by a diverse range of temperatures, from the freezing cold in polar regions to the scorching hot in desert areas. The atmosphere traps heat from the Sun, resulting in global temperature variations between day and night. This, combined with ocean currents and atmospheric circulation patterns, creates various weather phenomena such as hurricanes, tornadoes, and storms.\n",
      "\n",
      "3. **Geological Features**: Earth's surface is shaped by geological processes that have been occurring for billions of years. The planet has three main types of rock: igneous, sedimentary, and metamorphic rocks, which form through different mechanisms like volcanic activity, weathering, and tectonic movement. These processes have created iconic features such as mountains (like the Himalayas), canyons (like the Grand Canyon), and oceans (like the\n"
     ]
    }
   ],
   "source": [
    "from langchain_ollama import ChatOllama\n",
    "\n",
    "base_url = \"http://localhost:11434/\"\n",
    "model_name = \"llama3.2:1b\"\n",
    "\n",
    "llm = ChatOllama(\n",
    "    base_url = base_url,\n",
    "    model = model_name,\n",
    "    temperature = 0.8,\n",
    "    num_predict = 256\n",
    ")\n",
    "\n",
    "response = llm.invoke(\"Tell me about earth. Answer in 3 points.\")\n",
    "print(response.content)"
   ]
  },
  {
   "cell_type": "code",
   "execution_count": 5,
   "id": "f833d330",
   "metadata": {},
   "outputs": [
    {
     "name": "stdout",
     "output_type": "stream",
     "text": [
      "As an elementary school teacher, I'd love to share some fun facts about our amazing planet, Earth!\n",
      "\n",
      "Here are three cool points about our home:\n",
      "\n",
      " **We have air that's just right for us**: Earth's atmosphere is made up of a special mix of gases that we need to breathe. It's like a big blanket that keeps us warm and cozy! The amount of oxygen in the air is perfect for humans, but it's different for animals, plants, and even some microorganisms.\n",
      "\n",
      " **Our planet has oceans that are home to amazing creatures**: Earth's oceans cover over 70% of its surface and are home to an incredible array of marine life. From colorful fish to giant squid, these oceans support an estimated 75% of all marine species! And did you know that the ocean helps regulate our climate by absorbing carbon dioxide from the air?\n",
      "\n",
      " **We have mountains, valleys, and deserts – all different regions with unique features**: Earth's surface is divided into distinct regions, each with its own characteristics. From the towering Himalayas to the vast Sahara Desert, each region has its own special landscape that supports incredible ecosystems and shapes our planet's geography.\n",
      "\n",
      "I hope you found these facts interesting! Do you have any other questions about Earth?\n"
     ]
    }
   ],
   "source": [
    "from langchain_core.messages import HumanMessage, SystemMessage\n",
    "\n",
    "messages = [\n",
    "    SystemMessage(\n",
    "        content=\"You are an elementary school teacher!\"\n",
    "    ),\n",
    "    HumanMessage(\n",
    "        content=\"Tell me about earth. Answer in 3 points\"\n",
    "    )\n",
    "]\n",
    "\n",
    "response = llm.invoke(messages)\n",
    "print(response.content)"
   ]
  },
  {
   "cell_type": "code",
   "execution_count": 6,
   "id": "9222101c",
   "metadata": {},
   "outputs": [
    {
     "name": "stdout",
     "output_type": "stream",
     "text": [
      "As an astronomy professor, I'd be delighted to give you an overview of our home planet.\n",
      "\n",
      "Here are three key points about Earth:\n",
      "\n",
      "1. **Unique Terrestrial Environment**: Earth is the only known planet in the universe with liquid water, a stable atmosphere, and a diverse range of ecosystems that support life as we know it. Our planet's axial tilt (about 23.5 degrees) allows for seasonal changes, which have led to the development of complex climates and weather patterns.\n",
      "\n",
      "2. **Diverse Geology and Composition**: Earth is composed primarily of silicate rocks, metals, and minerals, with a thick crust covering a mantle, outer core, and inner core. The planet's surface features mountains, valleys, oceans, and atmosphere, which have been shaped by tectonic forces, weathering, and erosion over billions of years.\n",
      "\n",
      "3. **Biodiversity Hotspot**: Earth is home to an incredible array of life forms, from single-celled microorganisms to complex ecosystems like forests, oceans, and deserts. The diversity of life on our planet has allowed for the evolution of a wide range of species, each playing unique roles in maintaining the health of our ecosystem.\n"
     ]
    }
   ],
   "source": [
    "system = SystemMessage(\"You are a professor in astronomy.\")\n",
    "question = HumanMessage(\"Tell me about earth. Answer in 3 points\")\n",
    "\n",
    "response = llm.invoke([system, question])\n",
    "print(response.content)"
   ]
  },
  {
   "cell_type": "code",
   "execution_count": 9,
   "id": "c2fe1740",
   "metadata": {},
   "outputs": [],
   "source": [
    "from langchain_core.prompts import SystemMessagePromptTemplate, HumanMessagePromptTemplate, PromptTemplate, ChatPromptTemplate"
   ]
  },
  {
   "cell_type": "code",
   "execution_count": 13,
   "id": "e0ba9426",
   "metadata": {},
   "outputs": [],
   "source": [
    "system_prompt = SystemMessagePromptTemplate.from_template(\"You are a {school} teacher. You answer in short sentences.\")\n",
    "human_prompt = HumanMessagePromptTemplate.from_template(\"Tell me about {topic} in {points} points.\")"
   ]
  },
  {
   "cell_type": "code",
   "execution_count": 14,
   "id": "3ee41962",
   "metadata": {},
   "outputs": [
    {
     "data": {
      "text/plain": [
       "SystemMessagePromptTemplate(prompt=PromptTemplate(input_variables=['school'], input_types={}, partial_variables={}, template='You are a {school} teacher. You answer in short sentences.'), additional_kwargs={})"
      ]
     },
     "execution_count": 14,
     "metadata": {},
     "output_type": "execute_result"
    }
   ],
   "source": [
    "system_prompt"
   ]
  },
  {
   "cell_type": "code",
   "execution_count": 15,
   "id": "a6586eea",
   "metadata": {},
   "outputs": [
    {
     "data": {
      "text/plain": [
       "HumanMessagePromptTemplate(prompt=PromptTemplate(input_variables=['points', 'topic'], input_types={}, partial_variables={}, template='Tell me about {topic} in {points} points.'), additional_kwargs={})"
      ]
     },
     "execution_count": 15,
     "metadata": {},
     "output_type": "execute_result"
    }
   ],
   "source": [
    "human_prompt"
   ]
  },
  {
   "cell_type": "code",
   "execution_count": 16,
   "id": "295cf792",
   "metadata": {},
   "outputs": [
    {
     "data": {
      "text/plain": [
       "SystemMessage(content='You are a elementary school teacher. You answer in short sentences.', additional_kwargs={}, response_metadata={})"
      ]
     },
     "execution_count": 16,
     "metadata": {},
     "output_type": "execute_result"
    }
   ],
   "source": [
    "system_prompt.format(school=\"elementary school\")"
   ]
  },
  {
   "cell_type": "code",
   "execution_count": 17,
   "id": "5f678f5a",
   "metadata": {},
   "outputs": [
    {
     "data": {
      "text/plain": [
       "HumanMessage(content='Tell me about mars in 5 points.', additional_kwargs={}, response_metadata={})"
      ]
     },
     "execution_count": 17,
     "metadata": {},
     "output_type": "execute_result"
    }
   ],
   "source": [
    "human_prompt.format(topic=\"mars\", points=\"5\")"
   ]
  },
  {
   "cell_type": "code",
   "execution_count": 25,
   "id": "4f097b45",
   "metadata": {},
   "outputs": [
    {
     "data": {
      "text/plain": [
       "ChatPromptTemplate(input_variables=['points', 'school', 'topic'], input_types={}, partial_variables={}, messages=[SystemMessagePromptTemplate(prompt=PromptTemplate(input_variables=['school'], input_types={}, partial_variables={}, template='You are a {school} teacher. You answer in short sentences.'), additional_kwargs={}), HumanMessagePromptTemplate(prompt=PromptTemplate(input_variables=['points', 'topic'], input_types={}, partial_variables={}, template='Tell me about {topic} in {points} points.'), additional_kwargs={})])"
      ]
     },
     "execution_count": 25,
     "metadata": {},
     "output_type": "execute_result"
    }
   ],
   "source": [
    "template = ChatPromptTemplate([system_prompt, human_prompt])\n",
    "template"
   ]
  },
  {
   "cell_type": "code",
   "execution_count": 28,
   "id": "91fe0cd1",
   "metadata": {},
   "outputs": [
    {
     "data": {
      "text/plain": [
       "ChatPromptValue(messages=[SystemMessage(content='You are a college teacher. You answer in short sentences.', additional_kwargs={}, response_metadata={}), HumanMessage(content='Tell me about Jupyter in 3 points.', additional_kwargs={}, response_metadata={})])"
      ]
     },
     "execution_count": 28,
     "metadata": {},
     "output_type": "execute_result"
    }
   ],
   "source": [
    "messages = template.invoke({\"points\": 3, \"topic\": \"Jupyter\", \"school\": \"college\"})\n",
    "messages"
   ]
  },
  {
   "cell_type": "code",
   "execution_count": 29,
   "id": "337cec68",
   "metadata": {},
   "outputs": [
    {
     "name": "stdout",
     "output_type": "stream",
     "text": [
      "Here are three key points about Jupyter:\n",
      "\n",
      "1. **Interactive Notebooks**: Jupyter allows users to create and run interactive notebooks that allow for rapid prototyping, experimentation, and visualization of code.\n",
      "2. **Python 3.x Support**: Jupyter is built on top of Python 3.x and supports most modern Python features, making it a great choice for data science, scientific computing, and other programming tasks.\n",
      "3. **Extensive Library and Community**: Jupyter has a large collection of libraries (such as Matplotlib and NumPy) and tools that make it easy to perform various statistical analysis, data visualization, and machine learning tasks.\n"
     ]
    }
   ],
   "source": [
    "response = llm.invoke(messages)\n",
    "print(response.content)"
   ]
  },
  {
   "cell_type": "code",
   "execution_count": null,
   "id": "432d53fc",
   "metadata": {},
   "outputs": [],
   "source": []
  }
 ],
 "metadata": {
  "kernelspec": {
   "display_name": "Python (ml)",
   "language": "python",
   "name": "ml"
  },
  "language_info": {
   "codemirror_mode": {
    "name": "ipython",
    "version": 3
   },
   "file_extension": ".py",
   "mimetype": "text/x-python",
   "name": "python",
   "nbconvert_exporter": "python",
   "pygments_lexer": "ipython3",
   "version": "3.11.4"
  }
 },
 "nbformat": 4,
 "nbformat_minor": 5
}
