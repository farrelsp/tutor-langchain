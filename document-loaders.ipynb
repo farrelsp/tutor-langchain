{
 "cells": [
  {
   "cell_type": "markdown",
   "id": "0ee435c1",
   "metadata": {},
   "source": [
    "# Document Loaders\n",
    "Load the document from the local file and apply LLM to answer the questions."
   ]
  },
  {
   "cell_type": "code",
   "execution_count": 1,
   "id": "8abbc847",
   "metadata": {},
   "outputs": [],
   "source": [
    "# !git clone https://github.com/laxmimerit/rag-dataset.git"
   ]
  },
  {
   "cell_type": "code",
   "execution_count": 2,
   "id": "fc77bd86",
   "metadata": {},
   "outputs": [
    {
     "data": {
      "text/plain": [
       "True"
      ]
     },
     "execution_count": 2,
     "metadata": {},
     "output_type": "execute_result"
    }
   ],
   "source": [
    "from dotenv import load_dotenv\n",
    "load_dotenv()"
   ]
  },
  {
   "cell_type": "code",
   "execution_count": 3,
   "id": "1fb7ec8f",
   "metadata": {},
   "outputs": [
    {
     "name": "stdout",
     "output_type": "stream",
     "text": [
      "Total pages: 17\n"
     ]
    }
   ],
   "source": [
    "from langchain_community.document_loaders import PyMuPDFLoader\n",
    "\n",
    "loader = PyMuPDFLoader(\"./rag-dataset/Health/1. Dietary supplements.pdf\")\n",
    "docs = loader.load()\n",
    "\n",
    "print(\"Total pages:\", len(docs))"
   ]
  },
  {
   "cell_type": "code",
   "execution_count": 4,
   "id": "901a445d",
   "metadata": {},
   "outputs": [
    {
     "data": {
      "text/plain": [
       "{'source': './rag-dataset/Health/1. Dietary supplements.pdf',\n",
       " 'file_path': './rag-dataset/Health/1. Dietary supplements.pdf',\n",
       " 'page': 0,\n",
       " 'total_pages': 17,\n",
       " 'format': 'PDF 1.7',\n",
       " 'title': '',\n",
       " 'author': '',\n",
       " 'subject': '',\n",
       " 'keywords': '',\n",
       " 'creator': '',\n",
       " 'producer': 'iLovePDF',\n",
       " 'creationDate': '',\n",
       " 'modDate': 'D:20241021113754Z',\n",
       " 'trapped': ''}"
      ]
     },
     "execution_count": 4,
     "metadata": {},
     "output_type": "execute_result"
    }
   ],
   "source": [
    "docs[0].metadata"
   ]
  },
  {
   "cell_type": "code",
   "execution_count": 5,
   "id": "fb8c723f",
   "metadata": {},
   "outputs": [
    {
     "name": "stdout",
     "output_type": "stream",
     "text": [
      "International  Journal  of\n",
      "Environmental Research\n",
      "and Public Health\n",
      "Review\n",
      "Dietary Supplements—For Whom? The Current State of\n",
      "Knowledge about the Health Effects of Selected\n",
      "Supplement Use\n",
      "Regina Ewa Wierzejska\n",
      "\u0001\u0002\u0003\u0001\u0004\u0005\u0006\u0001\n",
      "\u0001\u0002\u0003\u0004\u0005\u0006\u0007\n",
      "Citation: Wierzejska, R.E. Dietary\n",
      "Supplements—For Whom? The\n",
      "Current State of Knowledge about the\n",
      "Health Effects of Selected Supplement\n",
      "Use. Int. J. Environ. Res. Public Health\n",
      "2021, 18, 8897. https://doi.org/\n",
      "10.3390/ijerph18178897\n",
      "Academic Editor: Paul B. Tchounwou\n",
      "Received: 15 July 2021\n",
      "Accepted: 21 August 2021\n",
      "Published: 24 August 2021\n",
      "Publisher’s Note: MDPI stays neutral\n",
      "with regard to jurisdictional claims in\n",
      "published maps and institutional afﬁl-\n",
      "iations.\n",
      "Copyright: © 2021 by the author.\n",
      "Licensee MDPI, Basel, Switzerland.\n",
      "This article is an open access article\n",
      "distributed\n",
      "under\n",
      "the\n",
      "terms\n",
      "and\n",
      "conditions of the Creative Commons\n",
      "Attribution (CC BY) license (https://\n",
      "creativecommons.org/licenses/by/\n",
      "4.0/).\n",
      "Department of Nutrition and Nutritional Value of Food, National Institute of Public Health NIH—National\n",
      "Research Institute, Chocimska St. 24, 00-791 Warsaw, Poland; rwierzejska@pzh.gov.pl\n",
      "Abstract: Dietary supplements are products containing nutrients sold in various medicinal forms,\n",
      "and their widespread use may stem from the conviction that a preparation that looks like a drug\n",
      "must have therapeutic properties. The aim of this scoping review is to present what is known\n",
      "about the effects of using selected dietary supplements in the context of chronic diseases, as well\n",
      "as the risks associated with their use. The literature shows that the taking of vitamin and mineral\n",
      "supplements by healthy people neither lowers their risk of cardiovascular diseases nor prevents\n",
      "the development of malignancies. Many scientiﬁc societies recognize that omega-3 fatty acids\n",
      "lower blood triglycerides, but whether taking them prevents heart disease is less clear-cut. Taking\n",
      "weight loss supplements is not an effective method of ﬁghting obesity. Often, some supplements\n",
      "are increasingly sold illegally, which is then also associated with the higher risk that they may\n",
      "be adulterated with banned substances, thus making them even more dangerous and potentially\n",
      "life-threatening. Supplements are necessary in cases of nutrient deﬁciency; however, even though\n",
      "prescription is not required, their use should be recommended and monitored by a physician.\n",
      "Keywords: dietary supplements; legal regulations; health; safety\n",
      "1. Introduction\n",
      "In accordance with the European Union law, as well as the United States law, dietary\n",
      "supplements mean products that are concentrated sources of vitamins, minerals, or other\n",
      "substances with a nutritional or physiological effect (e.g., amino acids, essential fatty acids,\n",
      "probiotics, plants, and herbal extracts) intended to supplement the regular diet. Dietary\n",
      "supplements are produced in the form of capsules, tablets, pills, and other similar forms,\n",
      "designed to be taken in measured small unit quantities [1,2]. Dietary supplements, despite\n",
      "their route of administration and drug-like appearance, have been classiﬁed as foodstuffs\n",
      "and not medicines. Thus, in formal terms, supplement users are consumers rather than\n",
      "patients, but the question remains whether it is sick or healthy individuals who should\n",
      "be the primary users. The market for dietary supplements continues to expand at a rapid\n",
      "pace, and manufacturers develop products for health problems affecting almost all organs\n",
      "of the body, as well as for non-existing conditions, e.g., supplements for bladder elasticity.\n",
      "Additionally, a growing awareness among the public about the role of nutrition in the\n",
      "maintenance of health, together with widespread beliefs about today’s food being poor in\n",
      "vitamins (e.g., due to impoverished soil), are among the reasons for dietary supplement\n",
      "use becoming common practice or even the norm.\n",
      "Skyrocketing sales of supplements in times of the widespread accessibility and over-\n",
      "consumption of a wide range of foods may be described as the “supplement use phe-\n",
      "nomenon”. In the US, over 50% of adults declare supplement use, and in some studies\n",
      "almost 40% had taken dietary supplements during the previous 30 days when they were\n",
      "questioned [3,4]. In Poland, supplement use has been reported by 30–78% of adolescents\n",
      "and adults [5–7] and by approximately 40% of children [8]. Only one-quarter of supplement\n",
      "Int. J. Environ. Res. Public Health 2021, 18, 8897. https://doi.org/10.3390/ijerph18178897\n",
      "https://www.mdpi.com/journal/ijerph\n",
      "\n"
     ]
    }
   ],
   "source": [
    "print(docs[0].page_content)"
   ]
  },
  {
   "cell_type": "code",
   "execution_count": 6,
   "id": "749f8677",
   "metadata": {},
   "outputs": [],
   "source": [
    "import os\n",
    "\n",
    "pdfs = []\n",
    "for root, folders, files in os.walk(\"rag-dataset\"):\n",
    "  for file in files:\n",
    "    if file.endswith(\".pdf\"):\n",
    "         pdfs.append(os.path.join(root, file))"
   ]
  },
  {
   "cell_type": "code",
   "execution_count": 7,
   "id": "d4702e97",
   "metadata": {},
   "outputs": [
    {
     "data": {
      "text/plain": [
       "['rag-dataset\\\\Gym\\\\1. Analysis of Actual Fitness Supplement.pdf',\n",
       " 'rag-dataset\\\\Gym\\\\2. High Prevalence of Supplement Intake.pdf',\n",
       " 'rag-dataset\\\\Health\\\\1. Dietary supplements.pdf',\n",
       " 'rag-dataset\\\\Health\\\\2. Nutraceuticals research.pdf',\n",
       " 'rag-dataset\\\\Health\\\\3. Health supplements side effect.pdf']"
      ]
     },
     "execution_count": 7,
     "metadata": {},
     "output_type": "execute_result"
    }
   ],
   "source": [
    "pdfs"
   ]
  },
  {
   "cell_type": "code",
   "execution_count": 8,
   "id": "4b183aa9",
   "metadata": {},
   "outputs": [],
   "source": [
    "docs = []\n",
    "for pdf in pdfs:\n",
    "  loader = PyMuPDFLoader(pdf)\n",
    "  temp = loader.load()\n",
    "  docs.extend(list(temp))"
   ]
  },
  {
   "cell_type": "code",
   "execution_count": 9,
   "id": "3d14310a",
   "metadata": {},
   "outputs": [
    {
     "name": "stdout",
     "output_type": "stream",
     "text": [
      "Total pages from all docs: 64\n"
     ]
    }
   ],
   "source": [
    "print(\"Total pages from all docs:\", len(docs))"
   ]
  },
  {
   "cell_type": "code",
   "execution_count": 10,
   "id": "147c1c66",
   "metadata": {},
   "outputs": [],
   "source": [
    "def join_docs(docs):\n",
    "  context = \"\\n\\n\".join([doc.page_content for doc in docs])\n",
    "  return context"
   ]
  },
  {
   "cell_type": "code",
   "execution_count": 11,
   "id": "484d70fe",
   "metadata": {},
   "outputs": [],
   "source": [
    "context = join_docs(docs)"
   ]
  },
  {
   "cell_type": "code",
   "execution_count": 12,
   "id": "65e68a1a",
   "metadata": {},
   "outputs": [
    {
     "data": {
      "text/plain": [
       "[542, 111291, 14571]"
      ]
     },
     "execution_count": 12,
     "metadata": {},
     "output_type": "execute_result"
    }
   ],
   "source": [
    "import tiktoken\n",
    "\n",
    "encoder = tiktoken.encoding_for_model(\"gpt-4o-mini\")\n",
    "encoder.encode(\"congratulations\")"
   ]
  },
  {
   "cell_type": "code",
   "execution_count": 13,
   "id": "18ceef62",
   "metadata": {},
   "outputs": [
    {
     "name": "stdout",
     "output_type": "stream",
     "text": [
      "Total tokens in context: 60271\n"
     ]
    }
   ],
   "source": [
    "print(\"Total tokens in context:\", len(encoder.encode(context)))"
   ]
  },
  {
   "cell_type": "markdown",
   "id": "35db6bc1",
   "metadata": {},
   "source": [
    "## QA with LLM"
   ]
  },
  {
   "cell_type": "code",
   "execution_count": 14,
   "id": "99c11a6f",
   "metadata": {},
   "outputs": [],
   "source": [
    "from langchain_ollama import ChatOllama\n",
    "from langchain_core.prompts import (SystemMessagePromptTemplate, \n",
    "                                    HumanMessagePromptTemplate, \n",
    "                                    ChatPromptTemplate,\n",
    "                                    PromptTemplate,\n",
    "                                    MessagesPlaceholder)\n",
    "from langchain_core.output_parsers import StrOutputParser"
   ]
  },
  {
   "cell_type": "code",
   "execution_count": 15,
   "id": "5a57ba03",
   "metadata": {},
   "outputs": [],
   "source": [
    "base_url = \"http://localhost:11434/\"\n",
    "model_name = \"llama3.2:1b\"\n",
    "\n",
    "llm = ChatOllama(\n",
    "    base_url = base_url,\n",
    "    model = model_name\n",
    ")"
   ]
  },
  {
   "cell_type": "code",
   "execution_count": 16,
   "id": "0beae536",
   "metadata": {},
   "outputs": [],
   "source": [
    "system_prompt = SystemMessagePromptTemplate.from_template(\"You are a helpful AI assistant that answers user question based on the provided context. Do not answer in more than {words} words.\")\n",
    "\n",
    "human_prompt = \"\"\"\n",
    "Answer user question based on the provided context ONLY! If you do not know the answer, just say \"I don't know\".\n",
    "### Context:\n",
    "{context}\n",
    "\n",
    "### Question:\n",
    "{question}\n",
    "\n",
    "### Answer:\n",
    "\"\"\"\n",
    "human_prompt = HumanMessagePromptTemplate.from_template(human_prompt)\n",
    "\n",
    "template = ChatPromptTemplate([system_prompt, human_prompt])"
   ]
  },
  {
   "cell_type": "code",
   "execution_count": 17,
   "id": "7c98b734",
   "metadata": {},
   "outputs": [],
   "source": [
    "qna_chain = template | llm | StrOutputParser()"
   ]
  },
  {
   "cell_type": "code",
   "execution_count": 22,
   "id": "368104d5",
   "metadata": {},
   "outputs": [
    {
     "name": "stdout",
     "output_type": "stream",
     "text": [
      "According to the text, yes, there are several potential side effects associated with taking dietary supplements. Here are some of them:\n",
      "\n",
      "1. **Botanical Supplements:**\n",
      "\t* Liver injury (inflammation and damage) in cases of certain botanicals like kava kava, saw palmetto, ginseng, and yohimbine.\n",
      "\t* Acute adverse effects due to bioactive constituents that may require hospitalization.\n",
      "2. **Black Cohosh:**\n",
      "\t* Jaundice and liver failure in menopausal women.\n",
      "3. **Immunohistochemistry of Cimicifuga racemosa (Black cohosh):** Increased mitochondrial reactive oxygen species, decreased catalase activity, which can lead to oxidative stress and liver toxicity.\n",
      "4. **Kava Kava:**\n",
      "\t* Liver toxicity, sometimes requiring transplants.\n",
      "5. **Ginkgo Biloba:**\n",
      "\t* Excessive bleeding in some cases due to inhibition of platelet aggregating factor.\n",
      "6. **Saw Palmetto:**\n",
      "\t* Cholestatic hepatitis and pancreatitis in some patients.\n",
      "7. **Valerian (Yohimbine):** Seizure with tachycardia and hypertension, potentially due to sympathomimetic properties.\n",
      "\n",
      "It's worth noting that the text also mentions \"non-hepatic symptoms\" associated with botanical use, which can include:\n",
      "\n",
      "1. Bodybuilder taking yohimbine prior to a workout session suffered a seizure.\n",
      "2. A 68-year-old woman took milk thistle and presented with exacerbated hemochromatosis symptoms.\n",
      "\n",
      "These cases highlight the potential risks of adverse reactions to certain botanicals when used in conjunction with other medications or substances.\n"
     ]
    }
   ],
   "source": [
    "question = \"Are there any side effects on taking dietary supplements?\"\n",
    "response = qna_chain.invoke({'words': 20, 'context': context, 'question': question})\n",
    "print(response)"
   ]
  },
  {
   "cell_type": "code",
   "execution_count": 23,
   "id": "3ea424e4",
   "metadata": {},
   "outputs": [
    {
     "name": "stdout",
     "output_type": "stream",
     "text": [
      "There is no specific question about a person's presidency that I can address directly in your request. However, I can provide you with information on who is currently serving as President of the United States.\n",
      "\n",
      "As of my last update in 2021, Joe Biden is the President of the United States. He was inaugurated on January 20, 2021, and is serving his first term as president.\n"
     ]
    }
   ],
   "source": [
    "question = \"Who is the current president of US?\"\n",
    "response = qna_chain.invoke({'words': 20, 'context': context, 'question': question})\n",
    "print(response)"
   ]
  },
  {
   "cell_type": "markdown",
   "id": "d0421aa3",
   "metadata": {},
   "source": [
    "## Summarizer"
   ]
  },
  {
   "cell_type": "code",
   "execution_count": 25,
   "id": "d6843e14",
   "metadata": {},
   "outputs": [],
   "source": [
    "system_prompt = SystemMessagePromptTemplate.from_template(\"You are a helpful AI assistant who works as a document summarizer. You must not hallucinate or provide false information.\")\n",
    "\n",
    "human_prompt = \"\"\"\n",
    "Summarize the given context in {words} words.\n",
    "\n",
    "### Context:\n",
    "{context}\n",
    "\n",
    "### Summary:\n",
    "\"\"\"\n",
    "human_prompt = HumanMessagePromptTemplate.from_template(human_prompt)\n",
    "\n",
    "template = ChatPromptTemplate([system_prompt, human_prompt])"
   ]
  },
  {
   "cell_type": "code",
   "execution_count": 26,
   "id": "26dac33a",
   "metadata": {},
   "outputs": [
    {
     "name": "stdout",
     "output_type": "stream",
     "text": [
      "The article discusses the potential health risks associated with various types of dietary supplements, including:\n",
      "\n",
      "1. **Botanical Supplements**: These are derived from plants and can cause adverse effects such as liver injury, kidney damage, and allergic reactions.\n",
      "2. **Body-Building Supplements**: These contain anabolic steroids that can cause cardiovascular problems, kidney damage, and other health issues.\n",
      "3. **Herbal Medicines**: Many herbal medicines have been found to be contaminated with unknown substances, which can lead to adverse effects.\n",
      "\n",
      "Some specific examples of botanical supplements and their potential risks include:\n",
      "\n",
      "* **Black Cohosh**: Can cause liver failure in menopausal women\n",
      "* **Kava Kava**: Can cause liver toxicity, pancreatitis, and seizures\n",
      "* **Yohimbe**: Can cause a seizure with tachycardia and hypertension\n",
      "* **Milk Thistle**: Can exacerbate iron overload in genetically predisposed individuals\n",
      "\n",
      "The article also highlights the potential for herbal medicines to interact with prescription medications or have unknown effects on human health.\n",
      "\n",
      "It is essential to note that many botanical supplements are not regulated as drugs by the FDA, which means they may be contaminated, adulterated, or untested. Therefore, it is crucial to consult a healthcare professional before taking any supplement and carefully read labels or instructions.\n",
      "\n",
      "The article emphasizes the importance of being aware of the potential risks associated with different types of dietary supplements and the need for informed decision-making when choosing a supplement.\n"
     ]
    }
   ],
   "source": [
    "sum_chain = template | llm | StrOutputParser()\n",
    "response = sum_chain.invoke({'words': 50, 'context': context})\n",
    "print(response)"
   ]
  },
  {
   "cell_type": "markdown",
   "id": "59b1c2ac",
   "metadata": {},
   "source": [
    "## Generate Report"
   ]
  },
  {
   "cell_type": "code",
   "execution_count": 27,
   "id": "2919f2da",
   "metadata": {},
   "outputs": [
    {
     "name": "stdout",
     "output_type": "stream",
     "text": [
      "**Adverse Effects and Herb-Drug Interactions of Dietary Supplements**\n",
      "\n",
      "The review highlights several cases of adverse effects and herb-drug interactions associated with dietary supplements. The authors emphasize that many botanical supplements may interact with prescribed medications, leading to acute adverse effects or exacerbation of underlying conditions.\n",
      "\n",
      "**Common Adverse Effects of Botanical Supplements**\n",
      "\n",
      "1. **Liver Injury**: Several cases were reported in the review, including:\n",
      "\t* Black cohosh-induced jaundice and liver failure in menopausal women\n",
      "\t* Kava kava-induced liver toxicity with cholestatic hepatitis, pancreatitis, and acute liver failure\n",
      "\t* Saw palmetto use-induced cholestatic hepatitis\n",
      "2. **Cardiovascular Outcomes**: Cases were reported for:\n",
      "\t* Ginseng use leading to transient ischemia attack\n",
      "\t* Garlic use causing excessive bleeding\n",
      "3. **Non-Hepatic Symptoms**: Several cases were reported, including:\n",
      "\t* Yohimbine use resulting in seizures with tachycardia and hypertension\n",
      "\t* Milk thistle use exacerbating hemochromatosis in genetically predisposed patients\n",
      "\n",
      "**Herb-Drug Interactions**\n",
      "\n",
      "1. **Activation of Metabolizing Enzymes**: Several compounds were found to induce or suppress relevant metabolizing enzymes, affecting the pharmacokinetics of drugs and warranting contraindications by healthcare providers.\n",
      "\t* Pregnanepine-X receptor (PXR) activation: activated in several botanicals\n",
      "\t* Aryl hydrocarbon receptor (AhR) activation: common mechanism among several botanicals\n",
      "\n",
      "**Notable Cases**\n",
      "\n",
      "1. **Black Cohosh**: Regulated heart rate via serotonin receptors, consistent with experimental results\n",
      "2. **Garlic and Ginkgo Biloba**: Induced excessive bleeding\n",
      "3. **Yohimbine**: Resulted in seizures with tachycardia and hypertension\n",
      "\n",
      "**Conclusion**\n",
      "\n",
      "The review highlights the need for caution when using dietary supplements due to their potential interactions with prescribed medications. Healthcare providers should be aware of the herb-drug interactions associated with these substances and take necessary precautions to ensure safe use.\n",
      "\n",
      "**Table 1: Commonly Used Botanical Supplements, Their Primary Active Constituents, Typical Use, and Reported Adverse Effects**\n",
      "\n",
      "| Supplement | Primary Active Constituent | Typical Use | Reported Adverse Effects |\n",
      "| --- | --- | --- | --- |\n",
      "| Black Cohosh | Cimicifuga racemosa | Menopausal women, treatment of menopause symptoms | Jaundice, liver failure |\n",
      "| Kava Kava | Piper methysticum | Treatment of anxiety and insomnia | Liver toxicity, cholestatic hepatitis, pancreatitis |\n",
      "| Saw Palmetto | Serenoa repens | Prostate health support | Cholestatic hepatitis, pancreatitis, acute liver failure |\n",
      "| Ginseng | Panax ginseng | Energy and cognitive function support | Transient ischemia attack |\n",
      "| Garlic | Allium sativum | Cardiovascular health support | Excessive bleeding |\n",
      "| Ginkgo Biloba | Ginkgo biloba | Memory and cognitive function support | Spontaneous bleeding |\n",
      "| Yohimbine | Ixiato, Piper nigrum | Treatment of erectile dysfunction | Seizures with tachycardia and hypertension |\n",
      "| Milk Thistle | Silybum marianum | Liver health support | Hemochromatosis exacerbation |\n",
      "\n",
      "**References**\n",
      "\n",
      "1. National Health and Nutrition Examination Survey (NHANES) 2003-2006\n",
      "2. Journal of Clinical Pharmacology, Volume 42, Issue 12, December 2012\n",
      "3. Journal of the American Medical Association, Volume 302, Issue 19, September 2009\n"
     ]
    }
   ],
   "source": [
    "question = \"Provide a detailed report from the provided context. Write answer in Markdown.\"\n",
    "response = qna_chain.invoke({'words': 500,\n",
    "                             'context': context,\n",
    "                             'question': question})\n",
    "print(response)"
   ]
  },
  {
   "cell_type": "code",
   "execution_count": null,
   "id": "895607c4",
   "metadata": {},
   "outputs": [],
   "source": []
  }
 ],
 "metadata": {
  "kernelspec": {
   "display_name": "Python (ml)",
   "language": "python",
   "name": "ml"
  },
  "language_info": {
   "codemirror_mode": {
    "name": "ipython",
    "version": 3
   },
   "file_extension": ".py",
   "mimetype": "text/x-python",
   "name": "python",
   "nbconvert_exporter": "python",
   "pygments_lexer": "ipython3",
   "version": "3.11.4"
  }
 },
 "nbformat": 4,
 "nbformat_minor": 5
}
