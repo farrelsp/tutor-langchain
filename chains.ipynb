{
 "cells": [
  {
   "cell_type": "code",
   "execution_count": 69,
   "id": "2395eb83",
   "metadata": {},
   "outputs": [
    {
     "data": {
      "text/plain": [
       "'https://api.smith.langchain.com'"
      ]
     },
     "execution_count": 69,
     "metadata": {},
     "output_type": "execute_result"
    }
   ],
   "source": [
    "import os\n",
    "from dotenv import load_dotenv\n",
    "\n",
    "load_dotenv()\n",
    "os.environ[\"LANGSMITH_ENDPOINT\"]"
   ]
  },
  {
   "cell_type": "markdown",
   "id": "0e2b4332",
   "metadata": {},
   "source": [
    "## Sequential chain"
   ]
  },
  {
   "cell_type": "code",
   "execution_count": 10,
   "id": "c02fdbc2",
   "metadata": {},
   "outputs": [
    {
     "name": "stdout",
     "output_type": "stream",
     "text": [
      "Here's what I know about Mars:\n",
      "\n",
      "• Mars is often called the Red Planet because it has reddish colors, which come from iron oxide in the soil.\n",
      "• Mars has a thin atmosphere and it gets really cold at night - sometimes as low as -125°C (-193°F).\n",
      "• We have not sent any humans to Mars yet, but there are plans for future missions to explore and possibly even live on the planet.\n"
     ]
    }
   ],
   "source": [
    "from langchain_ollama import ChatOllama\n",
    "from langchain_core.prompts import (SystemMessagePromptTemplate, \n",
    "                                    HumanMessagePromptTemplate, \n",
    "                                    ChatPromptTemplate)\n",
    "\n",
    "base_url = \"http://localhost:11434/\"\n",
    "model_name = \"llama3.2:1b\"\n",
    "\n",
    "llm = ChatOllama(\n",
    "    base_url = base_url,\n",
    "    model = model_name,\n",
    "    temperature = 0.8,\n",
    "    num_predict = 256\n",
    ")\n",
    "\n",
    "system_prompt = SystemMessagePromptTemplate.from_template(\"You are a {school} teacher. You answer in short sentences.\")\n",
    "human_prompt = HumanMessagePromptTemplate.from_template(\"Tell me about {topic} in {points} points.\")\n",
    "template = ChatPromptTemplate([system_prompt, human_prompt])\n",
    "messages = template.invoke({\"points\": 3, \"topic\": \"Mars\", \"school\": \"elementary school\"})\n",
    "response = llm.invoke(messages)\n",
    "print(response.content)"
   ]
  },
  {
   "cell_type": "code",
   "execution_count": 11,
   "id": "da730f03",
   "metadata": {},
   "outputs": [
    {
     "data": {
      "text/plain": [
       "ChatPromptTemplate(input_variables=['points', 'school', 'topic'], input_types={}, partial_variables={}, messages=[SystemMessagePromptTemplate(prompt=PromptTemplate(input_variables=['school'], input_types={}, partial_variables={}, template='You are a {school} teacher. You answer in short sentences.'), additional_kwargs={}), HumanMessagePromptTemplate(prompt=PromptTemplate(input_variables=['points', 'topic'], input_types={}, partial_variables={}, template='Tell me about {topic} in {points} points.'), additional_kwargs={})])\n",
       "| ChatOllama(model='llama3.2:1b', num_predict=256, temperature=0.8, base_url='http://localhost:11434/')"
      ]
     },
     "execution_count": 11,
     "metadata": {},
     "output_type": "execute_result"
    }
   ],
   "source": [
    "chain = template | llm\n",
    "chain"
   ]
  },
  {
   "cell_type": "code",
   "execution_count": 12,
   "id": "f86da8f6",
   "metadata": {},
   "outputs": [
    {
     "name": "stdout",
     "output_type": "stream",
     "text": [
      "Here's what I know about Mars:\n",
      "\n",
      "Mars is a big planet. It's closest to Earth.\n",
      "People want to live on Mars because it's like a new playground.\n",
      "It takes Mars a long time to get there, so it can't be visited yet!\n"
     ]
    }
   ],
   "source": [
    "response = chain.invoke({\"points\": 3, \"topic\": \"Mars\", \"school\": \"elementary school\"})\n",
    "print(response.content)"
   ]
  },
  {
   "cell_type": "code",
   "execution_count": 13,
   "id": "2b3bedba",
   "metadata": {},
   "outputs": [
    {
     "data": {
      "text/plain": [
       "AIMessage(content=\"Here's what I know about Mars:\\n\\nMars is a big planet. It's closest to Earth.\\nPeople want to live on Mars because it's like a new playground.\\nIt takes Mars a long time to get there, so it can't be visited yet!\", additional_kwargs={}, response_metadata={'model': 'llama3.2:1b', 'created_at': '2025-06-24T03:33:52.7990874Z', 'done': True, 'done_reason': 'stop', 'total_duration': 2335653200, 'load_duration': 22516100, 'prompt_eval_count': 47, 'prompt_eval_duration': 44750100, 'eval_count': 54, 'eval_duration': 2267334500, 'message': Message(role='assistant', content='', images=None, tool_calls=None)}, id='run-acc2acfa-6dae-4fed-a75f-3369f4a1f77a-0', usage_metadata={'input_tokens': 47, 'output_tokens': 54, 'total_tokens': 101})"
      ]
     },
     "execution_count": 13,
     "metadata": {},
     "output_type": "execute_result"
    }
   ],
   "source": [
    "response"
   ]
  },
  {
   "cell_type": "markdown",
   "id": "3ed0be58",
   "metadata": {},
   "source": [
    "### With stroutputparser\n",
    "To get the content from the response without other metadata."
   ]
  },
  {
   "cell_type": "code",
   "execution_count": 14,
   "id": "b30116c3",
   "metadata": {},
   "outputs": [
    {
     "name": "stdout",
     "output_type": "stream",
     "text": [
      "Mars is a planet, it's red and rocky. \n",
      "\n",
      "1. Scientists think there might have been water on Mars a long time ago.\n",
      "\n",
      "2. Mars has big valleys called Valles Marineris, they're really deep.\n",
      "\n",
      "3. There's evidence of lakes and rivers on Mars, but now they've dried up.\n"
     ]
    }
   ],
   "source": [
    "from langchain_core.output_parsers import StrOutputParser\n",
    "\n",
    "chain = template | llm | StrOutputParser()\n",
    "\n",
    "response = chain.invoke({\"points\": 3, \"topic\": \"Mars\", \"school\": \"elementary school\"})\n",
    "print(response)"
   ]
  },
  {
   "cell_type": "code",
   "execution_count": 17,
   "id": "85963ffa",
   "metadata": {},
   "outputs": [
    {
     "name": "stdout",
     "output_type": "stream",
     "text": [
      "Here's what I know about Mars:\n",
      "\n",
      "* Mars is the fourth planet from the Sun and it's really, really far away.\n",
      "* Scientists think that Mars might have had water on it a long time ago, but now it's mostly dry because of the cold temperatures.\n",
      "* There are volcanoes on Mars and rocks on its surface that are shaped like craters - it's pretty cool!\n"
     ]
    }
   ],
   "source": [
    "from langchain_ollama import ChatOllama\n",
    "from langchain_core.prompts import (SystemMessagePromptTemplate, \n",
    "                                    HumanMessagePromptTemplate, \n",
    "                                    ChatPromptTemplate)\n",
    "from langchain_core.output_parsers import StrOutputParser\n",
    "\n",
    "base_url = \"http://localhost:11434/\"\n",
    "model_name = \"llama3.2:1b\"\n",
    "\n",
    "llm = ChatOllama(\n",
    "    base_url = base_url,\n",
    "    model = model_name\n",
    ")\n",
    "\n",
    "system_prompt = SystemMessagePromptTemplate.from_template(\"You are a {school} teacher. You answer in short sentences.\")\n",
    "human_prompt = HumanMessagePromptTemplate.from_template(\"Tell me about {topic} in {points} points.\")\n",
    "template = ChatPromptTemplate([system_prompt, human_prompt])\n",
    "\n",
    "chain = template | llm | StrOutputParser()\n",
    "\n",
    "response = chain.invoke({\"points\": 3, \"topic\": \"Mars\", \"school\": \"elementary school\"})\n",
    "print(response)"
   ]
  },
  {
   "cell_type": "markdown",
   "id": "d6a04d39",
   "metadata": {},
   "source": [
    "### Multiple chains"
   ]
  },
  {
   "cell_type": "code",
   "execution_count": null,
   "id": "fc993e66",
   "metadata": {},
   "outputs": [],
   "source": [
    "analyze_prompt = ChatPromptTemplate.from_template(\"\"\"\n",
    "Analyze this text: \n",
    "{response}\n",
    "\n",
    "You need to tell me how difficult it is to understand.\n",
    "Answer me in one sentence only.\n",
    "\"\"\")"
   ]
  },
  {
   "cell_type": "code",
   "execution_count": 27,
   "id": "c56ddd4c",
   "metadata": {},
   "outputs": [
    {
     "name": "stdout",
     "output_type": "stream",
     "text": [
      "The difficulty level of the text in understanding its content is moderate.\n"
     ]
    }
   ],
   "source": [
    "chain2 = analyze_prompt | llm | StrOutputParser()\n",
    "response = chain2.invoke({\"response\": response})\n",
    "print(response)"
   ]
  },
  {
   "cell_type": "code",
   "execution_count": 28,
   "id": "2a50a651",
   "metadata": {},
   "outputs": [
    {
     "name": "stdout",
     "output_type": "stream",
     "text": [
      "The text requires a basic level of knowledge about Mars, covering its physical features, geological history, and scientific significance, making it moderately accessible but not extremely complex.\n"
     ]
    }
   ],
   "source": [
    "composed_chain = {\"response\": chain} | chain2\n",
    "response = composed_chain.invoke({\"points\": 3, \"topic\": \"Mars\", \"school\": \"elementary school\"})\n",
    "print(response)"
   ]
  },
  {
   "cell_type": "markdown",
   "id": "588b1dac",
   "metadata": {},
   "source": [
    "## Parallel chains"
   ]
  },
  {
   "cell_type": "code",
   "execution_count": 29,
   "id": "1e16ba4c",
   "metadata": {},
   "outputs": [],
   "source": [
    "from langchain_ollama import ChatOllama\n",
    "from langchain_core.prompts import (SystemMessagePromptTemplate, \n",
    "                                    HumanMessagePromptTemplate, \n",
    "                                    ChatPromptTemplate)\n",
    "from langchain_core.output_parsers import StrOutputParser\n",
    "\n",
    "base_url = \"http://localhost:11434/\"\n",
    "model_name = \"llama3.2:1b\"\n",
    "\n",
    "llm = ChatOllama(\n",
    "    base_url = base_url,\n",
    "    model = model_name\n",
    ")"
   ]
  },
  {
   "cell_type": "code",
   "execution_count": 30,
   "id": "cb5b7d7d",
   "metadata": {},
   "outputs": [
    {
     "name": "stdout",
     "output_type": "stream",
     "text": [
      "Here are three key facts about the solar system:\n",
      "\n",
      "1. **The Sun is at the center**: The Sun is the star at the center of our solar system, and it's what makes all the planets warm and habitable.\n",
      "2. **The planets have unique features**: Each planet in our solar system has its own distinct characteristics, such as Jupiter's massive size or Earth's ability to support life.\n",
      "3. **Asteroids and comets are also part of the solar system**: Asteroids are rocky objects that orbit around the Sun, while comets are icy bodies that release gas and dust as they approach the inner Solar System.\n"
     ]
    }
   ],
   "source": [
    "system_prompt = SystemMessagePromptTemplate.from_template(\"You are a helpful assistant. You answer in short sentences.\")\n",
    "human_prompt = HumanMessagePromptTemplate.from_template(\"Tell me facts about {topic} in {points} points.\")\n",
    "template = ChatPromptTemplate([system_prompt, human_prompt])\n",
    "\n",
    "fact_chain = template | llm | StrOutputParser()\n",
    "\n",
    "response = fact_chain.invoke({\"points\": 3, \"topic\": \"solar system\"})\n",
    "print(response)"
   ]
  },
  {
   "cell_type": "code",
   "execution_count": 31,
   "id": "4cdd9cca",
   "metadata": {},
   "outputs": [
    {
     "name": "stdout",
     "output_type": "stream",
     "text": [
      "The sun at the center shines bright,\n",
      "A solar system spinning with equal might.\n"
     ]
    }
   ],
   "source": [
    "human_prompt = HumanMessagePromptTemplate.from_template(\"Write me a poem about {topic} in {lines} lines.\")\n",
    "template = ChatPromptTemplate([system_prompt, human_prompt])\n",
    "\n",
    "poem_chain = template | llm | StrOutputParser()\n",
    "\n",
    "response = poem_chain.invoke({\"lines\": 2, \"topic\": \"solar system\"})\n",
    "print(response)"
   ]
  },
  {
   "cell_type": "code",
   "execution_count": 32,
   "id": "6ec54bc3",
   "metadata": {},
   "outputs": [
    {
     "data": {
      "text/plain": [
       "{\n",
       "  fact: ChatPromptTemplate(input_variables=['points', 'topic'], input_types={}, partial_variables={}, messages=[SystemMessagePromptTemplate(prompt=PromptTemplate(input_variables=[], input_types={}, partial_variables={}, template='You are a helpful assistant. You answer in short sentences.'), additional_kwargs={}), HumanMessagePromptTemplate(prompt=PromptTemplate(input_variables=['points', 'topic'], input_types={}, partial_variables={}, template='Tell me facts about {topic} in {points} points.'), additional_kwargs={})])\n",
       "        | ChatOllama(model='llama3.2:1b', base_url='http://localhost:11434/')\n",
       "        | StrOutputParser(),\n",
       "  poem: ChatPromptTemplate(input_variables=['lines', 'topic'], input_types={}, partial_variables={}, messages=[SystemMessagePromptTemplate(prompt=PromptTemplate(input_variables=[], input_types={}, partial_variables={}, template='You are a helpful assistant. You answer in short sentences.'), additional_kwargs={}), HumanMessagePromptTemplate(prompt=PromptTemplate(input_variables=['lines', 'topic'], input_types={}, partial_variables={}, template='Write me a poem about {topic} in {lines} lines.'), additional_kwargs={})])\n",
       "        | ChatOllama(model='llama3.2:1b', base_url='http://localhost:11434/')\n",
       "        | StrOutputParser()\n",
       "}"
      ]
     },
     "execution_count": 32,
     "metadata": {},
     "output_type": "execute_result"
    }
   ],
   "source": [
    "from langchain_core.runnables import RunnableParallel\n",
    "\n",
    "parallel_chain = RunnableParallel(fact=fact_chain,\n",
    "                                  poem=poem_chain)\n",
    "parallel_chain"
   ]
  },
  {
   "cell_type": "code",
   "execution_count": null,
   "id": "382d099b",
   "metadata": {},
   "outputs": [
    {
     "name": "stdout",
     "output_type": "stream",
     "text": [
      "Fact chain output:\n",
      "Here are three interesting facts about the solar system:\n",
      "\n",
      "• The sun is the center of our solar system, and it makes up about 99.8% of its total mass.\n",
      "• Pluto was previously considered the ninth planet in our solar system but has been reclassified as a dwarf planet by the International Astronomical Union (IAU).\n",
      "• Venus rotates in the opposite direction of most other planets in our solar system, a phenomenon known as retrograde rotation.\n",
      "\n",
      "Poem chain output:\n",
      "The sun at center, shining bright\n",
      "Planets orbit around, in celestial delight\n"
     ]
    }
   ],
   "source": [
    "response = parallel_chain.invoke({\n",
    "  \"points\": 3,\n",
    "  \"lines\": 2, \n",
    "  \"topic\": \"solar system\"\n",
    "})\n",
    "\n",
    "print(\"Fact chain output:\")\n",
    "print(response['fact'])\n",
    "print()\n",
    "print(\"Poem chain output:\")\n",
    "print(response['poem'])\n"
   ]
  },
  {
   "cell_type": "markdown",
   "id": "45a618fd",
   "metadata": {},
   "source": [
    "## Chain Router\n",
    "The router chain is used to route the output of a previous runnable to the next runnable based on the output of the previous runnable."
   ]
  },
  {
   "cell_type": "code",
   "execution_count": 35,
   "id": "6b155647",
   "metadata": {},
   "outputs": [
    {
     "data": {
      "text/plain": [
       "'Negative'"
      ]
     },
     "execution_count": 35,
     "metadata": {},
     "output_type": "execute_result"
    }
   ],
   "source": [
    "prompt = \"\"\"\n",
    "Given the user review below, classify it as either being about \"Positive\" or \"Negative\".\n",
    "Do not respond with more than one word.\n",
    "\n",
    "Review: {review}\n",
    "Classification:\n",
    "\"\"\"\n",
    "\n",
    "template = ChatPromptTemplate.from_template(prompt)\n",
    "\n",
    "chain = template | llm | StrOutputParser()\n",
    "review = \"I am not happy with the service. It is not good.\"\n",
    "chain.invoke({'review': review})"
   ]
  },
  {
   "cell_type": "code",
   "execution_count": 48,
   "id": "d80e7db7",
   "metadata": {},
   "outputs": [],
   "source": [
    "positive_prompt = \"\"\"\n",
    "You are expert in writing reply for positive reviews.\n",
    "You need to encourage the user to share their experience on social media.\n",
    "Review: {review}\n",
    "Answer:\n",
    "\"\"\"\n",
    "\n",
    "positive_template = ChatPromptTemplate.from_template(positive_prompt)\n",
    "positive_chain = positive_template | llm | StrOutputParser()"
   ]
  },
  {
   "cell_type": "code",
   "execution_count": 49,
   "id": "3e56bb6e",
   "metadata": {},
   "outputs": [],
   "source": [
    "negative_prompt = \"\"\"\n",
    "You are expert in writing reply for negative reviews.\n",
    "You need first to apologize for the inconvenience caused to the user.\n",
    "You need to encourage the user to share their concern on following email:'farrel@gmail.com'.\n",
    "Review: {review}\n",
    "Answer:\n",
    "\"\"\"\n",
    "\n",
    "negative_template = ChatPromptTemplate.from_template(negative_prompt)\n",
    "negative_chain = negative_template | llm | StrOutputParser()"
   ]
  },
  {
   "cell_type": "code",
   "execution_count": 50,
   "id": "94474f12",
   "metadata": {},
   "outputs": [],
   "source": [
    "def route(info):\n",
    "  sentiment = info[\"sentiment\"].lower()\n",
    "  if \"positive\" in sentiment:\n",
    "    return positive_chain\n",
    "  else:\n",
    "    return negative_chain"
   ]
  },
  {
   "cell_type": "code",
   "execution_count": 51,
   "id": "98d8f09f",
   "metadata": {},
   "outputs": [
    {
     "data": {
      "text/plain": [
       "ChatPromptTemplate(input_variables=['review'], input_types={}, partial_variables={}, messages=[HumanMessagePromptTemplate(prompt=PromptTemplate(input_variables=['review'], input_types={}, partial_variables={}, template='\\nYou are expert in writing reply for positive reviews.\\nYou need to encourage the user to share their experience on social media.\\nReview: {review}\\nAnswer:\\n'), additional_kwargs={})])\n",
       "| ChatOllama(model='llama3.2:1b', base_url='http://localhost:11434/')\n",
       "| StrOutputParser()"
      ]
     },
     "execution_count": 51,
     "metadata": {},
     "output_type": "execute_result"
    }
   ],
   "source": [
    "route({\"sentiment\": \"Positive\"})"
   ]
  },
  {
   "cell_type": "code",
   "execution_count": 52,
   "id": "13fd716c",
   "metadata": {},
   "outputs": [],
   "source": [
    "from langchain_core.runnables import RunnableLambda\n",
    "\n",
    "full_chain = {\"sentiment\": chain, \"review\": lambda x: x[\"review\"]} | RunnableLambda(route)"
   ]
  },
  {
   "cell_type": "code",
   "execution_count": 53,
   "id": "2f629ecc",
   "metadata": {},
   "outputs": [
    {
     "name": "stdout",
     "output_type": "stream",
     "text": [
      "Here's a potential response:\n",
      "\n",
      "\"I'm so sorry to hear that you're not satisfied with our service. I can only imagine how frustrating it must be when things don't meet your expectations. Please know that we take all complaints seriously and are truly disappointed to hear that we fell short of your standards.\n",
      "\n",
      "I'd like to help resolve this issue, if there's anything specific that didn't meet your expectations or if you could provide more details about the problem, I'd be more than happy to listen and assist in any way possible. Your satisfaction is our top priority, and I'm committed to making things right.\n",
      "\n",
      "If you have the time, could you please contact me directly at farrel@gmail.com so we can discuss this further? We value your feedback and would love the opportunity to make things right. Thank you for sharing your concerns with us.\"\n",
      "\n",
      "This response:\n",
      "\n",
      "1. Apologizes sincerely for the inconvenience caused\n",
      "2. Acknowledges the user's frustration and disappointment\n",
      "3. Expresses empathy towards the user's situation\n",
      "4. Offers a clear call-to-action (contacting the writer directly) to resolve the issue\n",
      "5. Includes a specific email address where the user can reach out with their concerns\n"
     ]
    }
   ],
   "source": [
    "# review = \"Thank you so much for providing such a great plateform for learning. I am really happy with the service.\"\n",
    "review = \"I am not happy with the service. It is not good.\"\n",
    "\n",
    "response = full_chain.invoke({\"review\": review})\n",
    "print(response)"
   ]
  },
  {
   "cell_type": "markdown",
   "id": "aced0c8c",
   "metadata": {},
   "source": [
    "## Custom runnable chain with RunnablePassthrough and RunnableLambda"
   ]
  },
  {
   "cell_type": "code",
   "execution_count": 54,
   "id": "833faa4e",
   "metadata": {},
   "outputs": [],
   "source": [
    "from langchain_core.runnables import RunnableLambda, RunnablePassthrough"
   ]
  },
  {
   "cell_type": "code",
   "execution_count": 55,
   "id": "adbc00c5",
   "metadata": {},
   "outputs": [],
   "source": [
    "def char_count(text):\n",
    "  return len(text)\n",
    "\n",
    "def word_count(text):\n",
    "  return len(text.split())"
   ]
  },
  {
   "cell_type": "code",
   "execution_count": 58,
   "id": "79c02c52",
   "metadata": {},
   "outputs": [],
   "source": [
    "prompt = ChatPromptTemplate.from_template(\"Explain these inputs: {input1} and {input2} in three sentences.\")"
   ]
  },
  {
   "cell_type": "code",
   "execution_count": 59,
   "id": "5e6d7a16",
   "metadata": {},
   "outputs": [
    {
     "name": "stdout",
     "output_type": "stream",
     "text": [
      "Here are three sentences explaining Earth and Mars:\n",
      "\n",
      "Earth is the third planet from the Sun, a terrestrial body with a solid surface that supports life, featuring diverse climates, oceans, and landscapes, including continents, mountains, and vast deserts. Mars, on the other hand, is a rocky, barren world with a thin atmosphere, also known as the Red Planet due to its reddish appearance caused by iron oxide in the soil, with evidence of past water activity and potential habitability. Both Earth and Mars have captivated human curiosity and exploration efforts, with ongoing research and missions seeking to understand their unique characteristics and potentially one day establish human settlements or other life-supporting systems.\n"
     ]
    }
   ],
   "source": [
    "chain = prompt | llm | StrOutputParser()\n",
    "response = chain.invoke({\"input1\": \"Earth\", \n",
    "                         \"input2\": \"Mars\"})\n",
    "print(response)"
   ]
  },
  {
   "cell_type": "code",
   "execution_count": 61,
   "id": "df96082a",
   "metadata": {},
   "outputs": [
    {
     "name": "stdout",
     "output_type": "stream",
     "text": [
      "{'char_count': 590, 'word_count': 91, 'output': 'Here are three sentences explaining the relationship between Earth and Mars:\\n\\nEarth is a terrestrial planet, meaning it has a solid surface and atmosphere, while Mars is also a rocky planet with its own thin atmosphere. Both planets share some similarities, such as their similar size and mass, but they have distinct differences in terms of their composition, geology, and atmospheric conditions. Despite being separated by over 140 million miles, Earth and Mars have been extensively studied by spacecraft, providing valuable insights into the formation and evolution of our solar system.'}\n"
     ]
    }
   ],
   "source": [
    "chain = prompt | llm | StrOutputParser() | {\"char_count\": RunnableLambda(char_count),\n",
    "                                            \"word_count\": RunnableLambda(word_count),\n",
    "                                            \"output\": RunnablePassthrough()}\n",
    "\n",
    "response = chain.invoke({\"input1\": \"Earth\", \n",
    "                         \"input2\": \"Mars\"})\n",
    "print(response)"
   ]
  },
  {
   "cell_type": "code",
   "execution_count": 64,
   "id": "d60d6594",
   "metadata": {},
   "outputs": [
    {
     "name": "stdout",
     "output_type": "stream",
     "text": [
      "Output:\n",
      "Here are three sentences explaining the relationship between Earth and Mars:\n",
      "\n",
      "Earth is a terrestrial planet, meaning it has a solid surface and atmosphere, while Mars is also a rocky planet with its own thin atmosphere. Both planets share some similarities, such as their similar size and mass, but they have distinct differences in terms of their composition, geology, and atmospheric conditions. Despite being separated by over 140 million miles, Earth and Mars have been extensively studied by spacecraft, providing valuable insights into the formation and evolution of our solar system.\n",
      "\n",
      "Char count: 590\n",
      "Word count: 91\n"
     ]
    }
   ],
   "source": [
    "print(\"Output:\")\n",
    "print(response['output'])\n",
    "print()\n",
    "print(f\"Char count: {response['char_count']}\")\n",
    "print(f\"Word count: {response['word_count']}\")"
   ]
  },
  {
   "cell_type": "markdown",
   "id": "53d77a7f",
   "metadata": {},
   "source": [
    "## Custom chain with @chain decorator"
   ]
  },
  {
   "cell_type": "code",
   "execution_count": 65,
   "id": "666f4f6f",
   "metadata": {},
   "outputs": [],
   "source": [
    "from langchain_core.runnables import chain"
   ]
  },
  {
   "cell_type": "code",
   "execution_count": 66,
   "id": "554d8098",
   "metadata": {},
   "outputs": [],
   "source": [
    "@chain\n",
    "def custom_chain(params):\n",
    "  return {\n",
    "    \"fact\": fact_chain.invoke(params),\n",
    "    \"poem\": poem_chain.invoke(params)\n",
    "  }"
   ]
  },
  {
   "cell_type": "code",
   "execution_count": 68,
   "id": "ce7814df",
   "metadata": {},
   "outputs": [
    {
     "name": "stdout",
     "output_type": "stream",
     "text": [
      "Fact chain output:\n",
      "Here are three key facts about the solar system:\n",
      "\n",
      "1. Our solar system has eight planets, plus dwarf planets and other smaller bodies like asteroids and comets.\n",
      "2. The Sun is at the center of our solar system, providing light and heat to the planets, which are held in orbit around it due to gravity.\n",
      "3. Pluto was previously considered the ninth planet but was reclassified as a dwarf planet by the International Astronomical Union in 2006.\n",
      "\n",
      "Poem chain output:\n",
      "The sun is the center bright,\n",
      "Stars and planets dance through night.\n"
     ]
    }
   ],
   "source": [
    "params = {\n",
    "  \"points\": 3,\n",
    "  \"lines\": 2, \n",
    "  \"topic\": \"solar system\"\n",
    "}\n",
    "\n",
    "response = custom_chain.invoke(params)\n",
    "\n",
    "print(\"Fact chain output:\")\n",
    "print(response['fact'])\n",
    "print()\n",
    "print(\"Poem chain output:\")\n",
    "print(response['poem'])\n"
   ]
  },
  {
   "cell_type": "code",
   "execution_count": null,
   "id": "e897dcc1",
   "metadata": {},
   "outputs": [],
   "source": []
  }
 ],
 "metadata": {
  "kernelspec": {
   "display_name": "Python (ml)",
   "language": "python",
   "name": "ml"
  },
  "language_info": {
   "codemirror_mode": {
    "name": "ipython",
    "version": 3
   },
   "file_extension": ".py",
   "mimetype": "text/x-python",
   "name": "python",
   "nbconvert_exporter": "python",
   "pygments_lexer": "ipython3",
   "version": "3.11.4"
  }
 },
 "nbformat": 4,
 "nbformat_minor": 5
}
